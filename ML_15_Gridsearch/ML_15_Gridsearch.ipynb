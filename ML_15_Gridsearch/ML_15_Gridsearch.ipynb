{
  "nbformat": 4,
  "nbformat_minor": 0,
  "metadata": {
    "colab": {
      "provenance": []
    },
    "kernelspec": {
      "name": "python3",
      "display_name": "Python 3"
    },
    "language_info": {
      "name": "python"
    }
  },
  "cells": [
    {
      "cell_type": "code",
      "execution_count": null,
      "metadata": {
        "id": "-tppEClZGSrB"
      },
      "outputs": [],
      "source": []
    },
    {
      "cell_type": "markdown",
      "source": [
        "# 1. Definition\n",
        "# Grid search\n",
        "**Grid search** is a hyperparameter tuning technique used in machine learning to optimize the performance of a model by systematically evaluating a range of hyperparameter values. It involves the following steps:\n"
      ],
      "metadata": {
        "id": "mptzKEnZGYi-"
      }
    },
    {
      "cell_type": "markdown",
      "source": [
        "#### 1. Define Hyperparameter Grid:\n",
        "Specify a set of hyperparameter values to explore for each hyperparameter. This forms a grid where each point represents a unique combination of hyperparameters.\n",
        "\n",
        "#### 2. Train and Evaluate Models:\n",
        "For each combination of hyperparameters in the grid, train a machine learning model on the training data and evaluate its performance using a validation set or cross-validation.\n",
        "\n",
        "#### 3. Select the Best Hyperparameters:\n",
        "Identify the combination of hyperparameters that results in the best performance according to a specified metric (e.g., accuracy, F1 score, mean squared error).\n",
        "\n",
        "Grid search can be computationally expensive, especially if the grid is large and the model training is time-consuming. Despite this, it is widely used because it thoroughly explores the specified hyperparameter space."
      ],
      "metadata": {
        "id": "Jxj4JfSXHEN6"
      }
    }
  ]
}