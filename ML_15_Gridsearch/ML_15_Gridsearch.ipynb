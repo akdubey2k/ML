{
  "nbformat": 4,
  "nbformat_minor": 0,
  "metadata": {
    "colab": {
      "provenance": []
    },
    "kernelspec": {
      "name": "python3",
      "display_name": "Python 3"
    },
    "language_info": {
      "name": "python"
    }
  },
  "cells": [
    {
      "cell_type": "markdown",
      "source": [
        "# 1. Definition\n",
        "# Grid search\n",
        "**Grid search** is a hyperparameter tuning technique used in machine learning to optimize the performance of a model by systematically evaluating a range of hyperparameter values. It involves the following steps:\n"
      ],
      "metadata": {
        "id": "mptzKEnZGYi-"
      }
    },
    {
      "cell_type": "markdown",
      "source": [
        "#### 1. Define Hyperparameter Grid:\n",
        "Specify a set of hyperparameter values to explore for each hyperparameter. This forms a grid where each point represents a unique combination of hyperparameters.\n",
        "\n",
        "#### 2. Train and Evaluate Models:\n",
        "For each combination of hyperparameters in the grid, train a machine learning model on the training data and evaluate its performance using a validation set or cross-validation.\n",
        "\n",
        "#### 3. Select the Best Hyperparameters:\n",
        "Identify the combination of hyperparameters that results in the best performance according to a specified metric (e.g., accuracy, F1 score, mean squared error).\n",
        "\n",
        "Grid search can be computationally expensive, especially if the grid is large and the model training is time-consuming. Despite this, it is widely used because it thoroughly explores the specified hyperparameter space."
      ],
      "metadata": {
        "id": "Jxj4JfSXHEN6"
      }
    },
    {
      "cell_type": "markdown",
      "source": [
        "# Import libraries"
      ],
      "metadata": {
        "id": "nczDk15SOcmO"
      }
    },
    {
      "cell_type": "code",
      "source": [
        "from sklearn.model_selection import GridSearchCV\n",
        "from sklearn.ensemble import RandomForestClassifier"
      ],
      "metadata": {
        "id": "uX2Uw1GJOgbr"
      },
      "execution_count": 1,
      "outputs": []
    },
    {
      "cell_type": "markdown",
      "source": [
        "Suppose you have a machine learning model with\n",
        "* two hyperparameters,\n",
        "* learning rate (lr) and\n",
        "* batch size (bs).\n",
        "\n",
        "You might define a grid like this:\n",
        "* lr: [0.01, 0.1, 1.0]\n",
        "* bs: [16, 32, 64]\n",
        "\n",
        "Grid search would evaluate all combinations:\n",
        "\n",
        "(0.01, 16)\n",
        "\n",
        "(0.01, 32)\n",
        "\n",
        "(0.01, 64)\n",
        "\n",
        "(0.1, 16)\n",
        "\n",
        "(0.1, 32)\n",
        "\n",
        "(0.1, 64)\n",
        "\n",
        "(1.0, 16)\n",
        "\n",
        "(1.0, 32)\n",
        "\n",
        "(1.0, 64)"
      ],
      "metadata": {
        "id": "3-SYI_IcOrrG"
      }
    }
  ]
}