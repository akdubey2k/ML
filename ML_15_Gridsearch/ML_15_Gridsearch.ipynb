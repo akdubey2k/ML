{
  "nbformat": 4,
  "nbformat_minor": 0,
  "metadata": {
    "colab": {
      "provenance": []
    },
    "kernelspec": {
      "name": "python3",
      "display_name": "Python 3"
    },
    "language_info": {
      "name": "python"
    }
  },
  "cells": [
    {
      "cell_type": "markdown",
      "source": [
        "# 1. Introduction\n",
        "## 1.1 Grid search\n",
        "**Grid search** is a method used to systematically work through\n",
        "* multiple combinations of parameter tunes,\n",
        "* cross-validate each combination, and\n",
        "* determine which tune provides the best performance.\n",
        "\n",
        "It's often used in machine learning to **tune hyperparameters** of a model to achieve the best predictive performance.\n",
        "\n",
        "**Grid search** is a hyperparameter tuning technique used in machine learning to optimize the performance of a model by systematically evaluating a range of hyperparameter values. It involves the following steps:\n"
      ],
      "metadata": {
        "id": "mptzKEnZGYi-"
      }
    },
    {
      "cell_type": "markdown",
      "source": [
        "#### 1. Define Hyperparameter Grid:\n",
        "Specify a set of hyperparameter values to explore for each hyperparameter. This forms a grid where each point represents a unique combination of hyperparameters.\n",
        "\n",
        "#### 2. Train and Evaluate Models:\n",
        "For each combination of hyperparameters in the grid, train a machine learning model on the training data and evaluate its performance using a validation set or cross-validation.\n",
        "\n",
        "#### 3. Select the Best Hyperparameters:\n",
        "Identify the combination of hyperparameters that results in the best performance according to a specified metric (e.g., accuracy, F1 score, mean squared error).\n",
        "\n",
        "Grid search can be computationally expensive, especially if the grid is large and the model training is time-consuming. Despite this, it is widely used because it thoroughly explores the specified hyperparameter space."
      ],
      "metadata": {
        "id": "Jxj4JfSXHEN6"
      }
    },
    {
      "cell_type": "markdown",
      "source": [
        "# 2. Import libraries"
      ],
      "metadata": {
        "id": "nczDk15SOcmO"
      }
    },
    {
      "cell_type": "code",
      "source": [
        "import numpy as np\n",
        "from sklearn.model_selection import GridSearchCV\n",
        "from sklearn.svm import SVC\n",
        "from sklearn.datasets import load_iris\n",
        "from sklearn.model_selection import train_test_split"
      ],
      "metadata": {
        "id": "uX2Uw1GJOgbr"
      },
      "execution_count": 1,
      "outputs": []
    },
    {
      "cell_type": "markdown",
      "source": [
        "# 3. Load dataset"
      ],
      "metadata": {
        "id": "GJXvc-DKPulQ"
      }
    },
    {
      "cell_type": "code",
      "source": [
        "iris = load_iris()\n",
        "X = iris.data\n",
        "y = iris.target"
      ],
      "metadata": {
        "id": "6Ms9ZFzmP3Jd"
      },
      "execution_count": 2,
      "outputs": []
    },
    {
      "cell_type": "markdown",
      "source": [
        "# 4. Disaggregated dataset into training and testing sets:"
      ],
      "metadata": {
        "id": "RlbGhEu8QiKj"
      }
    },
    {
      "cell_type": "code",
      "source": [
        "# Split the dataset into training and testing sets:\n",
        "X_train, X_test, y_train, y_test = train_test_split(X, y, test_size=0.2, random_state=42)"
      ],
      "metadata": {
        "id": "Axg68WuaQ7cI"
      },
      "execution_count": 3,
      "outputs": []
    },
    {
      "cell_type": "markdown",
      "source": [
        "# 5. Define the model"
      ],
      "metadata": {
        "id": "TYZqHBG0URHX"
      }
    },
    {
      "cell_type": "code",
      "source": [
        "model = SVC()"
      ],
      "metadata": {
        "id": "IyZ3V_fuUXef"
      },
      "execution_count": 4,
      "outputs": []
    },
    {
      "cell_type": "markdown",
      "source": [
        "# 6. Pre-process the dataset"
      ],
      "metadata": {
        "id": "nLXyT5dGUklx"
      }
    },
    {
      "cell_type": "code",
      "source": [
        "# Specify the hyperparameters and their possible values:\n",
        "param_grid = {\n",
        "    'C': [0.1, 1, 10, 100],\n",
        "    'gamma': [1, 0.1, 0.01, 0.001],\n",
        "    'kernel': ['rbf', 'poly', 'sigmoid']\n",
        "}"
      ],
      "metadata": {
        "id": "FaMI6kJcUoZW"
      },
      "execution_count": 5,
      "outputs": []
    }
  ]
}