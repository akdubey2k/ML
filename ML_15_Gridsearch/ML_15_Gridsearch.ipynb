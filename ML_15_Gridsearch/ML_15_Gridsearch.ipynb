{
  "nbformat": 4,
  "nbformat_minor": 0,
  "metadata": {
    "colab": {
      "provenance": []
    },
    "kernelspec": {
      "name": "python3",
      "display_name": "Python 3"
    },
    "language_info": {
      "name": "python"
    }
  },
  "cells": [
    {
      "cell_type": "markdown",
      "source": [
        "# 1. Definition\n",
        "# Grid search\n",
        "**Grid search** is a method used to systematically work through\n",
        "* multiple combinations of parameter tunes,\n",
        "* cross-validate each combination, and\n",
        "* determine which tune provides the best performance.\n",
        "\n",
        "It's often used in machine learning to **tune hyperparameters** of a model to achieve the best predictive performance.\n",
        "\n",
        "**Grid search** is a hyperparameter tuning technique used in machine learning to optimize the performance of a model by systematically evaluating a range of hyperparameter values. It involves the following steps:\n"
      ],
      "metadata": {
        "id": "mptzKEnZGYi-"
      }
    },
    {
      "cell_type": "markdown",
      "source": [
        "#### 1. Define Hyperparameter Grid:\n",
        "Specify a set of hyperparameter values to explore for each hyperparameter. This forms a grid where each point represents a unique combination of hyperparameters.\n",
        "\n",
        "#### 2. Train and Evaluate Models:\n",
        "For each combination of hyperparameters in the grid, train a machine learning model on the training data and evaluate its performance using a validation set or cross-validation.\n",
        "\n",
        "#### 3. Select the Best Hyperparameters:\n",
        "Identify the combination of hyperparameters that results in the best performance according to a specified metric (e.g., accuracy, F1 score, mean squared error).\n",
        "\n",
        "Grid search can be computationally expensive, especially if the grid is large and the model training is time-consuming. Despite this, it is widely used because it thoroughly explores the specified hyperparameter space."
      ],
      "metadata": {
        "id": "Jxj4JfSXHEN6"
      }
    },
    {
      "cell_type": "markdown",
      "source": [
        "# 2. Import libraries"
      ],
      "metadata": {
        "id": "nczDk15SOcmO"
      }
    },
    {
      "cell_type": "code",
      "source": [
        "from sklearn.model_selection import GridSearchCV\n",
        "from sklearn.ensemble import RandomForestClassifier"
      ],
      "metadata": {
        "id": "uX2Uw1GJOgbr"
      },
      "execution_count": 1,
      "outputs": []
    },
    {
      "cell_type": "markdown",
      "source": [
        "Suppose you have a machine learning model with\n",
        "* two hyperparameters,\n",
        "* learning rate (lr) and\n",
        "* batch size (bs).\n",
        "\n",
        "You might define a grid like this:\n",
        "* lr: [0.01, 0.1, 1.0]\n",
        "* bs: [16, 32, 64]\n",
        "\n",
        "Grid search would evaluate all combinations:\n",
        "\n",
        "(0.01, 16)\n",
        "\n",
        "(0.01, 32)\n",
        "\n",
        "(0.01, 64)\n",
        "\n",
        "(0.1, 16)\n",
        "\n",
        "(0.1, 32)\n",
        "\n",
        "(0.1, 64)\n",
        "\n",
        "(1.0, 16)\n",
        "\n",
        "(1.0, 32)\n",
        "\n",
        "(1.0, 64)"
      ],
      "metadata": {
        "id": "3-SYI_IcOrrG"
      }
    },
    {
      "cell_type": "markdown",
      "source": [
        "# 3. Load dataset"
      ],
      "metadata": {
        "id": "GJXvc-DKPulQ"
      }
    },
    {
      "cell_type": "code",
      "source": [
        "# Define the grid of hyperparameters\n",
        "param_grid = {\n",
        "    'n_estimators': [10, 50, 100],\n",
        "    'max_depth': [None, 10, 20],\n",
        "    'min_samples_split': [2, 5, 10]\n",
        "}"
      ],
      "metadata": {
        "id": "6Ms9ZFzmP3Jd"
      },
      "execution_count": 2,
      "outputs": []
    },
    {
      "cell_type": "markdown",
      "source": [
        "# 4. Implement the model"
      ],
      "metadata": {
        "id": "RlbGhEu8QiKj"
      }
    },
    {
      "cell_type": "code",
      "source": [
        "# Define the model\n",
        "model = RandomForestClassifier()"
      ],
      "metadata": {
        "id": "Axg68WuaQ7cI"
      },
      "execution_count": 3,
      "outputs": []
    },
    {
      "cell_type": "code",
      "source": [
        "# Set up the grid search\n",
        "grid_search = GridSearchCV(estimator=model, param_grid=param_grid, cv=5)\n",
        "\n",
        "# Fit the grid search\n",
        "grid_search.fit(X_train, y_train)\n",
        "\n",
        "# Get the best parameters\n",
        "best_params = grid_search.best_params_\n",
        "print(f\"Best hyperparameters: {best_params}\")\n"
      ],
      "metadata": {
        "colab": {
          "base_uri": "https://localhost:8080/",
          "height": 211
        },
        "id": "Ai1TTh2hQjoX",
        "outputId": "e381a9a4-928c-455a-b472-947843b7cac0"
      },
      "execution_count": 4,
      "outputs": [
        {
          "output_type": "error",
          "ename": "NameError",
          "evalue": "name 'X_train' is not defined",
          "traceback": [
            "\u001b[0;31m---------------------------------------------------------------------------\u001b[0m",
            "\u001b[0;31mNameError\u001b[0m                                 Traceback (most recent call last)",
            "\u001b[0;32m<ipython-input-4-7b471f571f28>\u001b[0m in \u001b[0;36m<cell line: 5>\u001b[0;34m()\u001b[0m\n\u001b[1;32m      3\u001b[0m \u001b[0;34m\u001b[0m\u001b[0m\n\u001b[1;32m      4\u001b[0m \u001b[0;31m# Fit the grid search\u001b[0m\u001b[0;34m\u001b[0m\u001b[0;34m\u001b[0m\u001b[0m\n\u001b[0;32m----> 5\u001b[0;31m \u001b[0mgrid_search\u001b[0m\u001b[0;34m.\u001b[0m\u001b[0mfit\u001b[0m\u001b[0;34m(\u001b[0m\u001b[0mX_train\u001b[0m\u001b[0;34m,\u001b[0m \u001b[0my_train\u001b[0m\u001b[0;34m)\u001b[0m\u001b[0;34m\u001b[0m\u001b[0;34m\u001b[0m\u001b[0m\n\u001b[0m\u001b[1;32m      6\u001b[0m \u001b[0;34m\u001b[0m\u001b[0m\n\u001b[1;32m      7\u001b[0m \u001b[0;31m# Get the best parameters\u001b[0m\u001b[0;34m\u001b[0m\u001b[0;34m\u001b[0m\u001b[0m\n",
            "\u001b[0;31mNameError\u001b[0m: name 'X_train' is not defined"
          ]
        }
      ]
    }
  ]
}