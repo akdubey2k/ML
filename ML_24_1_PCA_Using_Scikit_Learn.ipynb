{
  "nbformat": 4,
  "nbformat_minor": 0,
  "metadata": {
    "colab": {
      "provenance": []
    },
    "kernelspec": {
      "name": "python3",
      "display_name": "Python 3"
    },
    "language_info": {
      "name": "python"
    }
  },
  "cells": [
    {
      "cell_type": "markdown",
      "source": [
        "# PCA applied on handwritten digits using scikit-learn\n",
        "* PCA, has been illustrated using handwritten digits dataset example from scikit-learn dataset.\n",
        "* Handwritten digits are created from **0 to 9** and it's respective **64 features (8 x 8)** matrix of pixels."
      ],
      "metadata": {
        "id": "NVFCWQn4Z_lW"
      }
    },
    {
      "cell_type": "markdown",
      "source": [
        "**Thanks to:**\n",
        "* [load_digits](https://scikit-learn.org/stable/modules/generated/sklearn.datasets.load_digits.html)\n",
        "* [Statistics of Machine Learning](https://www.oreilly.com/library/view/statistics-for-machine/9781788295758/21820518-7e2f-4623-aa8a-b93dce24d826.xhtml)\n",
        "* [Optical Recognition of Handwritten Digits](https://archive.ics.uci.edu/dataset/80/optical+recognition+of+handwritten+digits)"
      ],
      "metadata": {
        "id": "QzUiwdOVaflL"
      }
    },
    {
      "cell_type": "code",
      "execution_count": null,
      "metadata": {
        "id": "Jz1pSAOnZudm"
      },
      "outputs": [],
      "source": []
    }
  ]
}