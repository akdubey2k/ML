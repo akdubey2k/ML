ML_4_OneHotEncoding_&_DummyVariable.ipynb

import pandas as pd
import numpy as np
from sklearn.linear_model import LinearRegression
