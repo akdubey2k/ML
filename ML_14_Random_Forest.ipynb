{
  "nbformat": 4,
  "nbformat_minor": 0,
  "metadata": {
    "colab": {
      "provenance": []
    },
    "kernelspec": {
      "name": "python3",
      "display_name": "Python 3"
    },
    "language_info": {
      "name": "python"
    }
  },
  "cells": [
    {
      "cell_type": "markdown",
      "source": [
        "# 1. Definition\n",
        "A Random Forest is an ensemble learning method used for classification, regression, and other tasks that operates by constructing a multitude of decision trees at training time. Its output is either the mode of the classes (classification) or the mean prediction (regression) of the individual trees."
      ],
      "metadata": {
        "id": "CjDjNg5oH8Rs"
      }
    },
    {
      "cell_type": "code",
      "execution_count": null,
      "metadata": {
        "id": "whiiBFohHo1b"
      },
      "outputs": [],
      "source": []
    }
  ]
}