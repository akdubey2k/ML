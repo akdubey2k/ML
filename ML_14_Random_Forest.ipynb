{
  "nbformat": 4,
  "nbformat_minor": 0,
  "metadata": {
    "colab": {
      "provenance": []
    },
    "kernelspec": {
      "name": "python3",
      "display_name": "Python 3"
    },
    "language_info": {
      "name": "python"
    }
  },
  "cells": [
    {
      "cell_type": "markdown",
      "source": [
        "# 1. Definition / Introduction\n",
        "A **Random Forest**  is an ensemble supervised machine learning method used for classification, regression, and other tasks that operates by constructing a multitude of decision trees at training time.\n",
        "\n",
        " It creates decision trees on the given data samples, gets prediction from each tree and selects the best solution by means of voting. It is also a pretty good indicator of feature importance.\n",
        "\n",
        "Random forest algorithm combines multiple decision-trees, resulting in a forest of trees, hence the name Random Forest. In the random forest classifier, the higher the number of trees in the forest results in higher accuracy."
      ],
      "metadata": {
        "id": "CjDjNg5oH8Rs"
      }
    },
    {
      "cell_type": "markdown",
      "source": [
        "**Thanks to:**\n",
        "* [Random Forest Classifier Tutorial](https://www.kaggle.com/code/prashant111/random-forest-classifier-tutorial)"
      ],
      "metadata": {
        "id": "UOcX-DWXJXgh"
      }
    },
    {
      "cell_type": "code",
      "execution_count": null,
      "metadata": {
        "id": "whiiBFohHo1b"
      },
      "outputs": [],
      "source": []
    }
  ]
}