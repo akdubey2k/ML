{
  "nbformat": 4,
  "nbformat_minor": 0,
  "metadata": {
    "colab": {
      "provenance": []
    },
    "kernelspec": {
      "name": "python3",
      "display_name": "Python 3"
    },
    "language_info": {
      "name": "python"
    }
  },
  "cells": [
    {
      "cell_type": "markdown",
      "source": [
        "# 1. Definition\n",
        "## 1.1. Description\n",
        "A **Support Vector Machine (SVM)** is a supervised machine learning algorithm used for **classification and regression** tasks.\n",
        "* The primary goal of an **SVM** is to find the *best boundary,* called a **hyperplane,** that separates different classes in the feature space"
      ],
      "metadata": {
        "id": "Rc5cnB4JiYNu"
      }
    },
    {
      "cell_type": "markdown",
      "source": [
        "## 1.2 Key Concepts\n",
        "**1. Hyperplane:**\n",
        "In an SVM, the hyperplane is a decision boundary that separates the data points of different classes. In two-dimensional space, it's a line, but in higher dimensions, it becomes a plane or a hyperplane.\n",
        "\n",
        "**2. Support Vectors:**\n",
        "These are the data points that are closest to the hyperplane. They are critical in defining the position and orientation of the hyperplane. The support vectors are the most challenging cases and are used to maximize the margin of the classifier.\n",
        "\n",
        "**3. Margin:**\n",
        "This is the distance between the hyperplane and the nearest support vectors from either class. SVM aims to maximize this margin, providing the best separation between classes. A larger margin often leads to better generalization on unseen data."
      ],
      "metadata": {
        "id": "yidysgZxjjJW"
      }
    },
    {
      "cell_type": "markdown",
      "source": [
        "## 1.3 Types of SVM\n",
        "**1. Linear SVM:**\n",
        "Used when the data is linearly separable, meaning it can be separated by a straight line (or hyperplane in higher dimensions).\n",
        "\n",
        "**2. Non-linear SVM:**\n",
        "Used when the data cannot be separated by a straight line. Non-linear SVMs use kernel functions to transform the data into a higher-dimensional space where a hyperplane can be used to separate the classes. Common kernel functions include:\n",
        "\n",
        "* Polynomial Kernel\n",
        "* Radial Basis Function (RBF) Kernel\n",
        "* Sigmoid Kernel"
      ],
      "metadata": {
        "id": "nO7-ZmmpkVeu"
      }
    },
    {
      "cell_type": "code",
      "execution_count": null,
      "metadata": {
        "id": "znNde7y0iMhz"
      },
      "outputs": [],
      "source": []
    }
  ]
}