{
  "nbformat": 4,
  "nbformat_minor": 0,
  "metadata": {
    "colab": {
      "provenance": []
    },
    "kernelspec": {
      "name": "python3",
      "display_name": "Python 3"
    },
    "language_info": {
      "name": "python"
    }
  },
  "cells": [
    {
      "cell_type": "markdown",
      "source": [
        "# 1. Description\n",
        "**L1 regularization,** also known as **L1 norm or Lasso** (in regression problems), combats overfitting by shrinking the parameters towards **0.** This makes some features obsolete."
      ],
      "metadata": {
        "id": "FvH311BLywZR"
      }
    },
    {
      "cell_type": "markdown",
      "source": [
        "It’s a form of feature selection, because when we assign a feature with a **0 weight,** we’re *multiplying the feature values by **0 which returns 0,** eradicating the significance of that feature.*\n",
        "\n",
        "If the input features of our model have weights closer to **0,** our **L1** norm would be sparse. A selection of the input features would have weights equal to zero, and the rest would be non-zero."
      ],
      "metadata": {
        "id": "lJnA8xCNzFp1"
      }
    },
    {
      "cell_type": "markdown",
      "source": [
        "**Thanks To:**\n",
        "1. [Fighting Overfitting With L1 or L2 Regularization](https://neptune.ai/blog/fighting-overfitting-with-l1-or-l2-regularization)"
      ],
      "metadata": {
        "id": "vWvSpiw5zwGS"
      }
    },
    {
      "cell_type": "markdown",
      "source": [
        "# 2. Import libraries"
      ],
      "metadata": {
        "id": "R69bxDey1L5H"
      }
    },
    {
      "cell_type": "code",
      "execution_count": 1,
      "metadata": {
        "id": "MVuhjSrymSKc"
      },
      "outputs": [],
      "source": [
        "import warnings\n",
        "warnings.filterwarnings(\"ignore\")\n",
        "\n",
        "import numpy as np\n",
        "import pandas as pd\n",
        "import seaborn as sns\n",
        "import matplotlib.pyplot as plt\n",
        "from sklearn.preprocessing import PolynomialFeatures\n",
        "from sklearn.linear_model import LinearRegression, Lasso, Ridge\n",
        "from sklearn.metrics import mean_squared_error"
      ]
    },
    {
      "cell_type": "markdown",
      "source": [
        "# 3. Load dataset"
      ],
      "metadata": {
        "id": "2ySef8ja2NS9"
      }
    },
    {
      "cell_type": "code",
      "source": [
        "# load the dataset\n",
        "url = \"https://raw.githubusercontent.com/akdubey2k/ML/main/ML_17_2_Linear_Regression_without_Regularization/ML_17_2_housing.csv\"\n",
        "\n",
        "# reading data into pandas dataframe\n",
        "df = pd.read_csv(url, header=None)\n",
        "df.head(5)"
      ],
      "metadata": {
        "colab": {
          "base_uri": "https://localhost:8080/",
          "height": 206
        },
        "id": "d6H_FlPZ18Am",
        "outputId": "db2bfb23-6364-48da-f785-2b06ca7f1dc6"
      },
      "execution_count": 2,
      "outputs": [
        {
          "output_type": "execute_result",
          "data": {
            "text/plain": [
              "        0     1     2   3      4      5     6       7   8      9     10  \\\n",
              "0  0.00632  18.0  2.31   0  0.538  6.575  65.2  4.0900   1  296.0  15.3   \n",
              "1  0.02731   0.0  7.07   0  0.469  6.421  78.9  4.9671   2  242.0  17.8   \n",
              "2  0.02729   0.0  7.07   0  0.469  7.185  61.1  4.9671   2  242.0  17.8   \n",
              "3  0.03237   0.0  2.18   0  0.458  6.998  45.8  6.0622   3  222.0  18.7   \n",
              "4  0.06905   0.0  2.18   0  0.458  7.147  54.2  6.0622   3  222.0  18.7   \n",
              "\n",
              "       11    12    13  \n",
              "0  396.90  4.98  24.0  \n",
              "1  396.90  9.14  21.6  \n",
              "2  392.83  4.03  34.7  \n",
              "3  394.63  2.94  33.4  \n",
              "4  396.90  5.33  36.2  "
            ],
            "text/html": [
              "\n",
              "  <div id=\"df-5ce6fda2-f818-4b34-89bc-2f47929cda92\" class=\"colab-df-container\">\n",
              "    <div>\n",
              "<style scoped>\n",
              "    .dataframe tbody tr th:only-of-type {\n",
              "        vertical-align: middle;\n",
              "    }\n",
              "\n",
              "    .dataframe tbody tr th {\n",
              "        vertical-align: top;\n",
              "    }\n",
              "\n",
              "    .dataframe thead th {\n",
              "        text-align: right;\n",
              "    }\n",
              "</style>\n",
              "<table border=\"1\" class=\"dataframe\">\n",
              "  <thead>\n",
              "    <tr style=\"text-align: right;\">\n",
              "      <th></th>\n",
              "      <th>0</th>\n",
              "      <th>1</th>\n",
              "      <th>2</th>\n",
              "      <th>3</th>\n",
              "      <th>4</th>\n",
              "      <th>5</th>\n",
              "      <th>6</th>\n",
              "      <th>7</th>\n",
              "      <th>8</th>\n",
              "      <th>9</th>\n",
              "      <th>10</th>\n",
              "      <th>11</th>\n",
              "      <th>12</th>\n",
              "      <th>13</th>\n",
              "    </tr>\n",
              "  </thead>\n",
              "  <tbody>\n",
              "    <tr>\n",
              "      <th>0</th>\n",
              "      <td>0.00632</td>\n",
              "      <td>18.0</td>\n",
              "      <td>2.31</td>\n",
              "      <td>0</td>\n",
              "      <td>0.538</td>\n",
              "      <td>6.575</td>\n",
              "      <td>65.2</td>\n",
              "      <td>4.0900</td>\n",
              "      <td>1</td>\n",
              "      <td>296.0</td>\n",
              "      <td>15.3</td>\n",
              "      <td>396.90</td>\n",
              "      <td>4.98</td>\n",
              "      <td>24.0</td>\n",
              "    </tr>\n",
              "    <tr>\n",
              "      <th>1</th>\n",
              "      <td>0.02731</td>\n",
              "      <td>0.0</td>\n",
              "      <td>7.07</td>\n",
              "      <td>0</td>\n",
              "      <td>0.469</td>\n",
              "      <td>6.421</td>\n",
              "      <td>78.9</td>\n",
              "      <td>4.9671</td>\n",
              "      <td>2</td>\n",
              "      <td>242.0</td>\n",
              "      <td>17.8</td>\n",
              "      <td>396.90</td>\n",
              "      <td>9.14</td>\n",
              "      <td>21.6</td>\n",
              "    </tr>\n",
              "    <tr>\n",
              "      <th>2</th>\n",
              "      <td>0.02729</td>\n",
              "      <td>0.0</td>\n",
              "      <td>7.07</td>\n",
              "      <td>0</td>\n",
              "      <td>0.469</td>\n",
              "      <td>7.185</td>\n",
              "      <td>61.1</td>\n",
              "      <td>4.9671</td>\n",
              "      <td>2</td>\n",
              "      <td>242.0</td>\n",
              "      <td>17.8</td>\n",
              "      <td>392.83</td>\n",
              "      <td>4.03</td>\n",
              "      <td>34.7</td>\n",
              "    </tr>\n",
              "    <tr>\n",
              "      <th>3</th>\n",
              "      <td>0.03237</td>\n",
              "      <td>0.0</td>\n",
              "      <td>2.18</td>\n",
              "      <td>0</td>\n",
              "      <td>0.458</td>\n",
              "      <td>6.998</td>\n",
              "      <td>45.8</td>\n",
              "      <td>6.0622</td>\n",
              "      <td>3</td>\n",
              "      <td>222.0</td>\n",
              "      <td>18.7</td>\n",
              "      <td>394.63</td>\n",
              "      <td>2.94</td>\n",
              "      <td>33.4</td>\n",
              "    </tr>\n",
              "    <tr>\n",
              "      <th>4</th>\n",
              "      <td>0.06905</td>\n",
              "      <td>0.0</td>\n",
              "      <td>2.18</td>\n",
              "      <td>0</td>\n",
              "      <td>0.458</td>\n",
              "      <td>7.147</td>\n",
              "      <td>54.2</td>\n",
              "      <td>6.0622</td>\n",
              "      <td>3</td>\n",
              "      <td>222.0</td>\n",
              "      <td>18.7</td>\n",
              "      <td>396.90</td>\n",
              "      <td>5.33</td>\n",
              "      <td>36.2</td>\n",
              "    </tr>\n",
              "  </tbody>\n",
              "</table>\n",
              "</div>\n",
              "    <div class=\"colab-df-buttons\">\n",
              "\n",
              "  <div class=\"colab-df-container\">\n",
              "    <button class=\"colab-df-convert\" onclick=\"convertToInteractive('df-5ce6fda2-f818-4b34-89bc-2f47929cda92')\"\n",
              "            title=\"Convert this dataframe to an interactive table.\"\n",
              "            style=\"display:none;\">\n",
              "\n",
              "  <svg xmlns=\"http://www.w3.org/2000/svg\" height=\"24px\" viewBox=\"0 -960 960 960\">\n",
              "    <path d=\"M120-120v-720h720v720H120Zm60-500h600v-160H180v160Zm220 220h160v-160H400v160Zm0 220h160v-160H400v160ZM180-400h160v-160H180v160Zm440 0h160v-160H620v160ZM180-180h160v-160H180v160Zm440 0h160v-160H620v160Z\"/>\n",
              "  </svg>\n",
              "    </button>\n",
              "\n",
              "  <style>\n",
              "    .colab-df-container {\n",
              "      display:flex;\n",
              "      gap: 12px;\n",
              "    }\n",
              "\n",
              "    .colab-df-convert {\n",
              "      background-color: #E8F0FE;\n",
              "      border: none;\n",
              "      border-radius: 50%;\n",
              "      cursor: pointer;\n",
              "      display: none;\n",
              "      fill: #1967D2;\n",
              "      height: 32px;\n",
              "      padding: 0 0 0 0;\n",
              "      width: 32px;\n",
              "    }\n",
              "\n",
              "    .colab-df-convert:hover {\n",
              "      background-color: #E2EBFA;\n",
              "      box-shadow: 0px 1px 2px rgba(60, 64, 67, 0.3), 0px 1px 3px 1px rgba(60, 64, 67, 0.15);\n",
              "      fill: #174EA6;\n",
              "    }\n",
              "\n",
              "    .colab-df-buttons div {\n",
              "      margin-bottom: 4px;\n",
              "    }\n",
              "\n",
              "    [theme=dark] .colab-df-convert {\n",
              "      background-color: #3B4455;\n",
              "      fill: #D2E3FC;\n",
              "    }\n",
              "\n",
              "    [theme=dark] .colab-df-convert:hover {\n",
              "      background-color: #434B5C;\n",
              "      box-shadow: 0px 1px 3px 1px rgba(0, 0, 0, 0.15);\n",
              "      filter: drop-shadow(0px 1px 2px rgba(0, 0, 0, 0.3));\n",
              "      fill: #FFFFFF;\n",
              "    }\n",
              "  </style>\n",
              "\n",
              "    <script>\n",
              "      const buttonEl =\n",
              "        document.querySelector('#df-5ce6fda2-f818-4b34-89bc-2f47929cda92 button.colab-df-convert');\n",
              "      buttonEl.style.display =\n",
              "        google.colab.kernel.accessAllowed ? 'block' : 'none';\n",
              "\n",
              "      async function convertToInteractive(key) {\n",
              "        const element = document.querySelector('#df-5ce6fda2-f818-4b34-89bc-2f47929cda92');\n",
              "        const dataTable =\n",
              "          await google.colab.kernel.invokeFunction('convertToInteractive',\n",
              "                                                    [key], {});\n",
              "        if (!dataTable) return;\n",
              "\n",
              "        const docLinkHtml = 'Like what you see? Visit the ' +\n",
              "          '<a target=\"_blank\" href=https://colab.research.google.com/notebooks/data_table.ipynb>data table notebook</a>'\n",
              "          + ' to learn more about interactive tables.';\n",
              "        element.innerHTML = '';\n",
              "        dataTable['output_type'] = 'display_data';\n",
              "        await google.colab.output.renderOutput(dataTable, element);\n",
              "        const docLink = document.createElement('div');\n",
              "        docLink.innerHTML = docLinkHtml;\n",
              "        element.appendChild(docLink);\n",
              "      }\n",
              "    </script>\n",
              "  </div>\n",
              "\n",
              "\n",
              "<div id=\"df-09169a38-9418-4b9f-ba37-ef07f80fb6e1\">\n",
              "  <button class=\"colab-df-quickchart\" onclick=\"quickchart('df-09169a38-9418-4b9f-ba37-ef07f80fb6e1')\"\n",
              "            title=\"Suggest charts\"\n",
              "            style=\"display:none;\">\n",
              "\n",
              "<svg xmlns=\"http://www.w3.org/2000/svg\" height=\"24px\"viewBox=\"0 0 24 24\"\n",
              "     width=\"24px\">\n",
              "    <g>\n",
              "        <path d=\"M19 3H5c-1.1 0-2 .9-2 2v14c0 1.1.9 2 2 2h14c1.1 0 2-.9 2-2V5c0-1.1-.9-2-2-2zM9 17H7v-7h2v7zm4 0h-2V7h2v10zm4 0h-2v-4h2v4z\"/>\n",
              "    </g>\n",
              "</svg>\n",
              "  </button>\n",
              "\n",
              "<style>\n",
              "  .colab-df-quickchart {\n",
              "      --bg-color: #E8F0FE;\n",
              "      --fill-color: #1967D2;\n",
              "      --hover-bg-color: #E2EBFA;\n",
              "      --hover-fill-color: #174EA6;\n",
              "      --disabled-fill-color: #AAA;\n",
              "      --disabled-bg-color: #DDD;\n",
              "  }\n",
              "\n",
              "  [theme=dark] .colab-df-quickchart {\n",
              "      --bg-color: #3B4455;\n",
              "      --fill-color: #D2E3FC;\n",
              "      --hover-bg-color: #434B5C;\n",
              "      --hover-fill-color: #FFFFFF;\n",
              "      --disabled-bg-color: #3B4455;\n",
              "      --disabled-fill-color: #666;\n",
              "  }\n",
              "\n",
              "  .colab-df-quickchart {\n",
              "    background-color: var(--bg-color);\n",
              "    border: none;\n",
              "    border-radius: 50%;\n",
              "    cursor: pointer;\n",
              "    display: none;\n",
              "    fill: var(--fill-color);\n",
              "    height: 32px;\n",
              "    padding: 0;\n",
              "    width: 32px;\n",
              "  }\n",
              "\n",
              "  .colab-df-quickchart:hover {\n",
              "    background-color: var(--hover-bg-color);\n",
              "    box-shadow: 0 1px 2px rgba(60, 64, 67, 0.3), 0 1px 3px 1px rgba(60, 64, 67, 0.15);\n",
              "    fill: var(--button-hover-fill-color);\n",
              "  }\n",
              "\n",
              "  .colab-df-quickchart-complete:disabled,\n",
              "  .colab-df-quickchart-complete:disabled:hover {\n",
              "    background-color: var(--disabled-bg-color);\n",
              "    fill: var(--disabled-fill-color);\n",
              "    box-shadow: none;\n",
              "  }\n",
              "\n",
              "  .colab-df-spinner {\n",
              "    border: 2px solid var(--fill-color);\n",
              "    border-color: transparent;\n",
              "    border-bottom-color: var(--fill-color);\n",
              "    animation:\n",
              "      spin 1s steps(1) infinite;\n",
              "  }\n",
              "\n",
              "  @keyframes spin {\n",
              "    0% {\n",
              "      border-color: transparent;\n",
              "      border-bottom-color: var(--fill-color);\n",
              "      border-left-color: var(--fill-color);\n",
              "    }\n",
              "    20% {\n",
              "      border-color: transparent;\n",
              "      border-left-color: var(--fill-color);\n",
              "      border-top-color: var(--fill-color);\n",
              "    }\n",
              "    30% {\n",
              "      border-color: transparent;\n",
              "      border-left-color: var(--fill-color);\n",
              "      border-top-color: var(--fill-color);\n",
              "      border-right-color: var(--fill-color);\n",
              "    }\n",
              "    40% {\n",
              "      border-color: transparent;\n",
              "      border-right-color: var(--fill-color);\n",
              "      border-top-color: var(--fill-color);\n",
              "    }\n",
              "    60% {\n",
              "      border-color: transparent;\n",
              "      border-right-color: var(--fill-color);\n",
              "    }\n",
              "    80% {\n",
              "      border-color: transparent;\n",
              "      border-right-color: var(--fill-color);\n",
              "      border-bottom-color: var(--fill-color);\n",
              "    }\n",
              "    90% {\n",
              "      border-color: transparent;\n",
              "      border-bottom-color: var(--fill-color);\n",
              "    }\n",
              "  }\n",
              "</style>\n",
              "\n",
              "  <script>\n",
              "    async function quickchart(key) {\n",
              "      const quickchartButtonEl =\n",
              "        document.querySelector('#' + key + ' button');\n",
              "      quickchartButtonEl.disabled = true;  // To prevent multiple clicks.\n",
              "      quickchartButtonEl.classList.add('colab-df-spinner');\n",
              "      try {\n",
              "        const charts = await google.colab.kernel.invokeFunction(\n",
              "            'suggestCharts', [key], {});\n",
              "      } catch (error) {\n",
              "        console.error('Error during call to suggestCharts:', error);\n",
              "      }\n",
              "      quickchartButtonEl.classList.remove('colab-df-spinner');\n",
              "      quickchartButtonEl.classList.add('colab-df-quickchart-complete');\n",
              "    }\n",
              "    (() => {\n",
              "      let quickchartButtonEl =\n",
              "        document.querySelector('#df-09169a38-9418-4b9f-ba37-ef07f80fb6e1 button');\n",
              "      quickchartButtonEl.style.display =\n",
              "        google.colab.kernel.accessAllowed ? 'block' : 'none';\n",
              "    })();\n",
              "  </script>\n",
              "</div>\n",
              "\n",
              "    </div>\n",
              "  </div>\n"
            ],
            "application/vnd.google.colaboratory.intrinsic+json": {
              "type": "dataframe",
              "variable_name": "df",
              "summary": "{\n  \"name\": \"df\",\n  \"rows\": 506,\n  \"fields\": [\n    {\n      \"column\": 0,\n      \"properties\": {\n        \"dtype\": \"number\",\n        \"std\": 8.60154510533249,\n        \"min\": 0.00632,\n        \"max\": 88.9762,\n        \"num_unique_values\": 504,\n        \"samples\": [\n          0.09178,\n          0.05644,\n          0.10574\n        ],\n        \"semantic_type\": \"\",\n        \"description\": \"\"\n      }\n    },\n    {\n      \"column\": 1,\n      \"properties\": {\n        \"dtype\": \"number\",\n        \"std\": 23.32245299451514,\n        \"min\": 0.0,\n        \"max\": 100.0,\n        \"num_unique_values\": 26,\n        \"samples\": [\n          25.0,\n          30.0,\n          18.0\n        ],\n        \"semantic_type\": \"\",\n        \"description\": \"\"\n      }\n    },\n    {\n      \"column\": 2,\n      \"properties\": {\n        \"dtype\": \"number\",\n        \"std\": 6.860352940897585,\n        \"min\": 0.46,\n        \"max\": 27.74,\n        \"num_unique_values\": 76,\n        \"samples\": [\n          8.14,\n          1.47,\n          1.22\n        ],\n        \"semantic_type\": \"\",\n        \"description\": \"\"\n      }\n    },\n    {\n      \"column\": 3,\n      \"properties\": {\n        \"dtype\": \"number\",\n        \"std\": 0,\n        \"min\": 0,\n        \"max\": 1,\n        \"num_unique_values\": 2,\n        \"samples\": [\n          1,\n          0\n        ],\n        \"semantic_type\": \"\",\n        \"description\": \"\"\n      }\n    },\n    {\n      \"column\": 4,\n      \"properties\": {\n        \"dtype\": \"number\",\n        \"std\": 0.11587767566755595,\n        \"min\": 0.385,\n        \"max\": 0.871,\n        \"num_unique_values\": 81,\n        \"samples\": [\n          0.401,\n          0.538\n        ],\n        \"semantic_type\": \"\",\n        \"description\": \"\"\n      }\n    },\n    {\n      \"column\": 5,\n      \"properties\": {\n        \"dtype\": \"number\",\n        \"std\": 0.7026171434153233,\n        \"min\": 3.561,\n        \"max\": 8.78,\n        \"num_unique_values\": 446,\n        \"samples\": [\n          6.849,\n          4.88\n        ],\n        \"semantic_type\": \"\",\n        \"description\": \"\"\n      }\n    },\n    {\n      \"column\": 6,\n      \"properties\": {\n        \"dtype\": \"number\",\n        \"std\": 28.148861406903617,\n        \"min\": 2.9,\n        \"max\": 100.0,\n        \"num_unique_values\": 356,\n        \"samples\": [\n          51.8,\n          33.8\n        ],\n        \"semantic_type\": \"\",\n        \"description\": \"\"\n      }\n    },\n    {\n      \"column\": 7,\n      \"properties\": {\n        \"dtype\": \"number\",\n        \"std\": 2.105710126627611,\n        \"min\": 1.1296,\n        \"max\": 12.1265,\n        \"num_unique_values\": 412,\n        \"samples\": [\n          2.2955,\n          4.2515\n        ],\n        \"semantic_type\": \"\",\n        \"description\": \"\"\n      }\n    },\n    {\n      \"column\": 8,\n      \"properties\": {\n        \"dtype\": \"number\",\n        \"std\": 8,\n        \"min\": 1,\n        \"max\": 24,\n        \"num_unique_values\": 9,\n        \"samples\": [\n          7,\n          2\n        ],\n        \"semantic_type\": \"\",\n        \"description\": \"\"\n      }\n    },\n    {\n      \"column\": 9,\n      \"properties\": {\n        \"dtype\": \"number\",\n        \"std\": 168.53711605495903,\n        \"min\": 187.0,\n        \"max\": 711.0,\n        \"num_unique_values\": 66,\n        \"samples\": [\n          370.0,\n          666.0\n        ],\n        \"semantic_type\": \"\",\n        \"description\": \"\"\n      }\n    },\n    {\n      \"column\": 10,\n      \"properties\": {\n        \"dtype\": \"number\",\n        \"std\": 2.1649455237144406,\n        \"min\": 12.6,\n        \"max\": 22.0,\n        \"num_unique_values\": 46,\n        \"samples\": [\n          19.6,\n          15.6\n        ],\n        \"semantic_type\": \"\",\n        \"description\": \"\"\n      }\n    },\n    {\n      \"column\": 11,\n      \"properties\": {\n        \"dtype\": \"number\",\n        \"std\": 91.29486438415783,\n        \"min\": 0.32,\n        \"max\": 396.9,\n        \"num_unique_values\": 357,\n        \"samples\": [\n          396.24,\n          395.11\n        ],\n        \"semantic_type\": \"\",\n        \"description\": \"\"\n      }\n    },\n    {\n      \"column\": 12,\n      \"properties\": {\n        \"dtype\": \"number\",\n        \"std\": 7.141061511348571,\n        \"min\": 1.73,\n        \"max\": 37.97,\n        \"num_unique_values\": 455,\n        \"samples\": [\n          6.15,\n          4.32\n        ],\n        \"semantic_type\": \"\",\n        \"description\": \"\"\n      }\n    },\n    {\n      \"column\": 13,\n      \"properties\": {\n        \"dtype\": \"number\",\n        \"std\": 9.197104087379818,\n        \"min\": 5.0,\n        \"max\": 50.0,\n        \"num_unique_values\": 229,\n        \"samples\": [\n          14.1,\n          22.5\n        ],\n        \"semantic_type\": \"\",\n        \"description\": \"\"\n      }\n    }\n  ]\n}"
            }
          },
          "metadata": {},
          "execution_count": 2
        }
      ]
    },
    {
      "cell_type": "markdown",
      "source": [
        "# 3. Dataset EDA (exploratory data analysis)\n",
        "## 3.1 Summarize the Dataset\n",
        "* Dimensions of the dataset.\n",
        "* Peek at the data itself.(Throw a glance at; take a brief look at)\n",
        "* Statistical summary of all attributes.\n",
        "* Breakdown of the data by the class variable."
      ],
      "metadata": {
        "id": "jIVVIwvX2xBU"
      }
    },
    {
      "cell_type": "code",
      "source": [
        "# dimension of dataset (rows & columns)\n",
        "print(\"\\nShape matirx (rows & columns) \".ljust(50, '.'), \": \", df.shape)"
      ],
      "metadata": {
        "colab": {
          "base_uri": "https://localhost:8080/"
        },
        "id": "zrrbA1P54LNs",
        "outputId": "0bac55fc-a62e-4a25-9698-a12e135c84bc"
      },
      "execution_count": 3,
      "outputs": [
        {
          "output_type": "stream",
          "name": "stdout",
          "text": [
            "\n",
            "Shape matirx (rows & columns) ................... :  (506, 14)\n"
          ]
        }
      ]
    },
    {
      "cell_type": "code",
      "source": [
        "# statistical summary of all attributes.\n",
        "print(\"\\nstatistical summary of all attributes =>\\n\", df.describe())"
      ],
      "metadata": {
        "colab": {
          "base_uri": "https://localhost:8080/"
        },
        "id": "epnpej4P4b_L",
        "outputId": "b7b2c337-8a88-4d43-a296-ffdac5384751"
      },
      "execution_count": 4,
      "outputs": [
        {
          "output_type": "stream",
          "name": "stdout",
          "text": [
            "\n",
            "statistical summary of all attributes =>\n",
            "                0           1           2           3           4           5   \\\n",
            "count  506.000000  506.000000  506.000000  506.000000  506.000000  506.000000   \n",
            "mean     3.613524   11.363636   11.136779    0.069170    0.554695    6.284634   \n",
            "std      8.601545   23.322453    6.860353    0.253994    0.115878    0.702617   \n",
            "min      0.006320    0.000000    0.460000    0.000000    0.385000    3.561000   \n",
            "25%      0.082045    0.000000    5.190000    0.000000    0.449000    5.885500   \n",
            "50%      0.256510    0.000000    9.690000    0.000000    0.538000    6.208500   \n",
            "75%      3.677083   12.500000   18.100000    0.000000    0.624000    6.623500   \n",
            "max     88.976200  100.000000   27.740000    1.000000    0.871000    8.780000   \n",
            "\n",
            "               6           7           8           9           10          11  \\\n",
            "count  506.000000  506.000000  506.000000  506.000000  506.000000  506.000000   \n",
            "mean    68.574901    3.795043    9.549407  408.237154   18.455534  356.674032   \n",
            "std     28.148861    2.105710    8.707259  168.537116    2.164946   91.294864   \n",
            "min      2.900000    1.129600    1.000000  187.000000   12.600000    0.320000   \n",
            "25%     45.025000    2.100175    4.000000  279.000000   17.400000  375.377500   \n",
            "50%     77.500000    3.207450    5.000000  330.000000   19.050000  391.440000   \n",
            "75%     94.075000    5.188425   24.000000  666.000000   20.200000  396.225000   \n",
            "max    100.000000   12.126500   24.000000  711.000000   22.000000  396.900000   \n",
            "\n",
            "               12          13  \n",
            "count  506.000000  506.000000  \n",
            "mean    12.653063   22.532806  \n",
            "std      7.141062    9.197104  \n",
            "min      1.730000    5.000000  \n",
            "25%      6.950000   17.025000  \n",
            "50%     11.360000   21.200000  \n",
            "75%     16.955000   25.000000  \n",
            "max     37.970000   50.000000  \n"
          ]
        }
      ]
    },
    {
      "cell_type": "markdown",
      "source": [
        "# 4. Data distribution into **independent and dependent** variable"
      ],
      "metadata": {
        "id": "d-q8IREr5IYD"
      }
    },
    {
      "cell_type": "code",
      "source": [
        "# selecting a single feature\n",
        "# only using 100 instances for simplicity\n",
        "X = df.loc[:100, 5].values # independent variable, Extract values as NumPy array\n",
        "y = df.loc[:100, 13].values # dependent variable, target label"
      ],
      "metadata": {
        "id": "ORiUSyyu5UMZ"
      },
      "execution_count": 5,
      "outputs": []
    },
    {
      "cell_type": "markdown",
      "source": [
        "## 4.1 reshaping the data into 2-D array"
      ],
      "metadata": {
        "id": "X2cSjKjukZnv"
      }
    },
    {
      "cell_type": "code",
      "source": [
        "# reshape the data\n",
        "X_reshaped = X[:, np.newaxis]\n",
        "y_reshaped = y[:, np.newaxis]\n",
        "\n",
        "print(\"\\nShape of independent variable \".ljust(50, '.'), \": \", X.shape)\n",
        "print(\"\\nShape of dependent variable \".ljust(50, '.'), \": \", y.shape)\n",
        "\n",
        "print(\"\\nReshape of independent variable into 2-D matrix \".ljust(50, '.'), \": \", X_reshaped.shape)\n",
        "print(\"\\nReshape of dependent variable into 2-D matrix \".ljust(50, '.'), \": \", y_reshaped.shape)"
      ],
      "metadata": {
        "colab": {
          "base_uri": "https://localhost:8080/"
        },
        "id": "itZz2SjckgOr",
        "outputId": "decb8d4b-44a3-489c-f1e6-121735440715"
      },
      "execution_count": 6,
      "outputs": [
        {
          "output_type": "stream",
          "name": "stdout",
          "text": [
            "\n",
            "Shape of independent variable ................... :  (101,)\n",
            "\n",
            "Shape of dependent variable ..................... :  (101,)\n",
            "\n",
            "Reshape of independent variable into 2-D matrix . :  (101, 1)\n",
            "\n",
            "Reshape of dependent variable into 2-D matrix ... :  (101, 1)\n"
          ]
        }
      ]
    },
    {
      "cell_type": "markdown",
      "source": [
        "# 5. Build and train model"
      ],
      "metadata": {
        "id": "2zH-r79IlOfB"
      }
    },
    {
      "cell_type": "code",
      "source": [
        "# instantiating the lasso regression model\n",
        "lasso = Lasso(alpha=10)\n",
        "\n",
        "# training the model\n",
        "lasso.fit(X_reshaped, y_reshaped)"
      ],
      "metadata": {
        "colab": {
          "base_uri": "https://localhost:8080/",
          "height": 74
        },
        "id": "Xdxz24ohlSox",
        "outputId": "f56ae375-a7c6-45c9-a474-8722e14a700a"
      },
      "execution_count": 7,
      "outputs": [
        {
          "output_type": "execute_result",
          "data": {
            "text/plain": [
              "Lasso(alpha=10)"
            ],
            "text/html": [
              "<style>#sk-container-id-1 {color: black;background-color: white;}#sk-container-id-1 pre{padding: 0;}#sk-container-id-1 div.sk-toggleable {background-color: white;}#sk-container-id-1 label.sk-toggleable__label {cursor: pointer;display: block;width: 100%;margin-bottom: 0;padding: 0.3em;box-sizing: border-box;text-align: center;}#sk-container-id-1 label.sk-toggleable__label-arrow:before {content: \"▸\";float: left;margin-right: 0.25em;color: #696969;}#sk-container-id-1 label.sk-toggleable__label-arrow:hover:before {color: black;}#sk-container-id-1 div.sk-estimator:hover label.sk-toggleable__label-arrow:before {color: black;}#sk-container-id-1 div.sk-toggleable__content {max-height: 0;max-width: 0;overflow: hidden;text-align: left;background-color: #f0f8ff;}#sk-container-id-1 div.sk-toggleable__content pre {margin: 0.2em;color: black;border-radius: 0.25em;background-color: #f0f8ff;}#sk-container-id-1 input.sk-toggleable__control:checked~div.sk-toggleable__content {max-height: 200px;max-width: 100%;overflow: auto;}#sk-container-id-1 input.sk-toggleable__control:checked~label.sk-toggleable__label-arrow:before {content: \"▾\";}#sk-container-id-1 div.sk-estimator input.sk-toggleable__control:checked~label.sk-toggleable__label {background-color: #d4ebff;}#sk-container-id-1 div.sk-label input.sk-toggleable__control:checked~label.sk-toggleable__label {background-color: #d4ebff;}#sk-container-id-1 input.sk-hidden--visually {border: 0;clip: rect(1px 1px 1px 1px);clip: rect(1px, 1px, 1px, 1px);height: 1px;margin: -1px;overflow: hidden;padding: 0;position: absolute;width: 1px;}#sk-container-id-1 div.sk-estimator {font-family: monospace;background-color: #f0f8ff;border: 1px dotted black;border-radius: 0.25em;box-sizing: border-box;margin-bottom: 0.5em;}#sk-container-id-1 div.sk-estimator:hover {background-color: #d4ebff;}#sk-container-id-1 div.sk-parallel-item::after {content: \"\";width: 100%;border-bottom: 1px solid gray;flex-grow: 1;}#sk-container-id-1 div.sk-label:hover label.sk-toggleable__label {background-color: #d4ebff;}#sk-container-id-1 div.sk-serial::before {content: \"\";position: absolute;border-left: 1px solid gray;box-sizing: border-box;top: 0;bottom: 0;left: 50%;z-index: 0;}#sk-container-id-1 div.sk-serial {display: flex;flex-direction: column;align-items: center;background-color: white;padding-right: 0.2em;padding-left: 0.2em;position: relative;}#sk-container-id-1 div.sk-item {position: relative;z-index: 1;}#sk-container-id-1 div.sk-parallel {display: flex;align-items: stretch;justify-content: center;background-color: white;position: relative;}#sk-container-id-1 div.sk-item::before, #sk-container-id-1 div.sk-parallel-item::before {content: \"\";position: absolute;border-left: 1px solid gray;box-sizing: border-box;top: 0;bottom: 0;left: 50%;z-index: -1;}#sk-container-id-1 div.sk-parallel-item {display: flex;flex-direction: column;z-index: 1;position: relative;background-color: white;}#sk-container-id-1 div.sk-parallel-item:first-child::after {align-self: flex-end;width: 50%;}#sk-container-id-1 div.sk-parallel-item:last-child::after {align-self: flex-start;width: 50%;}#sk-container-id-1 div.sk-parallel-item:only-child::after {width: 0;}#sk-container-id-1 div.sk-dashed-wrapped {border: 1px dashed gray;margin: 0 0.4em 0.5em 0.4em;box-sizing: border-box;padding-bottom: 0.4em;background-color: white;}#sk-container-id-1 div.sk-label label {font-family: monospace;font-weight: bold;display: inline-block;line-height: 1.2em;}#sk-container-id-1 div.sk-label-container {text-align: center;}#sk-container-id-1 div.sk-container {/* jupyter's `normalize.less` sets `[hidden] { display: none; }` but bootstrap.min.css set `[hidden] { display: none !important; }` so we also need the `!important` here to be able to override the default hidden behavior on the sphinx rendered scikit-learn.org. See: https://github.com/scikit-learn/scikit-learn/issues/21755 */display: inline-block !important;position: relative;}#sk-container-id-1 div.sk-text-repr-fallback {display: none;}</style><div id=\"sk-container-id-1\" class=\"sk-top-container\"><div class=\"sk-text-repr-fallback\"><pre>Lasso(alpha=10)</pre><b>In a Jupyter environment, please rerun this cell to show the HTML representation or trust the notebook. <br />On GitHub, the HTML representation is unable to render, please try loading this page with nbviewer.org.</b></div><div class=\"sk-container\" hidden><div class=\"sk-item\"><div class=\"sk-estimator sk-toggleable\"><input class=\"sk-toggleable__control sk-hidden--visually\" id=\"sk-estimator-id-1\" type=\"checkbox\" checked><label for=\"sk-estimator-id-1\" class=\"sk-toggleable__label sk-toggleable__label-arrow\">Lasso</label><div class=\"sk-toggleable__content\"><pre>Lasso(alpha=10)</pre></div></div></div></div></div>"
            ]
          },
          "metadata": {},
          "execution_count": 7
        }
      ]
    },
    {
      "cell_type": "markdown",
      "source": [
        "# 6. Predict the target"
      ],
      "metadata": {
        "id": "ex_LFw4gmB1M"
      }
    },
    {
      "cell_type": "code",
      "source": [
        "# making predictions on the training data\n",
        "y_pred = lasso.predict(X_reshaped)\n",
        "\n",
        "print(\"\\nPredicted values =>\\n\", y_pred)"
      ],
      "metadata": {
        "colab": {
          "base_uri": "https://localhost:8080/"
        },
        "id": "DIUbseX0mHWd",
        "outputId": "0de93a74-c5d4-438f-e2c1-1fcebacc501e"
      },
      "execution_count": 8,
      "outputs": [
        {
          "output_type": "stream",
          "name": "stdout",
          "text": [
            "\n",
            "Predicted values =>\n",
            " [22.36039604 22.36039604 22.36039604 22.36039604 22.36039604 22.36039604\n",
            " 22.36039604 22.36039604 22.36039604 22.36039604 22.36039604 22.36039604\n",
            " 22.36039604 22.36039604 22.36039604 22.36039604 22.36039604 22.36039604\n",
            " 22.36039604 22.36039604 22.36039604 22.36039604 22.36039604 22.36039604\n",
            " 22.36039604 22.36039604 22.36039604 22.36039604 22.36039604 22.36039604\n",
            " 22.36039604 22.36039604 22.36039604 22.36039604 22.36039604 22.36039604\n",
            " 22.36039604 22.36039604 22.36039604 22.36039604 22.36039604 22.36039604\n",
            " 22.36039604 22.36039604 22.36039604 22.36039604 22.36039604 22.36039604\n",
            " 22.36039604 22.36039604 22.36039604 22.36039604 22.36039604 22.36039604\n",
            " 22.36039604 22.36039604 22.36039604 22.36039604 22.36039604 22.36039604\n",
            " 22.36039604 22.36039604 22.36039604 22.36039604 22.36039604 22.36039604\n",
            " 22.36039604 22.36039604 22.36039604 22.36039604 22.36039604 22.36039604\n",
            " 22.36039604 22.36039604 22.36039604 22.36039604 22.36039604 22.36039604\n",
            " 22.36039604 22.36039604 22.36039604 22.36039604 22.36039604 22.36039604\n",
            " 22.36039604 22.36039604 22.36039604 22.36039604 22.36039604 22.36039604\n",
            " 22.36039604 22.36039604 22.36039604 22.36039604 22.36039604 22.36039604\n",
            " 22.36039604 22.36039604 22.36039604 22.36039604 22.36039604]\n"
          ]
        }
      ]
    },
    {
      "cell_type": "markdown",
      "source": [
        "# 7. Evaluate the model"
      ],
      "metadata": {
        "id": "z_Zpv6idnHBf"
      }
    },
    {
      "cell_type": "code",
      "source": [
        "#  mean_squared_erro(actual, predicted)\n",
        "mse = mean_squared_error(y_reshaped, y_pred)\n",
        "print(\"\\nMean Squared Error =>\\n\", mse)\n",
        "print(\"\\nModel Coefficients =>\\n\", lasso.coef_)\n",
        "print(\"\\nModel Intercept =>\\n\", lasso.intercept_)"
      ],
      "metadata": {
        "colab": {
          "base_uri": "https://localhost:8080/"
        },
        "id": "ZtviqzdEnJry",
        "outputId": "1128a6b8-62f3-4bb9-f88b-80d8bea16e06"
      },
      "execution_count": 9,
      "outputs": [
        {
          "output_type": "stream",
          "name": "stdout",
          "text": [
            "\n",
            "Mean Squared Error =>\n",
            " 34.709124595627884\n",
            "\n",
            "Model Coefficients =>\n",
            " [0.]\n",
            "\n",
            "Model Intercept =>\n",
            " [22.36039604]\n"
          ]
        }
      ]
    },
    {
      "cell_type": "markdown",
      "source": [
        "# 8. Compare true vs predicted values"
      ],
      "metadata": {
        "id": "B-2yClDKnyMs"
      }
    },
    {
      "cell_type": "code",
      "source": [
        "if len(y_reshaped) != len(y_pred):\n",
        "  print(\"\\nThe lists 'y_true' and 'y_pred' must have the same length.\\n\")\n",
        "else:\n",
        "  # threshold = 2  # Define a threshold for the difference\n",
        "  red_color = \"\\033[91m\"\n",
        "  reset_color = \"\\033[0m\"\n",
        "\n",
        "print(f\"{'y_reshaped':>15} {'y_pred':>15}\")\n",
        "print(\"=\"*31)\n",
        "\n",
        "for true, pred in zip(y_reshaped, y_pred):\n",
        "  diff = abs(true - pred)\n",
        "  threshold = 0.1 * abs(true)  # Define a threshold 10% of the true value for the difference\n",
        "\n",
        "  if diff > threshold:\n",
        "    # Extract the numeric values from the arrays for formatting if they are arrays, otherwise just use the value\n",
        "    true_value = true[0] if isinstance(true, (list, np.ndarray)) else true\n",
        "    pred_value = pred[0] if isinstance(pred, (list, np.ndarray)) else pred\n",
        "    print(f\"{red_color}{true_value:>15.5f} {pred_value:>15.5f}{reset_color}\")\n",
        "  else:\n",
        "    # Extract the numeric values from the arrays for formatting if they are arrays, otherwise just use the value\n",
        "    true_value = true[0] if isinstance(true, (list, np.ndarray)) else true\n",
        "    pred_value = pred[0] if isinstance(pred, (list, np.ndarray)) else pred\n",
        "    print(f\"{true_value:>15.5f} {pred_value:>15.5f}\")"
      ],
      "metadata": {
        "colab": {
          "base_uri": "https://localhost:8080/"
        },
        "id": "z86k-XgKoGOq",
        "outputId": "4234b37b-f2fd-41d3-c777-ee33ea2cf07a"
      },
      "execution_count": 10,
      "outputs": [
        {
          "output_type": "stream",
          "name": "stdout",
          "text": [
            "     y_reshaped          y_pred\n",
            "===============================\n",
            "       24.00000        22.36040\n",
            "       21.60000        22.36040\n",
            "\u001b[91m       34.70000        22.36040\u001b[0m\n",
            "\u001b[91m       33.40000        22.36040\u001b[0m\n",
            "\u001b[91m       36.20000        22.36040\u001b[0m\n",
            "\u001b[91m       28.70000        22.36040\u001b[0m\n",
            "       22.90000        22.36040\n",
            "\u001b[91m       27.10000        22.36040\u001b[0m\n",
            "\u001b[91m       16.50000        22.36040\u001b[0m\n",
            "\u001b[91m       18.90000        22.36040\u001b[0m\n",
            "\u001b[91m       15.00000        22.36040\u001b[0m\n",
            "\u001b[91m       18.90000        22.36040\u001b[0m\n",
            "       21.70000        22.36040\n",
            "       20.40000        22.36040\n",
            "\u001b[91m       18.20000        22.36040\u001b[0m\n",
            "\u001b[91m       19.90000        22.36040\u001b[0m\n",
            "       23.10000        22.36040\n",
            "\u001b[91m       17.50000        22.36040\u001b[0m\n",
            "\u001b[91m       20.20000        22.36040\u001b[0m\n",
            "\u001b[91m       18.20000        22.36040\u001b[0m\n",
            "\u001b[91m       13.60000        22.36040\u001b[0m\n",
            "\u001b[91m       19.60000        22.36040\u001b[0m\n",
            "\u001b[91m       15.20000        22.36040\u001b[0m\n",
            "\u001b[91m       14.50000        22.36040\u001b[0m\n",
            "\u001b[91m       15.60000        22.36040\u001b[0m\n",
            "\u001b[91m       13.90000        22.36040\u001b[0m\n",
            "\u001b[91m       16.60000        22.36040\u001b[0m\n",
            "\u001b[91m       14.80000        22.36040\u001b[0m\n",
            "\u001b[91m       18.40000        22.36040\u001b[0m\n",
            "       21.00000        22.36040\n",
            "\u001b[91m       12.70000        22.36040\u001b[0m\n",
            "\u001b[91m       14.50000        22.36040\u001b[0m\n",
            "\u001b[91m       13.20000        22.36040\u001b[0m\n",
            "\u001b[91m       13.10000        22.36040\u001b[0m\n",
            "\u001b[91m       13.50000        22.36040\u001b[0m\n",
            "\u001b[91m       18.90000        22.36040\u001b[0m\n",
            "\u001b[91m       20.00000        22.36040\u001b[0m\n",
            "       21.00000        22.36040\n",
            "       24.70000        22.36040\n",
            "\u001b[91m       30.80000        22.36040\u001b[0m\n",
            "\u001b[91m       34.90000        22.36040\u001b[0m\n",
            "\u001b[91m       26.60000        22.36040\u001b[0m\n",
            "\u001b[91m       25.30000        22.36040\u001b[0m\n",
            "       24.70000        22.36040\n",
            "       21.20000        22.36040\n",
            "\u001b[91m       19.30000        22.36040\u001b[0m\n",
            "\u001b[91m       20.00000        22.36040\u001b[0m\n",
            "\u001b[91m       16.60000        22.36040\u001b[0m\n",
            "\u001b[91m       14.40000        22.36040\u001b[0m\n",
            "\u001b[91m       19.40000        22.36040\u001b[0m\n",
            "\u001b[91m       19.70000        22.36040\u001b[0m\n",
            "       20.50000        22.36040\n",
            "\u001b[91m       25.00000        22.36040\u001b[0m\n",
            "       23.40000        22.36040\n",
            "\u001b[91m       18.90000        22.36040\u001b[0m\n",
            "\u001b[91m       35.40000        22.36040\u001b[0m\n",
            "       24.70000        22.36040\n",
            "\u001b[91m       31.60000        22.36040\u001b[0m\n",
            "       23.30000        22.36040\n",
            "\u001b[91m       19.60000        22.36040\u001b[0m\n",
            "\u001b[91m       18.70000        22.36040\u001b[0m\n",
            "\u001b[91m       16.00000        22.36040\u001b[0m\n",
            "       22.20000        22.36040\n",
            "\u001b[91m       25.00000        22.36040\u001b[0m\n",
            "\u001b[91m       33.00000        22.36040\u001b[0m\n",
            "       23.50000        22.36040\n",
            "\u001b[91m       19.40000        22.36040\u001b[0m\n",
            "       22.00000        22.36040\n",
            "\u001b[91m       17.40000        22.36040\u001b[0m\n",
            "       20.90000        22.36040\n",
            "       24.20000        22.36040\n",
            "       21.70000        22.36040\n",
            "       22.80000        22.36040\n",
            "       23.40000        22.36040\n",
            "       24.10000        22.36040\n",
            "       21.40000        22.36040\n",
            "\u001b[91m       20.00000        22.36040\u001b[0m\n",
            "       20.80000        22.36040\n",
            "       21.20000        22.36040\n",
            "\u001b[91m       20.30000        22.36040\u001b[0m\n",
            "\u001b[91m       28.00000        22.36040\u001b[0m\n",
            "       23.90000        22.36040\n",
            "       24.80000        22.36040\n",
            "       22.90000        22.36040\n",
            "       23.90000        22.36040\n",
            "\u001b[91m       26.60000        22.36040\u001b[0m\n",
            "       22.50000        22.36040\n",
            "       22.20000        22.36040\n",
            "       23.60000        22.36040\n",
            "\u001b[91m       28.70000        22.36040\u001b[0m\n",
            "       22.60000        22.36040\n",
            "       22.00000        22.36040\n",
            "       22.90000        22.36040\n",
            "\u001b[91m       25.00000        22.36040\u001b[0m\n",
            "       20.60000        22.36040\n",
            "\u001b[91m       28.40000        22.36040\u001b[0m\n",
            "       21.40000        22.36040\n",
            "\u001b[91m       38.70000        22.36040\u001b[0m\n",
            "\u001b[91m       43.80000        22.36040\u001b[0m\n",
            "\u001b[91m       33.20000        22.36040\u001b[0m\n",
            "\u001b[91m       27.50000        22.36040\u001b[0m\n"
          ]
        }
      ]
    },
    {
      "cell_type": "markdown",
      "source": [
        "# 9. Data Visualization"
      ],
      "metadata": {
        "id": "C8-LEtl8pm3y"
      }
    },
    {
      "cell_type": "markdown",
      "source": [
        "## 9.1 Scatterplot without best fit line"
      ],
      "metadata": {
        "id": "tLDX7AfQp9Xp"
      }
    },
    {
      "cell_type": "code",
      "source": [
        "# scatterplot for L1 Regularization (Lasso)\n",
        "sns.scatterplot(x=X,y=y)\n",
        "# plt.plot(X_reshaped, y_pred, color=\"red\")\n",
        "plt.title(\"Linear Regression Model with L1 Regularization (Lasso)\")\n",
        "plt.show()"
      ],
      "metadata": {
        "colab": {
          "base_uri": "https://localhost:8080/",
          "height": 452
        },
        "id": "DtlzvVEPptAL",
        "outputId": "afe14443-bd89-4f4f-86c8-92fe95ad6237"
      },
      "execution_count": 11,
      "outputs": [
        {
          "output_type": "display_data",
          "data": {
            "text/plain": [
              "<Figure size 640x480 with 1 Axes>"
            ],
            "image/png": "[encoded data removed]"
          },
          "metadata": {}
        }
      ]
    },
    {
      "cell_type": "markdown",
      "source": [
        "## 9.1 Scatterplot with best fit line"
      ],
      "metadata": {
        "id": "iWLXUnnCq3UD"
      }
    },
    {
      "cell_type": "code",
      "source": [
        "# scatterplot for L1 Regularization (Lasso)\n",
        "sns.scatterplot(x=X,y=y)\n",
        "plt.plot(X_reshaped, y_pred, color=\"red\")\n",
        "plt.title(\"Linear Regression Model with L1 Regularization (Lasso)\")\n",
        "plt.show()"
      ],
      "metadata": {
        "colab": {
          "base_uri": "https://localhost:8080/",
          "height": 452
        },
        "id": "pehnyCSiqtbl",
        "outputId": "315bc8d4-449d-4ef3-af21-9a830444cc2d"
      },
      "execution_count": 12,
      "outputs": [
        {
          "output_type": "display_data",
          "data": {
            "text/plain": [
              "<Figure size 640x480 with 1 Axes>"
            ],
            "image/png": "[encoded data removed]"
          },
          "metadata": {}
        }
      ]
    },
    {
      "cell_type": "markdown",
      "source": [
        "# 10. Build and train model"
      ],
      "metadata": {
        "id": "B8lGbn2Mdij3"
      }
    },
    {
      "cell_type": "code",
      "source": [
        "# instantiating the rideg regression model\n",
        "ridge = Ridge(alpha=100)\n",
        "\n",
        "# training the model\n",
        "ridge.fit(X_reshaped, y_reshaped)"
      ],
      "metadata": {
        "colab": {
          "base_uri": "https://localhost:8080/",
          "height": 74
        },
        "id": "7dOReE0Kdn5P",
        "outputId": "13ffbd06-0ebe-42b9-ea62-48eb5c0a9216"
      },
      "execution_count": 13,
      "outputs": [
        {
          "output_type": "execute_result",
          "data": {
            "text/plain": [
              "Ridge(alpha=100)"
            ],
            "text/html": [
              "<style>#sk-container-id-2 {color: black;background-color: white;}#sk-container-id-2 pre{padding: 0;}#sk-container-id-2 div.sk-toggleable {background-color: white;}#sk-container-id-2 label.sk-toggleable__label {cursor: pointer;display: block;width: 100%;margin-bottom: 0;padding: 0.3em;box-sizing: border-box;text-align: center;}#sk-container-id-2 label.sk-toggleable__label-arrow:before {content: \"▸\";float: left;margin-right: 0.25em;color: #696969;}#sk-container-id-2 label.sk-toggleable__label-arrow:hover:before {color: black;}#sk-container-id-2 div.sk-estimator:hover label.sk-toggleable__label-arrow:before {color: black;}#sk-container-id-2 div.sk-toggleable__content {max-height: 0;max-width: 0;overflow: hidden;text-align: left;background-color: #f0f8ff;}#sk-container-id-2 div.sk-toggleable__content pre {margin: 0.2em;color: black;border-radius: 0.25em;background-color: #f0f8ff;}#sk-container-id-2 input.sk-toggleable__control:checked~div.sk-toggleable__content {max-height: 200px;max-width: 100%;overflow: auto;}#sk-container-id-2 input.sk-toggleable__control:checked~label.sk-toggleable__label-arrow:before {content: \"▾\";}#sk-container-id-2 div.sk-estimator input.sk-toggleable__control:checked~label.sk-toggleable__label {background-color: #d4ebff;}#sk-container-id-2 div.sk-label input.sk-toggleable__control:checked~label.sk-toggleable__label {background-color: #d4ebff;}#sk-container-id-2 input.sk-hidden--visually {border: 0;clip: rect(1px 1px 1px 1px);clip: rect(1px, 1px, 1px, 1px);height: 1px;margin: -1px;overflow: hidden;padding: 0;position: absolute;width: 1px;}#sk-container-id-2 div.sk-estimator {font-family: monospace;background-color: #f0f8ff;border: 1px dotted black;border-radius: 0.25em;box-sizing: border-box;margin-bottom: 0.5em;}#sk-container-id-2 div.sk-estimator:hover {background-color: #d4ebff;}#sk-container-id-2 div.sk-parallel-item::after {content: \"\";width: 100%;border-bottom: 1px solid gray;flex-grow: 1;}#sk-container-id-2 div.sk-label:hover label.sk-toggleable__label {background-color: #d4ebff;}#sk-container-id-2 div.sk-serial::before {content: \"\";position: absolute;border-left: 1px solid gray;box-sizing: border-box;top: 0;bottom: 0;left: 50%;z-index: 0;}#sk-container-id-2 div.sk-serial {display: flex;flex-direction: column;align-items: center;background-color: white;padding-right: 0.2em;padding-left: 0.2em;position: relative;}#sk-container-id-2 div.sk-item {position: relative;z-index: 1;}#sk-container-id-2 div.sk-parallel {display: flex;align-items: stretch;justify-content: center;background-color: white;position: relative;}#sk-container-id-2 div.sk-item::before, #sk-container-id-2 div.sk-parallel-item::before {content: \"\";position: absolute;border-left: 1px solid gray;box-sizing: border-box;top: 0;bottom: 0;left: 50%;z-index: -1;}#sk-container-id-2 div.sk-parallel-item {display: flex;flex-direction: column;z-index: 1;position: relative;background-color: white;}#sk-container-id-2 div.sk-parallel-item:first-child::after {align-self: flex-end;width: 50%;}#sk-container-id-2 div.sk-parallel-item:last-child::after {align-self: flex-start;width: 50%;}#sk-container-id-2 div.sk-parallel-item:only-child::after {width: 0;}#sk-container-id-2 div.sk-dashed-wrapped {border: 1px dashed gray;margin: 0 0.4em 0.5em 0.4em;box-sizing: border-box;padding-bottom: 0.4em;background-color: white;}#sk-container-id-2 div.sk-label label {font-family: monospace;font-weight: bold;display: inline-block;line-height: 1.2em;}#sk-container-id-2 div.sk-label-container {text-align: center;}#sk-container-id-2 div.sk-container {/* jupyter's `normalize.less` sets `[hidden] { display: none; }` but bootstrap.min.css set `[hidden] { display: none !important; }` so we also need the `!important` here to be able to override the default hidden behavior on the sphinx rendered scikit-learn.org. See: https://github.com/scikit-learn/scikit-learn/issues/21755 */display: inline-block !important;position: relative;}#sk-container-id-2 div.sk-text-repr-fallback {display: none;}</style><div id=\"sk-container-id-2\" class=\"sk-top-container\"><div class=\"sk-text-repr-fallback\"><pre>Ridge(alpha=100)</pre><b>In a Jupyter environment, please rerun this cell to show the HTML representation or trust the notebook. <br />On GitHub, the HTML representation is unable to render, please try loading this page with nbviewer.org.</b></div><div class=\"sk-container\" hidden><div class=\"sk-item\"><div class=\"sk-estimator sk-toggleable\"><input class=\"sk-toggleable__control sk-hidden--visually\" id=\"sk-estimator-id-2\" type=\"checkbox\" checked><label for=\"sk-estimator-id-2\" class=\"sk-toggleable__label sk-toggleable__label-arrow\">Ridge</label><div class=\"sk-toggleable__content\"><pre>Ridge(alpha=100)</pre></div></div></div></div></div>"
            ]
          },
          "metadata": {},
          "execution_count": 13
        }
      ]
    },
    {
      "cell_type": "markdown",
      "source": [
        "# 11. Predict the target variables"
      ],
      "metadata": {
        "id": "jwYjILt7et3k"
      }
    },
    {
      "cell_type": "code",
      "source": [
        "# making predictions on the training data\n",
        "y_pred = ridge.predict(X_reshaped)\n",
        "\n",
        "print(\"\\nPredicted values =>\\n\", y_pred)"
      ],
      "metadata": {
        "colab": {
          "base_uri": "https://localhost:8080/"
        },
        "id": "MGnARa5Ves3F",
        "outputId": "3f00f557-69fe-4ce4-b968-45d9aef9f9c0"
      },
      "execution_count": 14,
      "outputs": [
        {
          "output_type": "stream",
          "name": "stdout",
          "text": [
            "\n",
            "Predicted values =>\n",
            " [[23.02692885]\n",
            " [22.72117336]\n",
            " [24.23803824]\n",
            " [23.86676372]\n",
            " [24.16259208]\n",
            " [22.73904219]\n",
            " [21.90913444]\n",
            " [22.22680248]\n",
            " [21.15268742]\n",
            " [21.89325104]\n",
            " [22.63381465]\n",
            " [21.90317816]\n",
            " [21.66492713]\n",
            " [21.78405265]\n",
            " [22.07591016]\n",
            " [21.55572875]\n",
            " [21.7562567 ]\n",
            " [21.86545508]\n",
            " [20.80523801]\n",
            " [21.34328825]\n",
            " [21.03157648]\n",
            " [21.81581945]\n",
            " [22.16723972]\n",
            " [21.51403482]\n",
            " [21.73441702]\n",
            " [21.08915382]\n",
            " [21.51403482]\n",
            " [21.97862432]\n",
            " [22.86809483]\n",
            " [23.22348594]\n",
            " [21.31549229]\n",
            " [22.02825995]\n",
            " [21.78603807]\n",
            " [21.29166719]\n",
            " [22.07591016]\n",
            " [21.75228585]\n",
            " [21.56962672]\n",
            " [21.58749555]\n",
            " [21.81780488]\n",
            " [23.06663735]\n",
            " [23.91838478]\n",
            " [23.41408677]\n",
            " [22.2208462 ]\n",
            " [22.30423406]\n",
            " [22.02230368]\n",
            " [21.25394411]\n",
            " [21.46042834]\n",
            " [21.94487209]\n",
            " [20.69206877]\n",
            " [21.09511009]\n",
            " [21.8118486 ]\n",
            " [22.11363324]\n",
            " [22.89986163]\n",
            " [21.88133849]\n",
            " [21.66294171]\n",
            " [24.36510545]\n",
            " [22.6457272 ]\n",
            " [23.50541633]\n",
            " [22.17319599]\n",
            " [21.74037329]\n",
            " [21.3710842 ]\n",
            " [21.81780488]\n",
            " [22.79066324]\n",
            " [23.39820336]\n",
            " [24.0772188 ]\n",
            " [22.46108265]\n",
            " [21.46241376]\n",
            " [21.64308746]\n",
            " [21.07922669]\n",
            " [21.65698543]\n",
            " [22.71323166]\n",
            " [21.80787775]\n",
            " [22.01436198]\n",
            " [22.37173852]\n",
            " [22.42733043]\n",
            " [22.45314095]\n",
            " [22.43924298]\n",
            " [22.16326887]\n",
            " [22.34592799]\n",
            " [21.63514576]\n",
            " [23.32871348]\n",
            " [23.11428756]\n",
            " [22.48490776]\n",
            " [22.21687535]\n",
            " [22.65763975]\n",
            " [23.13612723]\n",
            " [21.91509071]\n",
            " [22.12554579]\n",
            " [23.88463255]\n",
            " [24.02758316]\n",
            " [22.71323166]\n",
            " [22.68940656]\n",
            " [22.76286729]\n",
            " [22.30423406]\n",
            " [22.37968022]\n",
            " [23.12620011]\n",
            " [22.20893365]\n",
            " [25.99315415]\n",
            " [25.49878326]\n",
            " [24.69667147]\n",
            " [23.32871348]]\n"
          ]
        }
      ]
    },
    {
      "cell_type": "markdown",
      "source": [
        "# 12. Evaluate the model"
      ],
      "metadata": {
        "id": "1rpJg4-RfVs1"
      }
    },
    {
      "cell_type": "code",
      "source": [
        "#  mean_squared_erro(actual, predicted)\n",
        "mse = mean_squared_error(y_reshaped, y_pred)\n",
        "print(\"\\nMean Squared Error =>\\n\", mse)\n",
        "print(\"\\nModel Coefficients =>\\n\", ridge.coef_)\n",
        "print(\"\\nModel Intercept =>\\n\", ridge.intercept_)"
      ],
      "metadata": {
        "colab": {
          "base_uri": "https://localhost:8080/"
        },
        "id": "dQD6GP3vfYzj",
        "outputId": "6583db1f-ef67-4c74-e2ff-09a5becdf295"
      },
      "execution_count": 15,
      "outputs": [
        {
          "output_type": "stream",
          "name": "stdout",
          "text": [
            "\n",
            "Mean Squared Error =>\n",
            " 25.96309109305436\n",
            "\n",
            "Model Coefficients =>\n",
            " [[1.98542524]]\n",
            "\n",
            "Model Intercept =>\n",
            " [9.97275793]\n"
          ]
        }
      ]
    },
    {
      "cell_type": "markdown",
      "source": [
        "# 13. Data Visualization\n",
        "## 13.1 Scatterplot without best fit line"
      ],
      "metadata": {
        "id": "sI06vM-4gANh"
      }
    },
    {
      "cell_type": "code",
      "source": [
        "# scatterplot for L2 Regularization (Ridge)\n",
        "sns.scatterplot(x=X,y=y)\n",
        "# plt.plot(X_reshaped, y_pred, color=\"red\")\n",
        "plt.title(\"Linear Regression Model with L2 Regularization (Ridge)\")\n",
        "plt.show()"
      ],
      "metadata": {
        "colab": {
          "base_uri": "https://localhost:8080/",
          "height": 452
        },
        "id": "_1okPXGmgHKP",
        "outputId": "6be29c21-47f8-4dc5-81cb-e23f5d2b3126"
      },
      "execution_count": 16,
      "outputs": [
        {
          "output_type": "display_data",
          "data": {
            "text/plain": [
              "<Figure size 640x480 with 1 Axes>"
            ],
            "image/png": "[encoded data removed]"
          },
          "metadata": {}
        }
      ]
    },
    {
      "cell_type": "markdown",
      "source": [
        "# 13.2 Scatterplot with best fit line"
      ],
      "metadata": {
        "id": "5-r7RZzYgzVM"
      }
    },
    {
      "cell_type": "code",
      "source": [
        "# scatterplot for L2 Regularization (Ridge)\n",
        "sns.scatterplot(x=X,y=y)\n",
        "# plt.plot(X_reshaped, y_pred, color=\"red\")\n",
        "plt.title(\"Linear Regression Model with L2 Regularization (Ridge)\")\n",
        "plt.show()"
      ],
      "metadata": {
        "colab": {
          "base_uri": "https://localhost:8080/",
          "height": 452
        },
        "id": "6Pe-AIvvg50h",
        "outputId": "51219796-5866-4762-ce13-eab157e6fe2a"
      },
      "execution_count": 17,
      "outputs": [
        {
          "output_type": "display_data",
          "data": {
            "text/plain": [
              "<Figure size 640x480 with 1 Axes>"
            ],
            "image/png": "[encoded data removed]"
          },
          "metadata": {}
        }
      ]
    }
  ]
}