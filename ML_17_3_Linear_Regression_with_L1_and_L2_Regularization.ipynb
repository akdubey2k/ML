{
  "nbformat": 4,
  "nbformat_minor": 0,
  "metadata": {
    "colab": {
      "provenance": []
    },
    "kernelspec": {
      "name": "python3",
      "display_name": "Python 3"
    },
    "language_info": {
      "name": "python"
    }
  },
  "cells": [
    {
      "cell_type": "markdown",
      "source": [
        "# 1. Description\n",
        "**L1 regularization,** also known as **L1 norm or Lasso** (in regression problems), combats overfitting by shrinking the parameters towards **0.** This makes some features obsolete."
      ],
      "metadata": {
        "id": "FvH311BLywZR"
      }
    },
    {
      "cell_type": "markdown",
      "source": [
        "It’s a form of feature selection, because when we assign a feature with a **0 weight,** we’re *multiplying the feature values by **0 which returns 0,** eradicating the significance of that feature.*\n",
        "\n",
        "If the input features of our model have weights closer to **0,** our **L1** norm would be sparse. A selection of the input features would have weights equal to zero, and the rest would be non-zero."
      ],
      "metadata": {
        "id": "lJnA8xCNzFp1"
      }
    },
    {
      "cell_type": "markdown",
      "source": [
        "**Thanks To:**\n",
        "1. [Fighting Overfitting With L1 or L2 Regularization](https://neptune.ai/blog/fighting-overfitting-with-l1-or-l2-regularization)"
      ],
      "metadata": {
        "id": "vWvSpiw5zwGS"
      }
    },
    {
      "cell_type": "markdown",
      "source": [
        "# 2. Import libraries"
      ],
      "metadata": {
        "id": "R69bxDey1L5H"
      }
    },
    {
      "cell_type": "code",
      "execution_count": 1,
      "metadata": {
        "id": "MVuhjSrymSKc"
      },
      "outputs": [],
      "source": [
        "import warnings\n",
        "warnings.filterwarnings(\"ignore\")\n",
        "\n",
        "import numpy as np\n",
        "import pandas as pd\n",
        "import seaborn as sns\n",
        "import matplotlib.pyplot as plt\n",
        "from sklearn.preprocessing import PolynomialFeatures\n",
        "from sklearn.linear_model import LinearRegression, Lasso, Ridge\n",
        "from sklearn.metrics import mean_squared_error"
      ]
    },
    {
      "cell_type": "markdown",
      "source": [
        "# 3. Load dataset"
      ],
      "metadata": {
        "id": "2ySef8ja2NS9"
      }
    },
    {
      "cell_type": "code",
      "source": [
        "# load the dataset\n",
        "url = \"https://raw.githubusercontent.com/akdubey2k/ML/main/ML_17_2_Linear_Regression_without_Regularization/ML_17_2_housing.csv\"\n",
        "\n",
        "# reading data into pandas dataframe\n",
        "df = pd.read_csv(url, header=None)\n",
        "df.head(5)"
      ],
      "metadata": {
        "colab": {
          "base_uri": "https://localhost:8080/",
          "height": 206
        },
        "id": "d6H_FlPZ18Am",
        "outputId": "1dee203d-7e85-4a90-8936-18df469701d2"
      },
      "execution_count": 2,
      "outputs": [
        {
          "output_type": "execute_result",
          "data": {
            "text/plain": [
              "        0     1     2   3      4      5     6       7   8      9     10  \\\n",
              "0  0.00632  18.0  2.31   0  0.538  6.575  65.2  4.0900   1  296.0  15.3   \n",
              "1  0.02731   0.0  7.07   0  0.469  6.421  78.9  4.9671   2  242.0  17.8   \n",
              "2  0.02729   0.0  7.07   0  0.469  7.185  61.1  4.9671   2  242.0  17.8   \n",
              "3  0.03237   0.0  2.18   0  0.458  6.998  45.8  6.0622   3  222.0  18.7   \n",
              "4  0.06905   0.0  2.18   0  0.458  7.147  54.2  6.0622   3  222.0  18.7   \n",
              "\n",
              "       11    12    13  \n",
              "0  396.90  4.98  24.0  \n",
              "1  396.90  9.14  21.6  \n",
              "2  392.83  4.03  34.7  \n",
              "3  394.63  2.94  33.4  \n",
              "4  396.90  5.33  36.2  "
            ],
            "text/html": [
              "\n",
              "  <div id=\"df-7ea29d44-c30d-40e7-b720-5334b31cbaec\" class=\"colab-df-container\">\n",
              "    <div>\n",
              "<style scoped>\n",
              "    .dataframe tbody tr th:only-of-type {\n",
              "        vertical-align: middle;\n",
              "    }\n",
              "\n",
              "    .dataframe tbody tr th {\n",
              "        vertical-align: top;\n",
              "    }\n",
              "\n",
              "    .dataframe thead th {\n",
              "        text-align: right;\n",
              "    }\n",
              "</style>\n",
              "<table border=\"1\" class=\"dataframe\">\n",
              "  <thead>\n",
              "    <tr style=\"text-align: right;\">\n",
              "      <th></th>\n",
              "      <th>0</th>\n",
              "      <th>1</th>\n",
              "      <th>2</th>\n",
              "      <th>3</th>\n",
              "      <th>4</th>\n",
              "      <th>5</th>\n",
              "      <th>6</th>\n",
              "      <th>7</th>\n",
              "      <th>8</th>\n",
              "      <th>9</th>\n",
              "      <th>10</th>\n",
              "      <th>11</th>\n",
              "      <th>12</th>\n",
              "      <th>13</th>\n",
              "    </tr>\n",
              "  </thead>\n",
              "  <tbody>\n",
              "    <tr>\n",
              "      <th>0</th>\n",
              "      <td>0.00632</td>\n",
              "      <td>18.0</td>\n",
              "      <td>2.31</td>\n",
              "      <td>0</td>\n",
              "      <td>0.538</td>\n",
              "      <td>6.575</td>\n",
              "      <td>65.2</td>\n",
              "      <td>4.0900</td>\n",
              "      <td>1</td>\n",
              "      <td>296.0</td>\n",
              "      <td>15.3</td>\n",
              "      <td>396.90</td>\n",
              "      <td>4.98</td>\n",
              "      <td>24.0</td>\n",
              "    </tr>\n",
              "    <tr>\n",
              "      <th>1</th>\n",
              "      <td>0.02731</td>\n",
              "      <td>0.0</td>\n",
              "      <td>7.07</td>\n",
              "      <td>0</td>\n",
              "      <td>0.469</td>\n",
              "      <td>6.421</td>\n",
              "      <td>78.9</td>\n",
              "      <td>4.9671</td>\n",
              "      <td>2</td>\n",
              "      <td>242.0</td>\n",
              "      <td>17.8</td>\n",
              "      <td>396.90</td>\n",
              "      <td>9.14</td>\n",
              "      <td>21.6</td>\n",
              "    </tr>\n",
              "    <tr>\n",
              "      <th>2</th>\n",
              "      <td>0.02729</td>\n",
              "      <td>0.0</td>\n",
              "      <td>7.07</td>\n",
              "      <td>0</td>\n",
              "      <td>0.469</td>\n",
              "      <td>7.185</td>\n",
              "      <td>61.1</td>\n",
              "      <td>4.9671</td>\n",
              "      <td>2</td>\n",
              "      <td>242.0</td>\n",
              "      <td>17.8</td>\n",
              "      <td>392.83</td>\n",
              "      <td>4.03</td>\n",
              "      <td>34.7</td>\n",
              "    </tr>\n",
              "    <tr>\n",
              "      <th>3</th>\n",
              "      <td>0.03237</td>\n",
              "      <td>0.0</td>\n",
              "      <td>2.18</td>\n",
              "      <td>0</td>\n",
              "      <td>0.458</td>\n",
              "      <td>6.998</td>\n",
              "      <td>45.8</td>\n",
              "      <td>6.0622</td>\n",
              "      <td>3</td>\n",
              "      <td>222.0</td>\n",
              "      <td>18.7</td>\n",
              "      <td>394.63</td>\n",
              "      <td>2.94</td>\n",
              "      <td>33.4</td>\n",
              "    </tr>\n",
              "    <tr>\n",
              "      <th>4</th>\n",
              "      <td>0.06905</td>\n",
              "      <td>0.0</td>\n",
              "      <td>2.18</td>\n",
              "      <td>0</td>\n",
              "      <td>0.458</td>\n",
              "      <td>7.147</td>\n",
              "      <td>54.2</td>\n",
              "      <td>6.0622</td>\n",
              "      <td>3</td>\n",
              "      <td>222.0</td>\n",
              "      <td>18.7</td>\n",
              "      <td>396.90</td>\n",
              "      <td>5.33</td>\n",
              "      <td>36.2</td>\n",
              "    </tr>\n",
              "  </tbody>\n",
              "</table>\n",
              "</div>\n",
              "    <div class=\"colab-df-buttons\">\n",
              "\n",
              "  <div class=\"colab-df-container\">\n",
              "    <button class=\"colab-df-convert\" onclick=\"convertToInteractive('df-7ea29d44-c30d-40e7-b720-5334b31cbaec')\"\n",
              "            title=\"Convert this dataframe to an interactive table.\"\n",
              "            style=\"display:none;\">\n",
              "\n",
              "  <svg xmlns=\"http://www.w3.org/2000/svg\" height=\"24px\" viewBox=\"0 -960 960 960\">\n",
              "    <path d=\"M120-120v-720h720v720H120Zm60-500h600v-160H180v160Zm220 220h160v-160H400v160Zm0 220h160v-160H400v160ZM180-400h160v-160H180v160Zm440 0h160v-160H620v160ZM180-180h160v-160H180v160Zm440 0h160v-160H620v160Z\"/>\n",
              "  </svg>\n",
              "    </button>\n",
              "\n",
              "  <style>\n",
              "    .colab-df-container {\n",
              "      display:flex;\n",
              "      gap: 12px;\n",
              "    }\n",
              "\n",
              "    .colab-df-convert {\n",
              "      background-color: #E8F0FE;\n",
              "      border: none;\n",
              "      border-radius: 50%;\n",
              "      cursor: pointer;\n",
              "      display: none;\n",
              "      fill: #1967D2;\n",
              "      height: 32px;\n",
              "      padding: 0 0 0 0;\n",
              "      width: 32px;\n",
              "    }\n",
              "\n",
              "    .colab-df-convert:hover {\n",
              "      background-color: #E2EBFA;\n",
              "      box-shadow: 0px 1px 2px rgba(60, 64, 67, 0.3), 0px 1px 3px 1px rgba(60, 64, 67, 0.15);\n",
              "      fill: #174EA6;\n",
              "    }\n",
              "\n",
              "    .colab-df-buttons div {\n",
              "      margin-bottom: 4px;\n",
              "    }\n",
              "\n",
              "    [theme=dark] .colab-df-convert {\n",
              "      background-color: #3B4455;\n",
              "      fill: #D2E3FC;\n",
              "    }\n",
              "\n",
              "    [theme=dark] .colab-df-convert:hover {\n",
              "      background-color: #434B5C;\n",
              "      box-shadow: 0px 1px 3px 1px rgba(0, 0, 0, 0.15);\n",
              "      filter: drop-shadow(0px 1px 2px rgba(0, 0, 0, 0.3));\n",
              "      fill: #FFFFFF;\n",
              "    }\n",
              "  </style>\n",
              "\n",
              "    <script>\n",
              "      const buttonEl =\n",
              "        document.querySelector('#df-7ea29d44-c30d-40e7-b720-5334b31cbaec button.colab-df-convert');\n",
              "      buttonEl.style.display =\n",
              "        google.colab.kernel.accessAllowed ? 'block' : 'none';\n",
              "\n",
              "      async function convertToInteractive(key) {\n",
              "        const element = document.querySelector('#df-7ea29d44-c30d-40e7-b720-5334b31cbaec');\n",
              "        const dataTable =\n",
              "          await google.colab.kernel.invokeFunction('convertToInteractive',\n",
              "                                                    [key], {});\n",
              "        if (!dataTable) return;\n",
              "\n",
              "        const docLinkHtml = 'Like what you see? Visit the ' +\n",
              "          '<a target=\"_blank\" href=https://colab.research.google.com/notebooks/data_table.ipynb>data table notebook</a>'\n",
              "          + ' to learn more about interactive tables.';\n",
              "        element.innerHTML = '';\n",
              "        dataTable['output_type'] = 'display_data';\n",
              "        await google.colab.output.renderOutput(dataTable, element);\n",
              "        const docLink = document.createElement('div');\n",
              "        docLink.innerHTML = docLinkHtml;\n",
              "        element.appendChild(docLink);\n",
              "      }\n",
              "    </script>\n",
              "  </div>\n",
              "\n",
              "\n",
              "<div id=\"df-03a938ac-4e99-465a-b2c7-284442d1ffe3\">\n",
              "  <button class=\"colab-df-quickchart\" onclick=\"quickchart('df-03a938ac-4e99-465a-b2c7-284442d1ffe3')\"\n",
              "            title=\"Suggest charts\"\n",
              "            style=\"display:none;\">\n",
              "\n",
              "<svg xmlns=\"http://www.w3.org/2000/svg\" height=\"24px\"viewBox=\"0 0 24 24\"\n",
              "     width=\"24px\">\n",
              "    <g>\n",
              "        <path d=\"M19 3H5c-1.1 0-2 .9-2 2v14c0 1.1.9 2 2 2h14c1.1 0 2-.9 2-2V5c0-1.1-.9-2-2-2zM9 17H7v-7h2v7zm4 0h-2V7h2v10zm4 0h-2v-4h2v4z\"/>\n",
              "    </g>\n",
              "</svg>\n",
              "  </button>\n",
              "\n",
              "<style>\n",
              "  .colab-df-quickchart {\n",
              "      --bg-color: #E8F0FE;\n",
              "      --fill-color: #1967D2;\n",
              "      --hover-bg-color: #E2EBFA;\n",
              "      --hover-fill-color: #174EA6;\n",
              "      --disabled-fill-color: #AAA;\n",
              "      --disabled-bg-color: #DDD;\n",
              "  }\n",
              "\n",
              "  [theme=dark] .colab-df-quickchart {\n",
              "      --bg-color: #3B4455;\n",
              "      --fill-color: #D2E3FC;\n",
              "      --hover-bg-color: #434B5C;\n",
              "      --hover-fill-color: #FFFFFF;\n",
              "      --disabled-bg-color: #3B4455;\n",
              "      --disabled-fill-color: #666;\n",
              "  }\n",
              "\n",
              "  .colab-df-quickchart {\n",
              "    background-color: var(--bg-color);\n",
              "    border: none;\n",
              "    border-radius: 50%;\n",
              "    cursor: pointer;\n",
              "    display: none;\n",
              "    fill: var(--fill-color);\n",
              "    height: 32px;\n",
              "    padding: 0;\n",
              "    width: 32px;\n",
              "  }\n",
              "\n",
              "  .colab-df-quickchart:hover {\n",
              "    background-color: var(--hover-bg-color);\n",
              "    box-shadow: 0 1px 2px rgba(60, 64, 67, 0.3), 0 1px 3px 1px rgba(60, 64, 67, 0.15);\n",
              "    fill: var(--button-hover-fill-color);\n",
              "  }\n",
              "\n",
              "  .colab-df-quickchart-complete:disabled,\n",
              "  .colab-df-quickchart-complete:disabled:hover {\n",
              "    background-color: var(--disabled-bg-color);\n",
              "    fill: var(--disabled-fill-color);\n",
              "    box-shadow: none;\n",
              "  }\n",
              "\n",
              "  .colab-df-spinner {\n",
              "    border: 2px solid var(--fill-color);\n",
              "    border-color: transparent;\n",
              "    border-bottom-color: var(--fill-color);\n",
              "    animation:\n",
              "      spin 1s steps(1) infinite;\n",
              "  }\n",
              "\n",
              "  @keyframes spin {\n",
              "    0% {\n",
              "      border-color: transparent;\n",
              "      border-bottom-color: var(--fill-color);\n",
              "      border-left-color: var(--fill-color);\n",
              "    }\n",
              "    20% {\n",
              "      border-color: transparent;\n",
              "      border-left-color: var(--fill-color);\n",
              "      border-top-color: var(--fill-color);\n",
              "    }\n",
              "    30% {\n",
              "      border-color: transparent;\n",
              "      border-left-color: var(--fill-color);\n",
              "      border-top-color: var(--fill-color);\n",
              "      border-right-color: var(--fill-color);\n",
              "    }\n",
              "    40% {\n",
              "      border-color: transparent;\n",
              "      border-right-color: var(--fill-color);\n",
              "      border-top-color: var(--fill-color);\n",
              "    }\n",
              "    60% {\n",
              "      border-color: transparent;\n",
              "      border-right-color: var(--fill-color);\n",
              "    }\n",
              "    80% {\n",
              "      border-color: transparent;\n",
              "      border-right-color: var(--fill-color);\n",
              "      border-bottom-color: var(--fill-color);\n",
              "    }\n",
              "    90% {\n",
              "      border-color: transparent;\n",
              "      border-bottom-color: var(--fill-color);\n",
              "    }\n",
              "  }\n",
              "</style>\n",
              "\n",
              "  <script>\n",
              "    async function quickchart(key) {\n",
              "      const quickchartButtonEl =\n",
              "        document.querySelector('#' + key + ' button');\n",
              "      quickchartButtonEl.disabled = true;  // To prevent multiple clicks.\n",
              "      quickchartButtonEl.classList.add('colab-df-spinner');\n",
              "      try {\n",
              "        const charts = await google.colab.kernel.invokeFunction(\n",
              "            'suggestCharts', [key], {});\n",
              "      } catch (error) {\n",
              "        console.error('Error during call to suggestCharts:', error);\n",
              "      }\n",
              "      quickchartButtonEl.classList.remove('colab-df-spinner');\n",
              "      quickchartButtonEl.classList.add('colab-df-quickchart-complete');\n",
              "    }\n",
              "    (() => {\n",
              "      let quickchartButtonEl =\n",
              "        document.querySelector('#df-03a938ac-4e99-465a-b2c7-284442d1ffe3 button');\n",
              "      quickchartButtonEl.style.display =\n",
              "        google.colab.kernel.accessAllowed ? 'block' : 'none';\n",
              "    })();\n",
              "  </script>\n",
              "</div>\n",
              "\n",
              "    </div>\n",
              "  </div>\n"
            ],
            "application/vnd.google.colaboratory.intrinsic+json": {
              "type": "dataframe",
              "variable_name": "df",
              "summary": "{\n  \"name\": \"df\",\n  \"rows\": 506,\n  \"fields\": [\n    {\n      \"column\": 0,\n      \"properties\": {\n        \"dtype\": \"number\",\n        \"std\": 8.60154510533249,\n        \"min\": 0.00632,\n        \"max\": 88.9762,\n        \"num_unique_values\": 504,\n        \"samples\": [\n          0.09178,\n          0.05644,\n          0.10574\n        ],\n        \"semantic_type\": \"\",\n        \"description\": \"\"\n      }\n    },\n    {\n      \"column\": 1,\n      \"properties\": {\n        \"dtype\": \"number\",\n        \"std\": 23.32245299451514,\n        \"min\": 0.0,\n        \"max\": 100.0,\n        \"num_unique_values\": 26,\n        \"samples\": [\n          25.0,\n          30.0,\n          18.0\n        ],\n        \"semantic_type\": \"\",\n        \"description\": \"\"\n      }\n    },\n    {\n      \"column\": 2,\n      \"properties\": {\n        \"dtype\": \"number\",\n        \"std\": 6.860352940897585,\n        \"min\": 0.46,\n        \"max\": 27.74,\n        \"num_unique_values\": 76,\n        \"samples\": [\n          8.14,\n          1.47,\n          1.22\n        ],\n        \"semantic_type\": \"\",\n        \"description\": \"\"\n      }\n    },\n    {\n      \"column\": 3,\n      \"properties\": {\n        \"dtype\": \"number\",\n        \"std\": 0,\n        \"min\": 0,\n        \"max\": 1,\n        \"num_unique_values\": 2,\n        \"samples\": [\n          1,\n          0\n        ],\n        \"semantic_type\": \"\",\n        \"description\": \"\"\n      }\n    },\n    {\n      \"column\": 4,\n      \"properties\": {\n        \"dtype\": \"number\",\n        \"std\": 0.11587767566755595,\n        \"min\": 0.385,\n        \"max\": 0.871,\n        \"num_unique_values\": 81,\n        \"samples\": [\n          0.401,\n          0.538\n        ],\n        \"semantic_type\": \"\",\n        \"description\": \"\"\n      }\n    },\n    {\n      \"column\": 5,\n      \"properties\": {\n        \"dtype\": \"number\",\n        \"std\": 0.7026171434153233,\n        \"min\": 3.561,\n        \"max\": 8.78,\n        \"num_unique_values\": 446,\n        \"samples\": [\n          6.849,\n          4.88\n        ],\n        \"semantic_type\": \"\",\n        \"description\": \"\"\n      }\n    },\n    {\n      \"column\": 6,\n      \"properties\": {\n        \"dtype\": \"number\",\n        \"std\": 28.148861406903617,\n        \"min\": 2.9,\n        \"max\": 100.0,\n        \"num_unique_values\": 356,\n        \"samples\": [\n          51.8,\n          33.8\n        ],\n        \"semantic_type\": \"\",\n        \"description\": \"\"\n      }\n    },\n    {\n      \"column\": 7,\n      \"properties\": {\n        \"dtype\": \"number\",\n        \"std\": 2.105710126627611,\n        \"min\": 1.1296,\n        \"max\": 12.1265,\n        \"num_unique_values\": 412,\n        \"samples\": [\n          2.2955,\n          4.2515\n        ],\n        \"semantic_type\": \"\",\n        \"description\": \"\"\n      }\n    },\n    {\n      \"column\": 8,\n      \"properties\": {\n        \"dtype\": \"number\",\n        \"std\": 8,\n        \"min\": 1,\n        \"max\": 24,\n        \"num_unique_values\": 9,\n        \"samples\": [\n          7,\n          2\n        ],\n        \"semantic_type\": \"\",\n        \"description\": \"\"\n      }\n    },\n    {\n      \"column\": 9,\n      \"properties\": {\n        \"dtype\": \"number\",\n        \"std\": 168.53711605495903,\n        \"min\": 187.0,\n        \"max\": 711.0,\n        \"num_unique_values\": 66,\n        \"samples\": [\n          370.0,\n          666.0\n        ],\n        \"semantic_type\": \"\",\n        \"description\": \"\"\n      }\n    },\n    {\n      \"column\": 10,\n      \"properties\": {\n        \"dtype\": \"number\",\n        \"std\": 2.1649455237144406,\n        \"min\": 12.6,\n        \"max\": 22.0,\n        \"num_unique_values\": 46,\n        \"samples\": [\n          19.6,\n          15.6\n        ],\n        \"semantic_type\": \"\",\n        \"description\": \"\"\n      }\n    },\n    {\n      \"column\": 11,\n      \"properties\": {\n        \"dtype\": \"number\",\n        \"std\": 91.29486438415783,\n        \"min\": 0.32,\n        \"max\": 396.9,\n        \"num_unique_values\": 357,\n        \"samples\": [\n          396.24,\n          395.11\n        ],\n        \"semantic_type\": \"\",\n        \"description\": \"\"\n      }\n    },\n    {\n      \"column\": 12,\n      \"properties\": {\n        \"dtype\": \"number\",\n        \"std\": 7.141061511348571,\n        \"min\": 1.73,\n        \"max\": 37.97,\n        \"num_unique_values\": 455,\n        \"samples\": [\n          6.15,\n          4.32\n        ],\n        \"semantic_type\": \"\",\n        \"description\": \"\"\n      }\n    },\n    {\n      \"column\": 13,\n      \"properties\": {\n        \"dtype\": \"number\",\n        \"std\": 9.197104087379818,\n        \"min\": 5.0,\n        \"max\": 50.0,\n        \"num_unique_values\": 229,\n        \"samples\": [\n          14.1,\n          22.5\n        ],\n        \"semantic_type\": \"\",\n        \"description\": \"\"\n      }\n    }\n  ]\n}"
            }
          },
          "metadata": {},
          "execution_count": 2
        }
      ]
    },
    {
      "cell_type": "markdown",
      "source": [
        "# 3. Dataset EDA (exploratory data analysis)\n",
        "## 3.1 Summarize the Dataset\n",
        "* Dimensions of the dataset.\n",
        "* Peek at the data itself.(Throw a glance at; take a brief look at)\n",
        "* Statistical summary of all attributes.\n",
        "* Breakdown of the data by the class variable."
      ],
      "metadata": {
        "id": "jIVVIwvX2xBU"
      }
    },
    {
      "cell_type": "code",
      "source": [
        "# dimension of dataset (rows & columns)\n",
        "print(\"\\nShape matirx (rows & columns) \".ljust(50, '.'), \": \", df.shape)"
      ],
      "metadata": {
        "colab": {
          "base_uri": "https://localhost:8080/"
        },
        "id": "zrrbA1P54LNs",
        "outputId": "4d4fc241-2981-44bf-891d-38f5930d72ae"
      },
      "execution_count": 3,
      "outputs": [
        {
          "output_type": "stream",
          "name": "stdout",
          "text": [
            "\n",
            "Shape matirx (rows & columns) ................... :  (506, 14)\n"
          ]
        }
      ]
    },
    {
      "cell_type": "code",
      "source": [
        "# statistical summary of all attributes.\n",
        "print(\"\\nstatistical summary of all attributes =>\\n\", df.describe())"
      ],
      "metadata": {
        "colab": {
          "base_uri": "https://localhost:8080/"
        },
        "id": "epnpej4P4b_L",
        "outputId": "f3b7b5be-1e5e-40fd-da7c-7890400337ab"
      },
      "execution_count": 4,
      "outputs": [
        {
          "output_type": "stream",
          "name": "stdout",
          "text": [
            "\n",
            "statistical summary of all attributes =>\n",
            "                0           1           2           3           4           5   \\\n",
            "count  506.000000  506.000000  506.000000  506.000000  506.000000  506.000000   \n",
            "mean     3.613524   11.363636   11.136779    0.069170    0.554695    6.284634   \n",
            "std      8.601545   23.322453    6.860353    0.253994    0.115878    0.702617   \n",
            "min      0.006320    0.000000    0.460000    0.000000    0.385000    3.561000   \n",
            "25%      0.082045    0.000000    5.190000    0.000000    0.449000    5.885500   \n",
            "50%      0.256510    0.000000    9.690000    0.000000    0.538000    6.208500   \n",
            "75%      3.677083   12.500000   18.100000    0.000000    0.624000    6.623500   \n",
            "max     88.976200  100.000000   27.740000    1.000000    0.871000    8.780000   \n",
            "\n",
            "               6           7           8           9           10          11  \\\n",
            "count  506.000000  506.000000  506.000000  506.000000  506.000000  506.000000   \n",
            "mean    68.574901    3.795043    9.549407  408.237154   18.455534  356.674032   \n",
            "std     28.148861    2.105710    8.707259  168.537116    2.164946   91.294864   \n",
            "min      2.900000    1.129600    1.000000  187.000000   12.600000    0.320000   \n",
            "25%     45.025000    2.100175    4.000000  279.000000   17.400000  375.377500   \n",
            "50%     77.500000    3.207450    5.000000  330.000000   19.050000  391.440000   \n",
            "75%     94.075000    5.188425   24.000000  666.000000   20.200000  396.225000   \n",
            "max    100.000000   12.126500   24.000000  711.000000   22.000000  396.900000   \n",
            "\n",
            "               12          13  \n",
            "count  506.000000  506.000000  \n",
            "mean    12.653063   22.532806  \n",
            "std      7.141062    9.197104  \n",
            "min      1.730000    5.000000  \n",
            "25%      6.950000   17.025000  \n",
            "50%     11.360000   21.200000  \n",
            "75%     16.955000   25.000000  \n",
            "max     37.970000   50.000000  \n"
          ]
        }
      ]
    },
    {
      "cell_type": "markdown",
      "source": [
        "# 4. Data distribution into **independent and dependent** variable"
      ],
      "metadata": {
        "id": "d-q8IREr5IYD"
      }
    },
    {
      "cell_type": "code",
      "source": [
        "# selecting a single feature\n",
        "# only using 100 instances for simplicity\n",
        "X = df.loc[:100, 5].values # independent variable, Extract values as NumPy array\n",
        "y = df.loc[:100, 13].values # dependent variable, target label"
      ],
      "metadata": {
        "id": "ORiUSyyu5UMZ"
      },
      "execution_count": 5,
      "outputs": []
    },
    {
      "cell_type": "markdown",
      "source": [
        "## 4.1 reshaping the data into 2-D array"
      ],
      "metadata": {
        "id": "X2cSjKjukZnv"
      }
    },
    {
      "cell_type": "code",
      "source": [
        "# reshape the data\n",
        "X_reshaped = X[:, np.newaxis]\n",
        "y_reshaped = y[:, np.newaxis]\n",
        "\n",
        "print(\"\\nShape of independent variable \".ljust(50, '.'), \": \", X.shape)\n",
        "print(\"\\nShape of dependent variable \".ljust(50, '.'), \": \", y.shape)\n",
        "\n",
        "print(\"\\nReshape of independent variable into 2-D matrix \".ljust(50, '.'), \": \", X_reshaped.shape)\n",
        "print(\"\\nReshape of dependent variable into 2-D matrix \".ljust(50, '.'), \": \", y_reshaped.shape)"
      ],
      "metadata": {
        "colab": {
          "base_uri": "https://localhost:8080/"
        },
        "id": "itZz2SjckgOr",
        "outputId": "ced48f66-a595-4e61-842c-fbcc8596100c"
      },
      "execution_count": 6,
      "outputs": [
        {
          "output_type": "stream",
          "name": "stdout",
          "text": [
            "\n",
            "Shape of independent variable ................... :  (101,)\n",
            "\n",
            "Shape of dependent variable ..................... :  (101,)\n",
            "\n",
            "Reshape of independent variable into 2-D matrix . :  (101, 1)\n",
            "\n",
            "Reshape of dependent variable into 2-D matrix ... :  (101, 1)\n"
          ]
        }
      ]
    },
    {
      "cell_type": "markdown",
      "source": [
        "# 5. Build and train model"
      ],
      "metadata": {
        "id": "2zH-r79IlOfB"
      }
    },
    {
      "cell_type": "markdown",
      "source": [
        "## 5.1 L1 regularization\n",
        "L1 regularization, also known as L1 norm or Lasso (in regression problems), combats overfitting by shrinking the parameters towards 0. This makes some features obsolete.\n",
        "\n",
        "It’s a form of feature selection, because when we assign a feature with a 0 weight, we’re multiplying the feature values by 0 which returns 0, eradicating the significance of that feature. If the input features of our model have weights closer to 0, our L1 norm would be sparse. A selection of the input features would have weights equal to zero, and the rest would be non-zero."
      ],
      "metadata": {
        "id": "iyKzhWwaiQGs"
      }
    },
    {
      "cell_type": "markdown",
      "source": [
        "![image.png](data:image/png;base64,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)"
      ],
      "metadata": {
        "id": "PQHhc0KaiZW8"
      }
    },
    {
      "cell_type": "code",
      "source": [
        "# instantiating the lasso regression model\n",
        "lasso = Lasso(alpha=10)\n",
        "\n",
        "# training the model\n",
        "lasso.fit(X_reshaped, y_reshaped)"
      ],
      "metadata": {
        "colab": {
          "base_uri": "https://localhost:8080/",
          "height": 74
        },
        "id": "Xdxz24ohlSox",
        "outputId": "3bfeb1be-2381-43a2-c4f8-f213463c6041"
      },
      "execution_count": 7,
      "outputs": [
        {
          "output_type": "execute_result",
          "data": {
            "text/plain": [
              "Lasso(alpha=10)"
            ],
            "text/html": [
              "<style>#sk-container-id-1 {color: black;background-color: white;}#sk-container-id-1 pre{padding: 0;}#sk-container-id-1 div.sk-toggleable {background-color: white;}#sk-container-id-1 label.sk-toggleable__label {cursor: pointer;display: block;width: 100%;margin-bottom: 0;padding: 0.3em;box-sizing: border-box;text-align: center;}#sk-container-id-1 label.sk-toggleable__label-arrow:before {content: \"▸\";float: left;margin-right: 0.25em;color: #696969;}#sk-container-id-1 label.sk-toggleable__label-arrow:hover:before {color: black;}#sk-container-id-1 div.sk-estimator:hover label.sk-toggleable__label-arrow:before {color: black;}#sk-container-id-1 div.sk-toggleable__content {max-height: 0;max-width: 0;overflow: hidden;text-align: left;background-color: #f0f8ff;}#sk-container-id-1 div.sk-toggleable__content pre {margin: 0.2em;color: black;border-radius: 0.25em;background-color: #f0f8ff;}#sk-container-id-1 input.sk-toggleable__control:checked~div.sk-toggleable__content {max-height: 200px;max-width: 100%;overflow: auto;}#sk-container-id-1 input.sk-toggleable__control:checked~label.sk-toggleable__label-arrow:before {content: \"▾\";}#sk-container-id-1 div.sk-estimator input.sk-toggleable__control:checked~label.sk-toggleable__label {background-color: #d4ebff;}#sk-container-id-1 div.sk-label input.sk-toggleable__control:checked~label.sk-toggleable__label {background-color: #d4ebff;}#sk-container-id-1 input.sk-hidden--visually {border: 0;clip: rect(1px 1px 1px 1px);clip: rect(1px, 1px, 1px, 1px);height: 1px;margin: -1px;overflow: hidden;padding: 0;position: absolute;width: 1px;}#sk-container-id-1 div.sk-estimator {font-family: monospace;background-color: #f0f8ff;border: 1px dotted black;border-radius: 0.25em;box-sizing: border-box;margin-bottom: 0.5em;}#sk-container-id-1 div.sk-estimator:hover {background-color: #d4ebff;}#sk-container-id-1 div.sk-parallel-item::after {content: \"\";width: 100%;border-bottom: 1px solid gray;flex-grow: 1;}#sk-container-id-1 div.sk-label:hover label.sk-toggleable__label {background-color: #d4ebff;}#sk-container-id-1 div.sk-serial::before {content: \"\";position: absolute;border-left: 1px solid gray;box-sizing: border-box;top: 0;bottom: 0;left: 50%;z-index: 0;}#sk-container-id-1 div.sk-serial {display: flex;flex-direction: column;align-items: center;background-color: white;padding-right: 0.2em;padding-left: 0.2em;position: relative;}#sk-container-id-1 div.sk-item {position: relative;z-index: 1;}#sk-container-id-1 div.sk-parallel {display: flex;align-items: stretch;justify-content: center;background-color: white;position: relative;}#sk-container-id-1 div.sk-item::before, #sk-container-id-1 div.sk-parallel-item::before {content: \"\";position: absolute;border-left: 1px solid gray;box-sizing: border-box;top: 0;bottom: 0;left: 50%;z-index: -1;}#sk-container-id-1 div.sk-parallel-item {display: flex;flex-direction: column;z-index: 1;position: relative;background-color: white;}#sk-container-id-1 div.sk-parallel-item:first-child::after {align-self: flex-end;width: 50%;}#sk-container-id-1 div.sk-parallel-item:last-child::after {align-self: flex-start;width: 50%;}#sk-container-id-1 div.sk-parallel-item:only-child::after {width: 0;}#sk-container-id-1 div.sk-dashed-wrapped {border: 1px dashed gray;margin: 0 0.4em 0.5em 0.4em;box-sizing: border-box;padding-bottom: 0.4em;background-color: white;}#sk-container-id-1 div.sk-label label {font-family: monospace;font-weight: bold;display: inline-block;line-height: 1.2em;}#sk-container-id-1 div.sk-label-container {text-align: center;}#sk-container-id-1 div.sk-container {/* jupyter's `normalize.less` sets `[hidden] { display: none; }` but bootstrap.min.css set `[hidden] { display: none !important; }` so we also need the `!important` here to be able to override the default hidden behavior on the sphinx rendered scikit-learn.org. See: https://github.com/scikit-learn/scikit-learn/issues/21755 */display: inline-block !important;position: relative;}#sk-container-id-1 div.sk-text-repr-fallback {display: none;}</style><div id=\"sk-container-id-1\" class=\"sk-top-container\"><div class=\"sk-text-repr-fallback\"><pre>Lasso(alpha=10)</pre><b>In a Jupyter environment, please rerun this cell to show the HTML representation or trust the notebook. <br />On GitHub, the HTML representation is unable to render, please try loading this page with nbviewer.org.</b></div><div class=\"sk-container\" hidden><div class=\"sk-item\"><div class=\"sk-estimator sk-toggleable\"><input class=\"sk-toggleable__control sk-hidden--visually\" id=\"sk-estimator-id-1\" type=\"checkbox\" checked><label for=\"sk-estimator-id-1\" class=\"sk-toggleable__label sk-toggleable__label-arrow\">Lasso</label><div class=\"sk-toggleable__content\"><pre>Lasso(alpha=10)</pre></div></div></div></div></div>"
            ]
          },
          "metadata": {},
          "execution_count": 7
        }
      ]
    },
    {
      "cell_type": "markdown",
      "source": [
        "# 6. Predict the target"
      ],
      "metadata": {
        "id": "ex_LFw4gmB1M"
      }
    },
    {
      "cell_type": "code",
      "source": [
        "# making predictions on the training data\n",
        "y_pred = lasso.predict(X_reshaped)\n",
        "\n",
        "print(\"\\nPredicted values =>\\n\", y_pred)"
      ],
      "metadata": {
        "colab": {
          "base_uri": "https://localhost:8080/"
        },
        "id": "DIUbseX0mHWd",
        "outputId": "a63fc6aa-be65-454d-c14d-dcacd5bb2a6d"
      },
      "execution_count": 8,
      "outputs": [
        {
          "output_type": "stream",
          "name": "stdout",
          "text": [
            "\n",
            "Predicted values =>\n",
            " [22.36039604 22.36039604 22.36039604 22.36039604 22.36039604 22.36039604\n",
            " 22.36039604 22.36039604 22.36039604 22.36039604 22.36039604 22.36039604\n",
            " 22.36039604 22.36039604 22.36039604 22.36039604 22.36039604 22.36039604\n",
            " 22.36039604 22.36039604 22.36039604 22.36039604 22.36039604 22.36039604\n",
            " 22.36039604 22.36039604 22.36039604 22.36039604 22.36039604 22.36039604\n",
            " 22.36039604 22.36039604 22.36039604 22.36039604 22.36039604 22.36039604\n",
            " 22.36039604 22.36039604 22.36039604 22.36039604 22.36039604 22.36039604\n",
            " 22.36039604 22.36039604 22.36039604 22.36039604 22.36039604 22.36039604\n",
            " 22.36039604 22.36039604 22.36039604 22.36039604 22.36039604 22.36039604\n",
            " 22.36039604 22.36039604 22.36039604 22.36039604 22.36039604 22.36039604\n",
            " 22.36039604 22.36039604 22.36039604 22.36039604 22.36039604 22.36039604\n",
            " 22.36039604 22.36039604 22.36039604 22.36039604 22.36039604 22.36039604\n",
            " 22.36039604 22.36039604 22.36039604 22.36039604 22.36039604 22.36039604\n",
            " 22.36039604 22.36039604 22.36039604 22.36039604 22.36039604 22.36039604\n",
            " 22.36039604 22.36039604 22.36039604 22.36039604 22.36039604 22.36039604\n",
            " 22.36039604 22.36039604 22.36039604 22.36039604 22.36039604 22.36039604\n",
            " 22.36039604 22.36039604 22.36039604 22.36039604 22.36039604]\n"
          ]
        }
      ]
    },
    {
      "cell_type": "markdown",
      "source": [
        "# 7. Evaluate the model"
      ],
      "metadata": {
        "id": "z_Zpv6idnHBf"
      }
    },
    {
      "cell_type": "code",
      "source": [
        "#  mean_squared_erro(actual, predicted)\n",
        "mse = mean_squared_error(y_reshaped, y_pred)\n",
        "print(\"\\nMean Squared Error =>\\n\", mse)\n",
        "print(\"\\nModel Coefficients =>\\n\", lasso.coef_)\n",
        "print(\"\\nModel Intercept =>\\n\", lasso.intercept_)"
      ],
      "metadata": {
        "colab": {
          "base_uri": "https://localhost:8080/"
        },
        "id": "ZtviqzdEnJry",
        "outputId": "0f1e2e5d-79c4-4e02-9493-e862b491c674"
      },
      "execution_count": 9,
      "outputs": [
        {
          "output_type": "stream",
          "name": "stdout",
          "text": [
            "\n",
            "Mean Squared Error =>\n",
            " 34.709124595627884\n",
            "\n",
            "Model Coefficients =>\n",
            " [0.]\n",
            "\n",
            "Model Intercept =>\n",
            " [22.36039604]\n"
          ]
        }
      ]
    },
    {
      "cell_type": "markdown",
      "source": [
        "# 8. Compare true vs predicted values"
      ],
      "metadata": {
        "id": "B-2yClDKnyMs"
      }
    },
    {
      "cell_type": "code",
      "source": [
        "if len(y_reshaped) != len(y_pred):\n",
        "  print(\"\\nThe lists 'y_true' and 'y_pred' must have the same length.\\n\")\n",
        "else:\n",
        "  # threshold = 2  # Define a threshold for the difference\n",
        "  red_color = \"\\033[91m\"\n",
        "  reset_color = \"\\033[0m\"\n",
        "\n",
        "print(f\"{'y_reshaped':>15} {'y_pred':>15}\")\n",
        "print(\"=\"*31)\n",
        "\n",
        "for true, pred in zip(y_reshaped, y_pred):\n",
        "  diff = abs(true - pred)\n",
        "  threshold = 0.1 * abs(true)  # Define a threshold 10% of the true value for the difference\n",
        "\n",
        "  if diff > threshold:\n",
        "    # Extract the numeric values from the arrays for formatting if they are arrays, otherwise just use the value\n",
        "    true_value = true[0] if isinstance(true, (list, np.ndarray)) else true\n",
        "    pred_value = pred[0] if isinstance(pred, (list, np.ndarray)) else pred\n",
        "    print(f\"{red_color}{true_value:>15.5f} {pred_value:>15.5f}{reset_color}\")\n",
        "  else:\n",
        "    # Extract the numeric values from the arrays for formatting if they are arrays, otherwise just use the value\n",
        "    true_value = true[0] if isinstance(true, (list, np.ndarray)) else true\n",
        "    pred_value = pred[0] if isinstance(pred, (list, np.ndarray)) else pred\n",
        "    print(f\"{true_value:>15.5f} {pred_value:>15.5f}\")"
      ],
      "metadata": {
        "colab": {
          "base_uri": "https://localhost:8080/"
        },
        "id": "z86k-XgKoGOq",
        "outputId": "ede107b1-63d6-4eb4-f252-606eee4e6c04"
      },
      "execution_count": 10,
      "outputs": [
        {
          "output_type": "stream",
          "name": "stdout",
          "text": [
            "     y_reshaped          y_pred\n",
            "===============================\n",
            "       24.00000        22.36040\n",
            "       21.60000        22.36040\n",
            "\u001b[91m       34.70000        22.36040\u001b[0m\n",
            "\u001b[91m       33.40000        22.36040\u001b[0m\n",
            "\u001b[91m       36.20000        22.36040\u001b[0m\n",
            "\u001b[91m       28.70000        22.36040\u001b[0m\n",
            "       22.90000        22.36040\n",
            "\u001b[91m       27.10000        22.36040\u001b[0m\n",
            "\u001b[91m       16.50000        22.36040\u001b[0m\n",
            "\u001b[91m       18.90000        22.36040\u001b[0m\n",
            "\u001b[91m       15.00000        22.36040\u001b[0m\n",
            "\u001b[91m       18.90000        22.36040\u001b[0m\n",
            "       21.70000        22.36040\n",
            "       20.40000        22.36040\n",
            "\u001b[91m       18.20000        22.36040\u001b[0m\n",
            "\u001b[91m       19.90000        22.36040\u001b[0m\n",
            "       23.10000        22.36040\n",
            "\u001b[91m       17.50000        22.36040\u001b[0m\n",
            "\u001b[91m       20.20000        22.36040\u001b[0m\n",
            "\u001b[91m       18.20000        22.36040\u001b[0m\n",
            "\u001b[91m       13.60000        22.36040\u001b[0m\n",
            "\u001b[91m       19.60000        22.36040\u001b[0m\n",
            "\u001b[91m       15.20000        22.36040\u001b[0m\n",
            "\u001b[91m       14.50000        22.36040\u001b[0m\n",
            "\u001b[91m       15.60000        22.36040\u001b[0m\n",
            "\u001b[91m       13.90000        22.36040\u001b[0m\n",
            "\u001b[91m       16.60000        22.36040\u001b[0m\n",
            "\u001b[91m       14.80000        22.36040\u001b[0m\n",
            "\u001b[91m       18.40000        22.36040\u001b[0m\n",
            "       21.00000        22.36040\n",
            "\u001b[91m       12.70000        22.36040\u001b[0m\n",
            "\u001b[91m       14.50000        22.36040\u001b[0m\n",
            "\u001b[91m       13.20000        22.36040\u001b[0m\n",
            "\u001b[91m       13.10000        22.36040\u001b[0m\n",
            "\u001b[91m       13.50000        22.36040\u001b[0m\n",
            "\u001b[91m       18.90000        22.36040\u001b[0m\n",
            "\u001b[91m       20.00000        22.36040\u001b[0m\n",
            "       21.00000        22.36040\n",
            "       24.70000        22.36040\n",
            "\u001b[91m       30.80000        22.36040\u001b[0m\n",
            "\u001b[91m       34.90000        22.36040\u001b[0m\n",
            "\u001b[91m       26.60000        22.36040\u001b[0m\n",
            "\u001b[91m       25.30000        22.36040\u001b[0m\n",
            "       24.70000        22.36040\n",
            "       21.20000        22.36040\n",
            "\u001b[91m       19.30000        22.36040\u001b[0m\n",
            "\u001b[91m       20.00000        22.36040\u001b[0m\n",
            "\u001b[91m       16.60000        22.36040\u001b[0m\n",
            "\u001b[91m       14.40000        22.36040\u001b[0m\n",
            "\u001b[91m       19.40000        22.36040\u001b[0m\n",
            "\u001b[91m       19.70000        22.36040\u001b[0m\n",
            "       20.50000        22.36040\n",
            "\u001b[91m       25.00000        22.36040\u001b[0m\n",
            "       23.40000        22.36040\n",
            "\u001b[91m       18.90000        22.36040\u001b[0m\n",
            "\u001b[91m       35.40000        22.36040\u001b[0m\n",
            "       24.70000        22.36040\n",
            "\u001b[91m       31.60000        22.36040\u001b[0m\n",
            "       23.30000        22.36040\n",
            "\u001b[91m       19.60000        22.36040\u001b[0m\n",
            "\u001b[91m       18.70000        22.36040\u001b[0m\n",
            "\u001b[91m       16.00000        22.36040\u001b[0m\n",
            "       22.20000        22.36040\n",
            "\u001b[91m       25.00000        22.36040\u001b[0m\n",
            "\u001b[91m       33.00000        22.36040\u001b[0m\n",
            "       23.50000        22.36040\n",
            "\u001b[91m       19.40000        22.36040\u001b[0m\n",
            "       22.00000        22.36040\n",
            "\u001b[91m       17.40000        22.36040\u001b[0m\n",
            "       20.90000        22.36040\n",
            "       24.20000        22.36040\n",
            "       21.70000        22.36040\n",
            "       22.80000        22.36040\n",
            "       23.40000        22.36040\n",
            "       24.10000        22.36040\n",
            "       21.40000        22.36040\n",
            "\u001b[91m       20.00000        22.36040\u001b[0m\n",
            "       20.80000        22.36040\n",
            "       21.20000        22.36040\n",
            "\u001b[91m       20.30000        22.36040\u001b[0m\n",
            "\u001b[91m       28.00000        22.36040\u001b[0m\n",
            "       23.90000        22.36040\n",
            "       24.80000        22.36040\n",
            "       22.90000        22.36040\n",
            "       23.90000        22.36040\n",
            "\u001b[91m       26.60000        22.36040\u001b[0m\n",
            "       22.50000        22.36040\n",
            "       22.20000        22.36040\n",
            "       23.60000        22.36040\n",
            "\u001b[91m       28.70000        22.36040\u001b[0m\n",
            "       22.60000        22.36040\n",
            "       22.00000        22.36040\n",
            "       22.90000        22.36040\n",
            "\u001b[91m       25.00000        22.36040\u001b[0m\n",
            "       20.60000        22.36040\n",
            "\u001b[91m       28.40000        22.36040\u001b[0m\n",
            "       21.40000        22.36040\n",
            "\u001b[91m       38.70000        22.36040\u001b[0m\n",
            "\u001b[91m       43.80000        22.36040\u001b[0m\n",
            "\u001b[91m       33.20000        22.36040\u001b[0m\n",
            "\u001b[91m       27.50000        22.36040\u001b[0m\n"
          ]
        }
      ]
    },
    {
      "cell_type": "markdown",
      "source": [
        "# 9. Data Visualization"
      ],
      "metadata": {
        "id": "C8-LEtl8pm3y"
      }
    },
    {
      "cell_type": "markdown",
      "source": [
        "## 9.1 Scatterplot without best fit line"
      ],
      "metadata": {
        "id": "tLDX7AfQp9Xp"
      }
    },
    {
      "cell_type": "code",
      "source": [
        "# scatterplot for L1 Regularization (Lasso)\n",
        "sns.scatterplot(x=X,y=y)\n",
        "# plt.plot(X_reshaped, y_pred, color=\"red\")\n",
        "plt.title(\"Linear Regression Model with L1 Regularization (Lasso)\")\n",
        "plt.show()"
      ],
      "metadata": {
        "colab": {
          "base_uri": "https://localhost:8080/",
          "height": 452
        },
        "id": "DtlzvVEPptAL",
        "outputId": "67768dc8-a4ad-43b1-c75e-8ca81034cf08"
      },
      "execution_count": 11,
      "outputs": [
        {
          "output_type": "display_data",
          "data": {
            "text/plain": [
              "<Figure size 640x480 with 1 Axes>"
            ],
            "image/png": "[encoded data removed]"
          },
          "metadata": {}
        }
      ]
    },
    {
      "cell_type": "markdown",
      "source": [
        "## 9.1 Scatterplot with best fit line"
      ],
      "metadata": {
        "id": "iWLXUnnCq3UD"
      }
    },
    {
      "cell_type": "code",
      "source": [
        "# scatterplot for L1 Regularization (Lasso)\n",
        "sns.scatterplot(x=X,y=y)\n",
        "plt.plot(X_reshaped, y_pred, color=\"red\")\n",
        "plt.title(\"Linear Regression Model with L1 Regularization (Lasso)\")\n",
        "plt.show()"
      ],
      "metadata": {
        "colab": {
          "base_uri": "https://localhost:8080/",
          "height": 452
        },
        "id": "pehnyCSiqtbl",
        "outputId": "10a39f5f-b93a-4d6d-c163-9dcfb993897c"
      },
      "execution_count": 12,
      "outputs": [
        {
          "output_type": "display_data",
          "data": {
            "text/plain": [
              "<Figure size 640x480 with 1 Axes>"
            ],
            "image/png": "[encoded data removed]"
          },
          "metadata": {}
        }
      ]
    },
    {
      "cell_type": "markdown",
      "source": [
        "# 10. Build and train model"
      ],
      "metadata": {
        "id": "B8lGbn2Mdij3"
      }
    },
    {
      "cell_type": "markdown",
      "source": [
        "L2 regularization\n",
        "L2 regularization, or the L2 norm, or Ridge (in regression problems), combats overfitting by forcing weights to be small, but not making them exactly 0.\n",
        "\n",
        "So, if we’re predicting house prices again, this means the less significant features for predicting the house price would still have some influence over the final prediction, but it would only be a small influence.\n",
        "\n",
        "The regularization term that we add to the loss function when performing L2 regularization is the sum of squares of all of the feature weights:"
      ],
      "metadata": {
        "id": "kQr4OXU7ifnV"
      }
    },
    {
      "cell_type": "markdown",
      "source": [
        "![image.png](data:image/png;base64,iVBORw0KGgoAAAANSUhEUgAAApQAAAA+CAIAAAAatRzKAAAgAElEQVR4Ae1d7U9bR9Z//pX5cCUU+YO1QhZCCJBF0FaBCAQKyKvQlJUIVTegiCVZlI2ShSxtaLohq7g0jUDR0iZNLLpaR3npG4mpHbFYQIpJrdDCFtpAIMQWSQ2YXu482Rz1aHbu9eX62sQvTD60w/W8/u7M/M6cc+bc/6Pin0BAICAQEAgIBAQCGYXA/2VUb0VnBQICAYGAQEAgIBCggrzFJBAICAQEAgIBgUCGISDIO8NemOiuQEAgIBAQCAgEBHmLOSAQEAgIBAQCAoEMQ0CQd4a9MNFdgQAgsLGx0dbWRn79Z7FYRkdHEZxwOFxdXf3rj//9f0tLy/r6OmYQCYFANiGwA5eDIO9smsBiLDsOAVmWT548CSR96tQpWZYRAkVRRkdHc3Nzz5w5E4lE8HmaJEZGRn7/+9/Pzc2lSX9EN7IAgcxdDibAF+RtAjRRRCCQLgiEw+GamhqHw0EI2b17N8eFk5OTlZWV3MN06LrP57PZbISQioqK6enpdOiS6EMWIJChy8Ec8oK8zeEmSgkE0gIBoGePx2O32wkhbreb7dbNmzcbGhp+/vln9mHK08DcpaWl77//vs1mKy0tnZqaSnmvRAeyAIFMXA6mYRfkbRo6UTDbEIhEIvfv349Goxk0MKDnUCgE9u/GxkbUkCuK0tXV9d5776XPcBRF8Xg8Vqu1rq5ufn6eUhoMBktLS+12ezAYTJ9+vrKe/PTTT0ePHs3JySGElJeXu93uzJp+rwwogw1l1nIwOKhY2QR5x0JGPN9BCKysrHz++eeVL/+FQqFMGTlLz3fv3pUkiXVb+/nnnxsaGgYHB9NnOE+fPn3jjTdaWlpYkOfn5+vq6o4ePbrT/OmmpqZKSkouXry4uLg4NDRUWlpKCGlvb19dXU2fV5ZBPcmg5RAKhc6cOWO1Wgkhdru9t7cXZW7jgAvyNo6VyJmFCHz33XcFBQWFhYVVVVWEkMrKSpZX0nzALD2Hw2GwfKPb2tzcXE1NzXfffZdWo/jll19Yrzrom+bDtOp20juzsbFx/Pjx9vZ2RGNsbMxqtUqSdOPGjaQ3txMqzJTlsLi4WFtb29HR8ejRo4mJCVi2jY2N8e48grx3wqwWY9wageHh4aSQ98zMTFFREXtHK/E08jE3jJmZmcrKSjQY9/f3E0L27NmzsLBAKfX5fPv3719ZWeFKJfHP5eXlhoaGHXho1sdwc3Pz/Pnz+r54CwsLe/bsycnJGRgYUBSFUhqJRA4dOpRll/p21HLQnxX464ULFw4ePPjs2TN4Mjs7C0qXnp4emAmYUz+hR97r6+stLS2EkMLCwgrmX1lZGRhpysrKFhcX9RtIh1+fPn0K56q4ttGioqKZmZl06L/owytAIFnkHYlEYNUQQnbt2uV2u0PG/r1Qonq93n/84x+NjY2gT8PparfbZ2dn1SBw9BwMBvPy8tBtzel0dnZ2xrUdqJvQeQIHiNraWtwEQHqw2WzMbvHfpM1mq62tDYfDXG3d3d2EkJycnLKysoqKCthYUqX8iEQijY2NhJCSkhK2/9Cr7u5urvPhcLi2tpYQguMtKSkhhJw+fRqYuKWlRccXb25ubvfu3RxVnz59OikSJNfVBP+cmJgAlUBVVZXL5VpbWzNe4c5ZDhwmiqIEAoE333wzJyfHarV2dHTAwRrUA5IknTt3DpQuiqJ0dnYSQqqrq9VrhKuW/VOPvGVZvn//vtfrdblcsCkQQoqLi99//32Px+P1eicmJlDnw1aabum1tbWRkRGPx/Puu+9aLBbYE1tbW2EU3l//Xb9+vaOjIz8/HzKkahNJN/R2SH+SRd6U0vn5+bKyMphFdrsdT8bGkZRl+cGDBwcPHkT+vnbtmrq40+k8efIkrsFoNHrkyBFCSGNj45MnT5qbmz/99FN1qaQ8gU25oKDg4cOHWOHDhw+9Xu+//vWvyspK7HljY+Pt27eDwSAnRsDudurUKUmSCCGSJNXX17tcrlTtKtFo1O/3e71ep9MJ19gIIRaL5d133/V4PCig4GDX1tbu3LlTV1cHI7VarSdOnLh9+zZezINpwAo3WJZSqijKvXv3nE7nTz/9BM9xE99ufQnbDSNpWZanpqYw5s8777yDU85I8Z2wHDgcZFn+8MMPYUo/fPjw0qVLkiS1tLREIpGVlZX9+/dzVH3t2jVCSEFBQVxGLj3yxg6BhgfmqOYmgjnTPDE5OZmbmws7hd/v1+zt8+fPQXmVbktIs7fwcHNzMxwO6/i5KIry1Vdf5efnl5eXC3WCJpJJJG9QWePpGRatZqP6Dzc3Nz/77DMgEtaNHEqtrq6q6Rnd1txu9759+yYnJ/WbMPeroig9PT2EkEuXLnGUDBUODw8DJRNCnE6nTiujo6MWi6WiosKEiKNTbSI/gd8TbHcWi2V8fDxWbYqinD9/nhBy4sSJ58+fq7N5PB6LxXLs2DEjPuSoIDx//rwmqur6X+WTQCAARzh1OIEtu+Hz+bJ4OXDDl2X57NmzhJCmpiZwQwPCliTp7t27lNIHDx44nc4HDx5gwStXrmjGacAMmglD5D0+Pg4HVv2prNlAWj389NNPYU3qz7/BwUFCSHNzsw4dps+4ZFl+5513CCEHDhxAOwrXvcePH+/duxfGvn2nMa7RzPozueQty/K5c+cAcEJIvNYsFrpgMGi323NzczkmXlhYUNMzvuiSkpLq6uqnT5+yVSUrDft4TU3N0tKSZp3IQ4QQnYvmoHg3p5zQbDdZD1nho6+vL1a1wEk6whkIWJIkGfH5h+NXrJN6rD68sudoVkC7jPGms3s5sDgoiuJyuSRJYpVSqFNh9WRYCiYJIeTIkSNGhDwsaIi8kfP27t27vLyMhTMrgQgSQg4dOqTjmg8eyNtqL0widKgX0RkU7ulpuzUkERBzVSWXvCmlz549Q7231Wr1+XzmOobneO5A5vf71fSMZ0FCSFtb28bGhulGYxWMRqPHjh0jhPT398fKwx5e1WIHlALFe4LIxOpAgs+NCB9TU1N2u33LBQW6kLq6On1zJtSmYyOPd0QTExMFBQUTExPxFtTJD+KFuYNNti4HDi54j2p5HbwZNLW5Pp/PYrGYEGG3Jm82Wuw2bQfc+LfpTzQ2EEL0I1cAeeur+7apkyaqxVOCfoeXlpb8fr+OyGKi6WwqknTyppTiSgYT1+PHj80hJstye3u7w+FgCaCvr09zPaLb2pUrV8w1p18K6o/lQ4dlcVpq0jwcxSRJcrlcaagiZoWPvLw8dQCZ5eVlh8NhZMOFK3yoMkV82ARoIBwOB9rL2V/NpWE+Dw8PmyuuWWp2dhYC+WliolmEfZiVy4EdIMq16tUB5K3W+MKrt9lsJoT7rcmb5TwdDRI7hvRMAyWDJvPmzZs6nYScmWLddzqdMCgjqjmdUe/wn7aDvCmlAwMDaP01aPvUfBGLi4s+ny/0MoCMoijT09PV1dWtra1qaQzc1rbJwoUne025ge05KnvAgY7rJyicz549G5frE1v/dqfhxAwri9MxgFHTuM4AVmgsxEAD0dTUBC9XluWVlZXNzc0EB7gd5I0ekZoCmZEOZ9ly4IYMDhyEEE49jopxziUNXn1paek333zDVWXkz63JGzlPkqRYTl5GWkp5HrBkE0LUery5ubkPPvhg4eXtWEop+LUlV2jdpuHjtFDLdNvUYrZWu03kLctyV1cXcEBSDprogAJ1EkIuX77MvZS7d+9WVFSYPuhztbF/oii/pWgry/KpU6egk9xBDU5gOqZitsVUpWMJH2DU3LVrl3GdASghNFdoJBI5+vIfCjfj4+NvvfVW4uHot4O8KaU3b96Ed6rjyqDzyrJsObAjZSUb7hyFq4YlbxABq6urQd2yubm5srISlyy7NXkj52HwB7bHGZR+7733YNqpLfdXrlxhl5bf7y8qKorLaz9VOKDB29xaSlW307DdbSJvSiloxmDusW4saQjCll0CudbgsV7z8ApolJaWat5c37IDryxDLOEDdAZxKVHwSje3p8P2/fbbb7M3p69duxbrjB7X2LeJvHHDMTgH1H3OpuXAjg7NVWqixAmAP4HZ6MCBA3gFcW5u7o033sADJFtzrPTW5I2cZ8L7OhqN3rlzB4NO5OTkvPnmm4FAIJaV68cff+zq6iosLITQDXV1dUNDQ7E0SHFlxuhFXFQESilITLHIT1GUb775BiLY2e32gYEBTjiSZfnWrVvsfU2os7e31/ryH17Pj0Qivb29r732Go7O7/fHggIq8Xq9hw4dgstChYWFf/vb3548ecK6fQIlsP+12+0//PADvO/nz593d3dDN9ra2vBGqXo2GHlTU1NTgEN5ebnH41Fe/gsEAn/4wx/gHkhhYWF3d7fmnRl1i+n2ZGhoCD4OEcuDOpEODw8P41UZh8ORuV6f4LvKSro6sKgPr+nspKYeiFr4AJ3Blk5qXFV48GK9UmRZ7u/vR5MKu4T1PXK4ymP9uU3kzco0nAdlrJ6on2fNcmCHBhGKNB1F/X4/vGhwWAPlDRpKoJLh4eG6urq44iFuQd4QDgYmFjvz2E5rphVF+fe//11cXEwIOXz48Istfnl5+datWwUFBZIkffzxxxwFgkutzWYrLi52u92Li4vBYPDPf/7zrl27NCP9wlcFDWamlKLsQwjhLPcgSscanc/ny83N/fvf//7111/n5uaqHU9wheMVLLgFa7fb79y509DQQAhpbW29d+9eaWlpfX39119/vbCwcPHiRUmSrFarpnJeUZSxsbHy8nJJkkDcCYVCHo9n9+7dFRUVc3NzEE3C6/X+6U9/gmvrfX19EGzm/v37gC1slA6HY3x8HNyD1XeFIViEkTcFMfw6Ozvdbjf0fHBwsKurKy8vz+l0zs7OTkxMQBiH1tbWjLhiB/M2FAqxEUVwD4U4WZpz28RDRVGuXr2KlaezrVd/dDpOs+qC7Eafl5cXCATOnj2bFNuBuq3teMIJHzMzM7W1tUac1LjObGxswDffWlpa8OMraI7EWYEJ3Em4euL6c5vIm1KKroicB6Xx7mXNcsAho/lSzS+U0r6+Pni5LS0ta2trn3/+OYry+NLVp0qsPFZiC/JmOc+4O9zm5ubVq1clScrJyXG5XOzR2e12E0KsVuvY2Bjbp++//95ut7NKxeXl5bfeektzSHFlhlZwwhFCPvjgA+C5wcHBjo4OwJHTaEEpiA0EW+3U1BQEX2O3dfRKZZVI4JMJTi6w2QG/9vf3o8iyvLwMF6851wZK6ebmpsvlysnJkSTp6tWrgN7y8vKBAwfgTXs8Hugezhj1SUhRlEuXLoFyEu/IsRYXqMHgmwI3pb179z5+/JjddNBgA7VBqAG1SwH8qv7vzMwMRJRkZ7DxtCRJX3zxhbra9HwCshSMzuDF33QbCM4340o4FG0h6LokSRkkuLDCh9VqLSkpMe6kxr27uIQerqy5P7ePvPEenfokY7yrWbAc2MGyRKmzg/X19cU6LWx5B4ptDtJbkLfP54OuqOlBXRc+QZdCdQAmpEDuWwvgkMluCni5vKuri9Mtx5UZeoWyjyayscKY9/f3o9M/iB0vAlazrjqoEGPt6G63G0qhxE0I4fYsfIXskOEcDHf8ufBVsBQhXiOGfMIZw1VCKYVDAwgQuNjUL9Hgm4KLMaAlQ4cp9REEr4FqqhNwemACAsMZi/ytkSscDrNyIVabtgn8AgF8B/D7779P265qdgxtT2qJUzM/zkNcdGnupKYeBSt8JKIzgP3nVUZc3ibyVhRlYGAAvm1BCOG2cTWAOk8yfTmwQ0OizMvL6+zsPMv86+jowLCeBjdGtmad9BbkDTSpHyaJUrq6urqysgIUC8diQggc1Li28dzGXldHid5ut+OVyh9++KGhoeH48eOcgTCuzNA6fmGFC88iy/KNGzcsFoumwRtMBrBPoZkZuRxqxnir6GMChA2xcpA11bGoEAdWk0YpjYXe8vLyH//4x+rqatbojuoEtc5/cHAQT8C4AXErLVZbMDTs4f79+71er81mGx0dpZQiQ7NCDIgd4Fad6bcSuBmb3D/BRgNklnFMhhInq3zSx4eNElFWVjY/P6+fP91+Rf8s+NI2as7i7SesmliHhHhrM5J/O8gbw4cVFhZCzE30wDLSJXWejF4O7HBA6aipJ8ZdWpMQ2UriTeuRN9IkIUR9/MWWQLkE/McqmjTdGfDcxgqh7AlVkqTy8vLTp0+PjY1pLpW4MkMn2RXI8RxQlM7ooAb0JOQi2OHFCc2AGDhYdf3ow88a4LdEDzGHBIpWOhYNvMBgsViAfaHslm1h5zXflFoDj+4RCa5nboxJ/BPPfwkmEukSxj2GPqhVU4lUvt1lTZA3u1qT4of1yy+/nDx50twb1PyymT5oqNxKUCQF8lavGv3W9X8NBAJwpDOHRm5ubiAQ0G+C/RVNbLW1tVNTU/B1DUKIfswMtgZ1OqOXAw4H7ZKaBm/cpbmzExY3ndAjb5bzdN4QZAMSwrnO2oDZzuG5jTvssv6HOBfr6urQk56tJK7MlFLkIUmSOMUFHJ01Dd5si/gC2Jx4qthysGwpSmmsgix6LNGyPcE0ilZqZTjmoZTiAZrzVmPbQj08W1DzTaEugXt9eDle09mSrVakw+EwfIoqETVsSmA0Qd7hcBi/RsWtAtNDWF1d1TCiGHhk4vI0+gknKJJuB3nrW52+/PLLFx+q+vLLL2MBE5fVCX3j0ViGhkjuPBPva83c5YAjxa34xcdFuHMUHmm4sxOWTSShR944cfPz83W++eN2u1FDi6p/1gaM/WPFcO4wqiiKz+dzOBzc3QlNaSWuzJRS1Gmoee7bb791Op36t+vQsM0tYNyYqqqq1F+AwMGqxW2UiljbAfjbg+DCNYQAsglkX52Q5pRSvMDgdrvZ4ubeFIpB3OujjEeljpzHdmDHphVF+eijj9RuEOkPCE5442pztCvp7yFpO3akKP1VtmX/t4O89RtNotocP3Bpt9tR0EdlJGdJ1O+V+tfMXQ44FiRv9VaPG6baLQmLm07okTdOXI5j2MYg3Dyew/C4xplyoQiSFuttrijKysoKCsWyLM/Pz8OVEvV36ePKDI0iiZqLpw8RqsHPHA3bUDNuTNxzbrAIDjynlKLvG6szZ83JmuhhcUigKYU1BLyYRqxADXGVNf0PTLwplqG5UxQ2ZETswIHoHx1inRjweTgc1jSsYP3pmQA7X1IM3iaiMulgsrm5OTk5qRZDsQhuUsYd1tCupLOHYP3plmC3DnaVmegn7KWaRxoTtRkpkizyxij0nKc9TgbOh9dI39g8mbsccBToU8W9X4wlzPIdlko8EZO82Ymrs1bBXRlJCNeqpmyOhNHV1QXb7urqant7O1weYxXasiwfP36cEMKu+bgyIzSo6dU0SGA2nQQsA3VxHA64brE+YqyunjP1oREaY0aCFWB8fFwfPejh+vo6OAaqNfmwnFgtFhI8+B9ABhA19NvCoeGbopTilFD73WBQX9CUsA3pADuT0qtiOBzQdnB6LTxlohHHiESlM1j4yVyUD81qX3w98MSJE4SQCxcuaGYw/nBjYyMQCLS2tqrtSmwliJjBYwRrC9TZQ9gm0iqN9zkJIZy0Gm8/4aoY6z4Sbw3x5k8KeaNNWtPEg4cQziRnvKsZvRzYYWq+X/yOC3fVCAsmKHzHJG924nJ+xdj2+Pi43W5HEqKUoi5F/T1NuDNNCGHjE6FWgbsyiAzHer3FlRk7iedj/Y0J86sTSN4sDthDMBkoitLV1cWKGqi34JY9GqGBZcFxDArqoAe9GhkZKSws/OKLL1DWY3kUpAeUgdAlDY0awWAwPz8fgt7otKX5piilqDjhdAkwdrjGBqZ6qDwj9Ofof6C+96IoyujoaG5u7pkzZzD0tHp6GH8CgSHRami8oGbOSCTS1NRUXFzMhUzQzBzrIYhZVqu1qqoKAh7g/NEsAvEW2XmumQ0eor2JEJKUwCM6bW3HT7jhsKvMREMo9CRF/jPYgcTJOxqNYnhNTfpBcsIdxmDfIFsWLAccL5yF2JM3fAmQEBIromLiwndM8saJq+mNFY1GXS4XhO1kxS7sMXct5IWqs6mpCZibvS4CrVit1t7eXlYFCroUlubxLGswM8KK98Xj0uhicdbnC1VneGUCLuzOzs6y96oppUiuais7igLgoD42NpabmwuEiuhVV1dzX5WIRqPXrl2zWq1/+ctfIpEI1o+yPMiw7BqDfRmv+UHlBw8efPbsGTjNgc7D4JuilKIPBOIAKGFDMHfhu3hbfsCYRTiF6XA4XFNTA2Ff1S9rcnKysrIyKR9qhKgU5r799wrwQWc0ffKGTUoNlGYPUU41t7lr1vkqH6L+iZNW4+0DCjGcEi7eeuLKnyB545kbrj9pCq+s4MvtCVt2NTuWAw4T5BjkSiSIioqK6elpzMYmEhe+/4e8FUUJBoNer/f69euwnRFC8vPz//nPf0JIMvipo6MDbMCgUeS+l7e4uAjOtPX19YFA4NGjR5988klxcbEkSe3t7Vzg69XV1dbWVpvNBiE2Q6HQ7Oys0+m02WylpaV45xvGbDxzNBqFAKKffPLJnj17oJ95eXkffvghDCQYDHKBX1hYuTTOY7vd7vF4Hj16dO7cOZvNdvjwYUmSLBbLrVu3Ojs7WRZEvYVawbi0tFRTUwNfax8aGiotLWUZl0MvFApNTEz09PTkv/zHXvIGg0VeXt7w8PDt27eLi4uPHj3KrbELFy4QQurr66empv7617+WlJSwjodcW/pvCv3+NBUYsM399re/HR8fVzfE4ZlWfwI9ezwe+FAx59Z38+bNBDduGCxMIc5qmFY4GCRv0GPhJqUeAu4ht2/fBnkdVDIXL170er0jIyPsRzjUxVP+ZG1tbWRkxOv1sltHWVnZjRs3vF5vXPsGjgV9SzklHGbYjkSC5I2CV0NDAxdpg+2tz+eDC9/qUBZsNi6dNcsBx4Vsffjw4bm5ud7e3pycnOR+oB3bwsT/kHc4HK6trUUjn5GE2r+OUhqJRFwuV3l5OdTw2muvdXd3//jjj9gqm4hGo263e9++fRC1x2q1vv766wMDAxwPQRGDmWdmZoqKiqD1wsLCil//gapA/9o62zdMQ7tVVVUQ1rutrW12dlZRlM8++wyG6XA4WF6EkGQ2m+2rr77CSjARCARANrJarR9//PEL/Qn+BN8jcbvd0NaLa5Q2m62xsXFwcJDb9WRZHhgYAMqx2+0ul4urB17E22+/bbVac3Jympqa1N9xiutNgbjQ3NwMZ3e2z2traz09PaB3ff311//zn/+wv6ZzGug5FApB9GlWjQTmgMRPS7Cw4/qIpBqxjY2NUCi0sbFBKX3+/HlnZ2dRUZHD4fj222/VmU08MUjeeIhkTUhscxjOSHP30LyXwRZPeRrNSZr9V1+yMNJhcD0xqK4wUqGRPAmSN3xvCcJ56jSnKMq9e/cgnpjBqZhNy4FFBjZkONba7fbe3l5NCmOLJJj+H/JOsC5RXCCQWQiw9Axx6Fi3NbijmfhpCWxArH4lXpTAbRXsPvBF5LNnzwaDwYKCAs2bDvHWTyk1SN6UUqfTKW7zx4UwIMZ6ksZV3FzmBMnbXKNGSmXZcjAyZC5PsoRvQd4csOLPHYQAS8942w1DC8zNzdXU1CT4WXfwRUjwYhhUAg7bwWCwvr5+aWkJgvThWTASiRw/fvxXHdMW/z9y5AhnwDJO3nA2TfB2786ZZDCvOIfcVzB8v9+/a9cuv9//Ctoy3kT2LQfjY4ecSRS+BXnHC77Inz0IzMzMVFZWor0DAtqgY6PP5zPoVh0LEfCn5fwuY2WO9RxdE0AH4Pf7b926FY1G29raNP0PYtWj/9w4eYNDIiGEc3bRr3/H/goanVfvvwnXkNLqyz1ZuRzindixhO9466GUCvI2AZookiUIcPSM9k5wW3M6neobj8ZHDv60CV4Me/z4MXwSnvuqAXi3mv6gsnoUxsmbUhoIBF5cEI3LR0nd4k54AhcxMvQLsMl9QVm8HOICKonCtyDvuJAXmbMKAafTyQYPwbv7jY2NT548aW5uNn07OXF/2kgk8tFHH6GLJSrz4QWAez8bBSHBFxMXeSuK0tPTQwi5evWq8VsbCfYwE4t7PB6LxXLs2DG1M2kmDsd0n7N7OZiAJSnCtyBvE8iLItmAAJyKOHpGtzW4ATE5OWliqOb8acGffGpq6vr1683NzfjJZEIIZzEFj264rzU9PX358uX19fVXZvMGQOAgVVBQ8PDhQxMQ7YQiEOwoQaNJFgC1E5ZDvK8pKcK3IO94YRf5swSBhYWFffv2cfQMwXYIISUlJdXV1TqBvnVQAH9azbtG5h5yOnO4bN3Q0PDs2bPzL/8lfvyN6+QNYwdjvCAnzZmQFC2xZs0Z93CHLAfj70VT+DZeHHMK8kYoRGJnIeD3+9X0jN8SMH0ban5+HuMCmaNqdSlOZw5xCU+fPh0MBn/3u9+pr++beJFLS0sQsWBoaMh48eXl5YaGhqNHj66vrxsvlfU5Nzc3z58/rxNdK+sRwAHuqOWAo9ZPJEv4FuStj7P4NWsR6Ovr07wkjW5rEL82DccfiUQ6Ozt/85vfOByOQCCQYA/hmwqcxIBhdxOsXBQXCGw3Ahm3HJIlfAvy3u6pJepPOwQURZmenq6urm5tbVVHQQK3NZ0IoGk3HtEhgYBAIHMQSJa0Icg7c9656GkyEMAv7uBZ8/Lly1zFd+/eraio4L4Nw+URfwoEBAICgRQiIMg7heCLpgUCAgGBgEBAIGAGAUHeZlATZQQCAgGBgEBAIJBCBAR5pxB80bRAQCAgEBAICATMICDI2wxqooxAQCAgEBAICARSiIAg7xSCL5oWCAgEBAICAYGAGQQEeZtBTZQRCAgEBAICAYFAChEQ5J1C8EXTAgGBgEBAICAQMIOAIG8zqIkyAgGBgEBAICAQSCECgrxTCL5oWiAgECGdQ7wAAAB8SURBVBAICAQEAmYQEORtBjVRRiAgEBAICAQEAilEQJB3CsEXTQsEBAICAYGAQMAMAoK8zaAmyggEBAICAYGAQCCFCAjyTiH4ommBgEBAICAQEAiYQUCQtxnURBmBgEBAICAQEAikEAFB3ikEXzQtEBAICAQEAgIBMwj8P5P0cMF1xkE/AAAAAElFTkSuQmCC)"
      ],
      "metadata": {
        "id": "Srg1n5q-ihse"
      }
    },
    {
      "cell_type": "code",
      "source": [
        "# instantiating the rideg regression model\n",
        "ridge = Ridge(alpha=100)\n",
        "\n",
        "# training the model\n",
        "ridge.fit(X_reshaped, y_reshaped)"
      ],
      "metadata": {
        "colab": {
          "base_uri": "https://localhost:8080/",
          "height": 74
        },
        "id": "7dOReE0Kdn5P",
        "outputId": "8f1fd384-ae11-47ae-925e-c32e9784d8eb"
      },
      "execution_count": 13,
      "outputs": [
        {
          "output_type": "execute_result",
          "data": {
            "text/plain": [
              "Ridge(alpha=100)"
            ],
            "text/html": [
              "<style>#sk-container-id-2 {color: black;background-color: white;}#sk-container-id-2 pre{padding: 0;}#sk-container-id-2 div.sk-toggleable {background-color: white;}#sk-container-id-2 label.sk-toggleable__label {cursor: pointer;display: block;width: 100%;margin-bottom: 0;padding: 0.3em;box-sizing: border-box;text-align: center;}#sk-container-id-2 label.sk-toggleable__label-arrow:before {content: \"▸\";float: left;margin-right: 0.25em;color: #696969;}#sk-container-id-2 label.sk-toggleable__label-arrow:hover:before {color: black;}#sk-container-id-2 div.sk-estimator:hover label.sk-toggleable__label-arrow:before {color: black;}#sk-container-id-2 div.sk-toggleable__content {max-height: 0;max-width: 0;overflow: hidden;text-align: left;background-color: #f0f8ff;}#sk-container-id-2 div.sk-toggleable__content pre {margin: 0.2em;color: black;border-radius: 0.25em;background-color: #f0f8ff;}#sk-container-id-2 input.sk-toggleable__control:checked~div.sk-toggleable__content {max-height: 200px;max-width: 100%;overflow: auto;}#sk-container-id-2 input.sk-toggleable__control:checked~label.sk-toggleable__label-arrow:before {content: \"▾\";}#sk-container-id-2 div.sk-estimator input.sk-toggleable__control:checked~label.sk-toggleable__label {background-color: #d4ebff;}#sk-container-id-2 div.sk-label input.sk-toggleable__control:checked~label.sk-toggleable__label {background-color: #d4ebff;}#sk-container-id-2 input.sk-hidden--visually {border: 0;clip: rect(1px 1px 1px 1px);clip: rect(1px, 1px, 1px, 1px);height: 1px;margin: -1px;overflow: hidden;padding: 0;position: absolute;width: 1px;}#sk-container-id-2 div.sk-estimator {font-family: monospace;background-color: #f0f8ff;border: 1px dotted black;border-radius: 0.25em;box-sizing: border-box;margin-bottom: 0.5em;}#sk-container-id-2 div.sk-estimator:hover {background-color: #d4ebff;}#sk-container-id-2 div.sk-parallel-item::after {content: \"\";width: 100%;border-bottom: 1px solid gray;flex-grow: 1;}#sk-container-id-2 div.sk-label:hover label.sk-toggleable__label {background-color: #d4ebff;}#sk-container-id-2 div.sk-serial::before {content: \"\";position: absolute;border-left: 1px solid gray;box-sizing: border-box;top: 0;bottom: 0;left: 50%;z-index: 0;}#sk-container-id-2 div.sk-serial {display: flex;flex-direction: column;align-items: center;background-color: white;padding-right: 0.2em;padding-left: 0.2em;position: relative;}#sk-container-id-2 div.sk-item {position: relative;z-index: 1;}#sk-container-id-2 div.sk-parallel {display: flex;align-items: stretch;justify-content: center;background-color: white;position: relative;}#sk-container-id-2 div.sk-item::before, #sk-container-id-2 div.sk-parallel-item::before {content: \"\";position: absolute;border-left: 1px solid gray;box-sizing: border-box;top: 0;bottom: 0;left: 50%;z-index: -1;}#sk-container-id-2 div.sk-parallel-item {display: flex;flex-direction: column;z-index: 1;position: relative;background-color: white;}#sk-container-id-2 div.sk-parallel-item:first-child::after {align-self: flex-end;width: 50%;}#sk-container-id-2 div.sk-parallel-item:last-child::after {align-self: flex-start;width: 50%;}#sk-container-id-2 div.sk-parallel-item:only-child::after {width: 0;}#sk-container-id-2 div.sk-dashed-wrapped {border: 1px dashed gray;margin: 0 0.4em 0.5em 0.4em;box-sizing: border-box;padding-bottom: 0.4em;background-color: white;}#sk-container-id-2 div.sk-label label {font-family: monospace;font-weight: bold;display: inline-block;line-height: 1.2em;}#sk-container-id-2 div.sk-label-container {text-align: center;}#sk-container-id-2 div.sk-container {/* jupyter's `normalize.less` sets `[hidden] { display: none; }` but bootstrap.min.css set `[hidden] { display: none !important; }` so we also need the `!important` here to be able to override the default hidden behavior on the sphinx rendered scikit-learn.org. See: https://github.com/scikit-learn/scikit-learn/issues/21755 */display: inline-block !important;position: relative;}#sk-container-id-2 div.sk-text-repr-fallback {display: none;}</style><div id=\"sk-container-id-2\" class=\"sk-top-container\"><div class=\"sk-text-repr-fallback\"><pre>Ridge(alpha=100)</pre><b>In a Jupyter environment, please rerun this cell to show the HTML representation or trust the notebook. <br />On GitHub, the HTML representation is unable to render, please try loading this page with nbviewer.org.</b></div><div class=\"sk-container\" hidden><div class=\"sk-item\"><div class=\"sk-estimator sk-toggleable\"><input class=\"sk-toggleable__control sk-hidden--visually\" id=\"sk-estimator-id-2\" type=\"checkbox\" checked><label for=\"sk-estimator-id-2\" class=\"sk-toggleable__label sk-toggleable__label-arrow\">Ridge</label><div class=\"sk-toggleable__content\"><pre>Ridge(alpha=100)</pre></div></div></div></div></div>"
            ]
          },
          "metadata": {},
          "execution_count": 13
        }
      ]
    },
    {
      "cell_type": "markdown",
      "source": [
        "# 11. Predict the target variables"
      ],
      "metadata": {
        "id": "jwYjILt7et3k"
      }
    },
    {
      "cell_type": "code",
      "source": [
        "# making predictions on the training data\n",
        "y_pred = ridge.predict(X_reshaped)\n",
        "\n",
        "print(\"\\nPredicted values =>\\n\", y_pred)"
      ],
      "metadata": {
        "colab": {
          "base_uri": "https://localhost:8080/"
        },
        "id": "MGnARa5Ves3F",
        "outputId": "5178b691-c3e7-4898-f2c0-d53ff2f8a8dd"
      },
      "execution_count": 14,
      "outputs": [
        {
          "output_type": "stream",
          "name": "stdout",
          "text": [
            "\n",
            "Predicted values =>\n",
            " [[23.02692885]\n",
            " [22.72117336]\n",
            " [24.23803824]\n",
            " [23.86676372]\n",
            " [24.16259208]\n",
            " [22.73904219]\n",
            " [21.90913444]\n",
            " [22.22680248]\n",
            " [21.15268742]\n",
            " [21.89325104]\n",
            " [22.63381465]\n",
            " [21.90317816]\n",
            " [21.66492713]\n",
            " [21.78405265]\n",
            " [22.07591016]\n",
            " [21.55572875]\n",
            " [21.7562567 ]\n",
            " [21.86545508]\n",
            " [20.80523801]\n",
            " [21.34328825]\n",
            " [21.03157648]\n",
            " [21.81581945]\n",
            " [22.16723972]\n",
            " [21.51403482]\n",
            " [21.73441702]\n",
            " [21.08915382]\n",
            " [21.51403482]\n",
            " [21.97862432]\n",
            " [22.86809483]\n",
            " [23.22348594]\n",
            " [21.31549229]\n",
            " [22.02825995]\n",
            " [21.78603807]\n",
            " [21.29166719]\n",
            " [22.07591016]\n",
            " [21.75228585]\n",
            " [21.56962672]\n",
            " [21.58749555]\n",
            " [21.81780488]\n",
            " [23.06663735]\n",
            " [23.91838478]\n",
            " [23.41408677]\n",
            " [22.2208462 ]\n",
            " [22.30423406]\n",
            " [22.02230368]\n",
            " [21.25394411]\n",
            " [21.46042834]\n",
            " [21.94487209]\n",
            " [20.69206877]\n",
            " [21.09511009]\n",
            " [21.8118486 ]\n",
            " [22.11363324]\n",
            " [22.89986163]\n",
            " [21.88133849]\n",
            " [21.66294171]\n",
            " [24.36510545]\n",
            " [22.6457272 ]\n",
            " [23.50541633]\n",
            " [22.17319599]\n",
            " [21.74037329]\n",
            " [21.3710842 ]\n",
            " [21.81780488]\n",
            " [22.79066324]\n",
            " [23.39820336]\n",
            " [24.0772188 ]\n",
            " [22.46108265]\n",
            " [21.46241376]\n",
            " [21.64308746]\n",
            " [21.07922669]\n",
            " [21.65698543]\n",
            " [22.71323166]\n",
            " [21.80787775]\n",
            " [22.01436198]\n",
            " [22.37173852]\n",
            " [22.42733043]\n",
            " [22.45314095]\n",
            " [22.43924298]\n",
            " [22.16326887]\n",
            " [22.34592799]\n",
            " [21.63514576]\n",
            " [23.32871348]\n",
            " [23.11428756]\n",
            " [22.48490776]\n",
            " [22.21687535]\n",
            " [22.65763975]\n",
            " [23.13612723]\n",
            " [21.91509071]\n",
            " [22.12554579]\n",
            " [23.88463255]\n",
            " [24.02758316]\n",
            " [22.71323166]\n",
            " [22.68940656]\n",
            " [22.76286729]\n",
            " [22.30423406]\n",
            " [22.37968022]\n",
            " [23.12620011]\n",
            " [22.20893365]\n",
            " [25.99315415]\n",
            " [25.49878326]\n",
            " [24.69667147]\n",
            " [23.32871348]]\n"
          ]
        }
      ]
    },
    {
      "cell_type": "markdown",
      "source": [
        "# 12. Evaluate the model"
      ],
      "metadata": {
        "id": "1rpJg4-RfVs1"
      }
    },
    {
      "cell_type": "code",
      "source": [
        "#  mean_squared_erro(actual, predicted)\n",
        "mse = mean_squared_error(y_reshaped, y_pred)\n",
        "print(\"\\nMean Squared Error =>\\n\", mse)\n",
        "print(\"\\nModel Coefficients =>\\n\", ridge.coef_)\n",
        "print(\"\\nModel Intercept =>\\n\", ridge.intercept_)"
      ],
      "metadata": {
        "colab": {
          "base_uri": "https://localhost:8080/"
        },
        "id": "dQD6GP3vfYzj",
        "outputId": "78d0b6d8-6074-4c7b-de34-4b9fc51bb57d"
      },
      "execution_count": 15,
      "outputs": [
        {
          "output_type": "stream",
          "name": "stdout",
          "text": [
            "\n",
            "Mean Squared Error =>\n",
            " 25.96309109305436\n",
            "\n",
            "Model Coefficients =>\n",
            " [[1.98542524]]\n",
            "\n",
            "Model Intercept =>\n",
            " [9.97275793]\n"
          ]
        }
      ]
    },
    {
      "cell_type": "markdown",
      "source": [
        "# 13. Data Visualization\n",
        "## 13.1 Scatterplot without best fit line"
      ],
      "metadata": {
        "id": "sI06vM-4gANh"
      }
    },
    {
      "cell_type": "code",
      "source": [
        "# scatterplot for L2 Regularization (Ridge)\n",
        "sns.scatterplot(x=X,y=y)\n",
        "# plt.plot(X_reshaped, y_pred, color=\"red\")\n",
        "plt.title(\"Linear Regression Model with L2 Regularization (Ridge)\")\n",
        "plt.show()"
      ],
      "metadata": {
        "colab": {
          "base_uri": "https://localhost:8080/",
          "height": 452
        },
        "id": "_1okPXGmgHKP",
        "outputId": "9e7ac70f-0762-4fae-b357-d9cdbc325207"
      },
      "execution_count": 16,
      "outputs": [
        {
          "output_type": "display_data",
          "data": {
            "text/plain": [
              "<Figure size 640x480 with 1 Axes>"
            ],
            "image/png": "[encoded data removed]"
          },
          "metadata": {}
        }
      ]
    },
    {
      "cell_type": "markdown",
      "source": [
        "# 13.2 Scatterplot with best fit line"
      ],
      "metadata": {
        "id": "5-r7RZzYgzVM"
      }
    },
    {
      "cell_type": "code",
      "source": [
        "# scatterplot for L2 Regularization (Ridge)\n",
        "sns.scatterplot(x=X,y=y)\n",
        "plt.plot(X_reshaped, y_pred, color=\"red\")\n",
        "plt.title(\"Linear Regression Model with L2 Regularization (Ridge)\")\n",
        "plt.show()"
      ],
      "metadata": {
        "colab": {
          "base_uri": "https://localhost:8080/",
          "height": 452
        },
        "id": "6Pe-AIvvg50h",
        "outputId": "124a5641-0dce-47d3-caae-d627ec0bdb21"
      },
      "execution_count": 17,
      "outputs": [
        {
          "output_type": "display_data",
          "data": {
            "text/plain": [
              "<Figure size 640x480 with 1 Axes>"
            ],
            "image/png": "[encoded data removed]"
          },
          "metadata": {}
        }
      ]
    }
  ]
}