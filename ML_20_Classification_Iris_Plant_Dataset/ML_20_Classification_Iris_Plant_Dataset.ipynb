Classification of Iris Plant Dataset using KNN, SVM, CART, GNB using Sklearn's library
