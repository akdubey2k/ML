{
  "nbformat": 4,
  "nbformat_minor": 0,
  "metadata": {
    "colab": {
      "provenance": []
    },
    "kernelspec": {
      "name": "python3",
      "display_name": "Python 3"
    },
    "language_info": {
      "name": "python"
    }
  },
  "cells": [
    {
      "cell_type": "markdown",
      "source": [
        "# 1. Definition\n",
        "## 1.2 Description\n",
        "A **decision tree** is a type of algorithm used in decision-making processes and machine learning. It is a *flowchart-like structure or graphical representation,* used to make decisions or predictions."
      ],
      "metadata": {
        "id": "ThgF9BmeLC6J"
      }
    },
    {
      "cell_type": "markdown",
      "source": [
        "## 1.2 Key components and features of a decision tree:\n",
        "1.\tRoot Node: This is the top node of the tree and represents the entire dataset. It is the starting point of the decision-making process.\n",
        "2.\tDecision Nodes: These nodes represent the points where the dataset is split based on certain conditions or attributes. Each decision node leads to further nodes.\n",
        "3.\tLeaf Nodes (Terminal Nodes): These nodes represent the final outcome or decision of the decision tree. They do not split further and provide the result based on the conditions tested in the path leading to them.\n",
        "4.\tBranches: These are the connections between nodes, representing the flow from one decision node to another or to a leaf node.\n",
        "5.\tSplitting: This is the process of dividing a node into two or more sub-nodes based on a certain condition or attribute.\n",
        "6.\tPruning: This involves removing parts of the tree that do not provide additional power in classifying instances. Pruning helps to reduce the complexity of the model and prevent overfitting.\n"
      ],
      "metadata": {
        "id": "rxBxIxTGMDC8"
      }
    },
    {
      "cell_type": "code",
      "execution_count": null,
      "metadata": {
        "id": "GrugnBl3KeBH"
      },
      "outputs": [],
      "source": []
    }
  ]
}