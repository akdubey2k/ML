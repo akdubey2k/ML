{
  "nbformat": 4,
  "nbformat_minor": 0,
  "metadata": {
    "colab": {
      "provenance": []
    },
    "kernelspec": {
      "name": "python3",
      "display_name": "Python 3"
    },
    "language_info": {
      "name": "python"
    }
  },
  "cells": [
    {
      "cell_type": "markdown",
      "source": [
        "# Principal Component Analysis (PCA)\n",
        "# 1. Definition\n",
        "**PCA,** is a **dimensionality reduction** method that is often used to **reduce the dimensionality of large data sets,** *by transforming a large set of variables into a* **smaller one** that still contains most of the information in the large set."
      ],
      "metadata": {
        "id": "kY-opwDUGDaH"
      }
    },
    {
      "cell_type": "markdown",
      "source": [
        "**Thanks To:**\n",
        "* [Optical Recognition of Handwritten Digits](https://archive.ics.uci.edu/dataset/80/optical+recognition+of+handwritten+digits)\n",
        "* [*sklearn.datasets*.**load_digits**](https://scikit-learn.org/stable/modules/generated/sklearn.datasets.load_digits.html)\n",
        "* [Recognizing hand-written digits](https://scikit-learn.org/stable/auto_examples/classification/plot_digits_classification.html)"
      ],
      "metadata": {
        "id": "jhkTg_WEiu26"
      }
    },
    {
      "cell_type": "code",
      "execution_count": null,
      "metadata": {
        "id": "ydHqLD7_F3go"
      },
      "outputs": [],
      "source": []
    }
  ]
}