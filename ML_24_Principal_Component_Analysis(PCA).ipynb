{
  "nbformat": 4,
  "nbformat_minor": 0,
  "metadata": {
    "colab": {
      "provenance": []
    },
    "kernelspec": {
      "name": "python3",
      "display_name": "Python 3"
    },
    "language_info": {
      "name": "python"
    }
  },
  "cells": [
    {
      "cell_type": "markdown",
      "source": [
        "# Principal Component Analysis (PCA)\n",
        "# 1. Definition\n",
        "**PCA,** is a **dimensionality reduction** method that is often used to **reduce the dimensionality of large data sets,** *by transforming a large set of variables into a* **smaller one** that still contains most of the information in the large set."
      ],
      "metadata": {
        "id": "kY-opwDUGDaH"
      }
    },
    {
      "cell_type": "markdown",
      "source": [
        "**Thanks To:**\n",
        "* [Optical Recognition of Handwritten Digits](https://archive.ics.uci.edu/dataset/80/optical+recognition+of+handwritten+digits)\n",
        "* [*sklearn.datasets*.**load_digits**](https://scikit-learn.org/stable/modules/generated/sklearn.datasets.load_digits.html)\n",
        "* [Recognizing hand-written digits](https://scikit-learn.org/stable/auto_examples/classification/plot_digits_classification.html)\n",
        "* [PCA applied on handwritten digits using scikit-learn](https://www.oreilly.com/library/view/statistics-for-machine/9781788295758/21820518-7e2f-4623-aa8a-b93dce24d826.xhtml)"
      ],
      "metadata": {
        "id": "jhkTg_WEiu26"
      }
    },
    {
      "cell_type": "markdown",
      "source": [
        "The **PCA** example has been illustrated with the **handwritten digits** example from **scikit-learn** datasets, in which handwritten digits are created from **0-9** and its respective **64 features (8 x 8 matrix)** of pixel intensities. <br>\n",
        "Here, the idea is to represent the original features of *64 dimensions into as few as possible:*"
      ],
      "metadata": {
        "id": "mEftK2f7kpMu"
      }
    },
    {
      "cell_type": "markdown",
      "source": [
        "# 2. Import libraries"
      ],
      "metadata": {
        "id": "2wMnrs_NjQkY"
      }
    },
    {
      "cell_type": "code",
      "execution_count": 1,
      "metadata": {
        "id": "ydHqLD7_F3go"
      },
      "outputs": [],
      "source": [
        "from sklearn.datasets import load_digits\n",
        "import matplotlib.pyplot as plt"
      ]
    }
  ]
}