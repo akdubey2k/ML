{
  "nbformat": 4,
  "nbformat_minor": 0,
  "metadata": {
    "colab": {
      "provenance": []
    },
    "kernelspec": {
      "name": "python3",
      "display_name": "Python 3"
    },
    "language_info": {
      "name": "python"
    }
  },
  "cells": [
    {
      "cell_type": "markdown",
      "source": [
        "# K-Fold Cross Validation Technique and its Essentials\n",
        "**Thanks to :** [K-Fold Cross Validation Technique](https://www.analyticsvidhya.com/blog/2022/02/k-fold-cross-validation-technique-and-its-essentials/)"
      ],
      "metadata": {
        "id": "DWW7z4sW8wYx"
      }
    },
    {
      "cell_type": "markdown",
      "source": [
        "#### [class sklearn.model_selection.KFold(n_splits=5, *, shuffle=False, random_state=None)](https://scikit-learn.org/stable/modules/generated/sklearn.model_selection.KFold.html)\n",
        "\n",
        "# K-Folds cross-validator\n",
        "* Provides *train/test indices to split data into **train/test sets**.*\n",
        "* Split the dataset into **k consecutive folds** (without shuffling by default).\n",
        "* Each fold is then used once as a **validation set** in turn while the remaining **k - 1** folds are used for **training**\n",
        "* This process is repeated **k times,** and **performance metrics** such as\n",
        " * accuracy,\n",
        " * precision, and\n",
        " * recall <br>\n",
        "are computed for each fold.\n",
        "* By averaging these metrics, we obtain an estimate of the **model’s generalization performance.**"
      ],
      "metadata": {
        "id": "mmeXORlJ-B7d"
      }
    },
    {
      "cell_type": "markdown",
      "source": [
        "#### def split(X, y=None, groups=None)\n",
        "Generate indices to split data into training and test set.\n",
        "\n",
        "##### Parameters\n",
        "X : array-like of shape (n_samples, n_features)\n",
        "\n",
        "    Training data, where n_samples is the number of samples and n_features is the number of features.\n",
        "\n",
        "y : array-like of shape (n_samples,), default=None\n",
        "\n",
        "    The target variable for supervised learning problems.\n",
        "\n",
        "groups : array-like of shape (n_samples,), default=None\n",
        "\n",
        "    Group labels for the samples used while splitting the dataset into train/test set.\n",
        "\n",
        "Yields<br>\n",
        "train : ndarray\n",
        "\n",
        "    The training set indices for that split.\n",
        "\n",
        "test : ndarray\n",
        "\n",
        "    The testing set indices for that split."
      ],
      "metadata": {
        "id": "g6xCadnZDem7"
      }
    },
    {
      "cell_type": "markdown",
      "source": [
        "# 1. Dataset Description\n",
        "### train and test array and their split by using K-Fold as an array in every iteration."
      ],
      "metadata": {
        "id": "ecm1oouyIreV"
      }
    },
    {
      "cell_type": "markdown",
      "source": [
        "### implementation of K-Fold Cross Validation; K = 5\n",
        "#### **shuffle = False**; dataset will get shuffle in each iteration and each datapoint may not get the chance to be consider as a train and test set part."
      ],
      "metadata": {
        "id": "mRfqrCoXc2YP"
      }
    },
    {
      "cell_type": "code",
      "source": [
        "from sklearn.model_selection import KFold\n",
        "import numpy as np\n",
        "\n",
        "data = np.array([5,10,15,20,25,30,35,40,45,50,55,60,65,70,75,80,85,90,95,100])\n",
        "\n",
        "print(\"\\n len(np.data)\".ljust(50, ' '), \" : \", len(data))\n",
        "\n",
        "kf = KFold(n_splits=5, shuffle=False)\n",
        "\n",
        "print(\"\\n get_n_splits\".ljust(50, ' '), \" : \", kf.get_n_splits())\n",
        "print(\"\\n n_splits\".ljust(50, ' '), \" : \", kf.n_splits)\n",
        "print(\"\\n shuffle\".ljust(50, ' '), \" : \", kf.shuffle)\n",
        "print()\n",
        "i = 1\n",
        "for train, test in kf.split(data):\n",
        "   print(\" Train %d : %s  Test: %s\" % (i, data[train], data[test]))\n",
        "   i += 1\n",
        "\n",
        "print(\"\\nLength of 'train set' array in each fold\".ljust(50, ' '), \" : \", len(train))\n",
        "print(\"\\nLength of 'test set' array in each fold\".ljust(50, ' '), \" : \", len(test))"
      ],
      "metadata": {
        "colab": {
          "base_uri": "https://localhost:8080/"
        },
        "id": "v3GlQ0YL8_kv",
        "outputId": "c5a0ad61-e681-4bec-9dfd-bc5123aef6ba"
      },
      "execution_count": 1,
      "outputs": [
        {
          "output_type": "stream",
          "name": "stdout",
          "text": [
            "\n",
            " len(np.data)                                      :  20\n",
            "\n",
            " get_n_splits                                      :  5\n",
            "\n",
            " n_splits                                          :  5\n",
            "\n",
            " shuffle                                           :  False\n",
            "\n",
            " Train 1 : [ 25  30  35  40  45  50  55  60  65  70  75  80  85  90  95 100]  Test: [ 5 10 15 20]\n",
            " Train 2 : [  5  10  15  20  45  50  55  60  65  70  75  80  85  90  95 100]  Test: [25 30 35 40]\n",
            " Train 3 : [  5  10  15  20  25  30  35  40  65  70  75  80  85  90  95 100]  Test: [45 50 55 60]\n",
            " Train 4 : [  5  10  15  20  25  30  35  40  45  50  55  60  85  90  95 100]  Test: [65 70 75 80]\n",
            " Train 5 : [ 5 10 15 20 25 30 35 40 45 50 55 60 65 70 75 80]  Test: [ 85  90  95 100]\n",
            "\n",
            "Length of 'train set' array in each fold           :  16\n",
            "\n",
            "Length of 'test set' array in each fold            :  4\n"
          ]
        }
      ]
    },
    {
      "cell_type": "markdown",
      "source": [
        "### implementation of K-Fold Cross Validation; K = 5\n",
        "#### **shuffle = True**; dataset will get shuffle in each iteration and each datapoint may not get the chance to be consider as a train and test set part."
      ],
      "metadata": {
        "id": "yzH4HoaPchNm"
      }
    },
    {
      "cell_type": "code",
      "source": [
        "from sklearn.model_selection import KFold\n",
        "import numpy as np\n",
        "\n",
        "data = np.array([5,10,15,20,25,30,35,40,45,50,55,60,65,70,75,80,85,90,95,100])\n",
        "\n",
        "print(\"\\n len(np.data)\".ljust(50, ' '), \" : \", len(data))\n",
        "\n",
        "kf = KFold(n_splits=5, shuffle=True)\n",
        "\n",
        "print(\"\\n get_n_splits\".ljust(50, ' '), \" : \", kf.get_n_splits())\n",
        "print(\"\\n n_splits\".ljust(50, ' '), \" : \", kf.n_splits)\n",
        "print(\"\\n shuffle\".ljust(50, ' '), \" : \", kf.shuffle)\n",
        "print()\n",
        "i = 1\n",
        "for train, test in kf.split(data):\n",
        "   print(\" Train %d : %s  Test: %s\" % (i, data[train], data[test]))\n",
        "   i += 1\n",
        "\n",
        "print(\"\\nLength of 'train set' array in each fold\".ljust(50, ' '), \" : \", len(train))\n",
        "print(\"\\nLength of 'test set' array in each fold\".ljust(50, ' '), \" : \", len(test))"
      ],
      "metadata": {
        "colab": {
          "base_uri": "https://localhost:8080/"
        },
        "id": "9TZeOeIybiP_",
        "outputId": "daea668c-6cd3-45c4-dc55-4dce81ee29a7"
      },
      "execution_count": 2,
      "outputs": [
        {
          "output_type": "stream",
          "name": "stdout",
          "text": [
            "\n",
            " len(np.data)                                      :  20\n",
            "\n",
            " get_n_splits                                      :  5\n",
            "\n",
            " n_splits                                          :  5\n",
            "\n",
            " shuffle                                           :  True\n",
            "\n",
            " Train 1 : [  5  15  20  25  30  40  45  50  55  60  65  70  80  85  95 100]  Test: [10 35 75 90]\n",
            " Train 2 : [  5  10  15  25  30  35  40  50  60  65  75  80  85  90  95 100]  Test: [20 45 55 70]\n",
            " Train 3 : [10 15 20 25 30 35 40 45 50 55 60 65 70 75 85 90]  Test: [  5  80  95 100]\n",
            " Train 4 : [  5  10  15  20  25  30  35  45  55  60  70  75  80  90  95 100]  Test: [40 50 65 85]\n",
            " Train 5 : [  5  10  20  35  40  45  50  55  65  70  75  80  85  90  95 100]  Test: [15 25 30 60]\n",
            "\n",
            "Length of 'train set' array in each fold           :  16\n",
            "\n",
            "Length of 'test set' array in each fold            :  4\n"
          ]
        }
      ]
    },
    {
      "cell_type": "markdown",
      "source": [
        "# 2. Import libraries"
      ],
      "metadata": {
        "id": "_sqr-PwrJCu2"
      }
    },
    {
      "cell_type": "code",
      "source": [
        "from sklearn.linear_model import LogisticRegression\n",
        "from sklearn.ensemble import RandomForestClassifier\n",
        "from sklearn.model_selection import train_test_split\n",
        "from sklearn.model_selection import cross_val_score\n",
        "from sklearn.neighbors import KNeighborsClassifier\n",
        "from sklearn.svm import SVC\n",
        "from sklearn.datasets import load_digits\n",
        "\n",
        "import numpy as np\n",
        "import matplotlib.pyplot as plt"
      ],
      "metadata": {
        "id": "EcoYIBlBJIKM"
      },
      "execution_count": 3,
      "outputs": []
    },
    {
      "cell_type": "markdown",
      "source": [
        "# 3. Load dataset\n",
        "## 3.1 Let's do this for hand-written digits dataset"
      ],
      "metadata": {
        "id": "ucLkF2rSKlNd"
      }
    },
    {
      "cell_type": "code",
      "source": [
        "digit_data = load_digits()\n",
        "print(\"\\n dir(digit_data)\".ljust(40, ' '),dir(digit_data))\n",
        "print(\"\\n len(digit_data['data'])\".ljust(40, ' '),len(digit_data['data']))\n",
        "print(\"\\n len(digit_data['target'])\".ljust(40, ' '),len(digit_data['target']))"
      ],
      "metadata": {
        "colab": {
          "base_uri": "https://localhost:8080/"
        },
        "id": "m4VyV-X7KNDM",
        "outputId": "247edbc6-2bd5-4ae6-acff-e5440ab7eee9"
      },
      "execution_count": 4,
      "outputs": [
        {
          "output_type": "stream",
          "name": "stdout",
          "text": [
            "\n",
            " dir(digit_data)                        ['DESCR', 'data', 'feature_names', 'frame', 'images', 'target', 'target_names']\n",
            "\n",
            " len(digit_data['data'])                1797\n",
            "\n",
            " len(digit_data['target'])              1797\n"
          ]
        }
      ]
    },
    {
      "cell_type": "markdown",
      "source": [
        "## 3.2 Load digit data set and split into training and test set"
      ],
      "metadata": {
        "id": "NZM0EbmkdmFB"
      }
    },
    {
      "cell_type": "code",
      "source": [
        "X_train, X_test, y_train, y_test = train_test_split(digit_data['data'], digit_data['target'], test_size=0.3)\n",
        "print(\"\\n len(X_train)\".ljust(40, ' '),len(X_train))\n",
        "print(\"\\n len(X_test)\".ljust(40, ' '),len(X_test))\n",
        "print(\"\\n len(y_train)\".ljust(40, ' '),len(y_train))\n",
        "print(\"\\n len(y_test)\".ljust(40, ' '),len(y_test))"
      ],
      "metadata": {
        "colab": {
          "base_uri": "https://localhost:8080/"
        },
        "id": "W6WWwMCtdin6",
        "outputId": "32fc7c63-40ae-4a75-dc95-98845c618878"
      },
      "execution_count": 5,
      "outputs": [
        {
          "output_type": "stream",
          "name": "stdout",
          "text": [
            "\n",
            " len(X_train)                           1257\n",
            "\n",
            " len(X_test)                            540\n",
            "\n",
            " len(y_train)                           1257\n",
            "\n",
            " len(y_test)                            540\n"
          ]
        }
      ]
    },
    {
      "cell_type": "markdown",
      "source": [
        "# 4. Dataset EDA (Exploratory Data Analysis)\n",
        "## 4.1 Logistic Regression\n",
        "Use ***liblinear***. This is the **“Large Linear Classification”** category.\n",
        "\n",
        "It uses a Coordinate-Descent Algorithm. This would minimize a **multivariate** function by resolving the **univariate** and its optimization problems during the loop."
      ],
      "metadata": {
        "id": "PxGYiufmM-fz"
      }
    },
    {
      "cell_type": "code",
      "source": [
        "lr = LogisticRegression(solver=\"liblinear\", multi_class='ovr')\n",
        "\n",
        "# training the data set\n",
        "lr.fit(X_train, y_train)\n",
        "\n",
        "# check the score from the model\n",
        "lr.score(X_test, y_test)"
      ],
      "metadata": {
        "colab": {
          "base_uri": "https://localhost:8080/"
        },
        "id": "Sr__4DNyNO57",
        "outputId": "6fb4b1aa-fadf-4d7e-c213-a0d28c0dbb68"
      },
      "execution_count": 6,
      "outputs": [
        {
          "output_type": "execute_result",
          "data": {
            "text/plain": [
              "0.9666666666666667"
            ]
          },
          "metadata": {},
          "execution_count": 6
        }
      ]
    },
    {
      "cell_type": "markdown",
      "source": [
        "# SVC\n",
        "Author want to just use **\"gamma\"** as a parameter for non-linear perspective for hyperplanes. The value of the gamma tries to fit the training data set and uses **\"1/n_features\"**."
      ],
      "metadata": {
        "id": "A7jWCIpuONh_"
      }
    },
    {
      "cell_type": "code",
      "source": [
        "svm = SVC(gamma='auto')\n",
        "\n",
        "# training the data set\n",
        "svm.fit(X_train, y_train)\n",
        "\n",
        "# check the score from the model\n",
        "svm.score(X_test, y_test)"
      ],
      "metadata": {
        "colab": {
          "base_uri": "https://localhost:8080/"
        },
        "id": "ThrNzlx0OkC-",
        "outputId": "10e9bf46-2d43-44bc-9b4a-8278edcc523b"
      },
      "execution_count": 7,
      "outputs": [
        {
          "output_type": "execute_result",
          "data": {
            "text/plain": [
              "0.31666666666666665"
            ]
          },
          "metadata": {},
          "execution_count": 7
        }
      ]
    },
    {
      "cell_type": "markdown",
      "source": [
        "# Random Forest Classification\n",
        "For RFC, author want to use 40 trees as an estimators as 40."
      ],
      "metadata": {
        "id": "EQ_2LiSmO-JI"
      }
    },
    {
      "cell_type": "code",
      "source": [
        "rfc = RandomForestClassifier(n_estimators=40)\n",
        "\n",
        "# training the data set\n",
        "rfc.fit(X_train, y_train)\n",
        "\n",
        "# check the score from the model\n",
        "rfc.score(X_test, y_test)"
      ],
      "metadata": {
        "colab": {
          "base_uri": "https://localhost:8080/"
        },
        "id": "iJCRlY5uPPeW",
        "outputId": "5e979b64-f6d7-4202-9733-ddd44f821b79"
      },
      "execution_count": 8,
      "outputs": [
        {
          "output_type": "execute_result",
          "data": {
            "text/plain": [
              "0.975925925925926"
            ]
          },
          "metadata": {},
          "execution_count": 8
        }
      ]
    },
    {
      "cell_type": "markdown",
      "source": [
        "Scores from the above list of algorithms\n",
        "1. Logistic Regression,\n",
        "2. Random Forest,\n",
        "3. Support Vector Machine\n",
        "\n",
        "compare to each other for better selection.\n",
        "\n"
      ],
      "metadata": {
        "id": "c5WAJmJtPzAS"
      }
    },
    {
      "cell_type": "markdown",
      "source": [
        "\n",
        "#### Now, author is trying to use here **\"cross_val_score\"** function to get the scores, by passing different algorithms with digit dataset and\n",
        "#### **cv**: cross-validation generator or an iterable, default=None\n",
        "\n",
        "Which determines the cross-validation splitting strategy"
      ],
      "metadata": {
        "id": "LjBjs3cBQtt1"
      }
    },
    {
      "cell_type": "code",
      "source": [
        "# score_lr = cross_val_score(LogisticRegression(solver=\"liblinear\", multi_class='ovr'),\\\n",
        "                          #  digit_data['data'], digit_data['target'], cv=3)\n",
        "score_lr = cross_val_score(lr, digit_data['data'], digit_data['target'], cv=5)\n",
        "print(\"\\n Logistic Regression\")\n",
        "print(\"\\n score_lr\".ljust(40, ' '), score_lr)\n",
        "print(\"\\n Average score_lr\".ljust(40, ' '), np.average(score_lr))"
      ],
      "metadata": {
        "colab": {
          "base_uri": "https://localhost:8080/"
        },
        "id": "XP1jbncxRSc6",
        "outputId": "f33e01f7-7c50-42e6-86fa-5bb77575540d"
      },
      "execution_count": 9,
      "outputs": [
        {
          "output_type": "stream",
          "name": "stdout",
          "text": [
            "\n",
            " Logistic Regression\n",
            "\n",
            " score_lr                               [0.92222222 0.88333333 0.95264624 0.95821727 0.89415042]\n",
            "\n",
            " Average score_lr                       0.9221138966264315\n"
          ]
        }
      ]
    },
    {
      "cell_type": "code",
      "source": [
        "score_lr = cross_val_score(svm, digit_data['data'], digit_data['target'], cv=5)\n",
        "print(\"\\n Support Vector Machine\")\n",
        "print(\"\\n score_lr\".ljust(40, ' '), score_lr)\n",
        "print(\"\\n Average score_lr\".ljust(40, ' '), np.average(score_lr))"
      ],
      "metadata": {
        "colab": {
          "base_uri": "https://localhost:8080/"
        },
        "id": "CQeFu-2fW4X-",
        "outputId": "1a86221a-c861-47cf-9ef5-47a6a71672b0"
      },
      "execution_count": 10,
      "outputs": [
        {
          "output_type": "stream",
          "name": "stdout",
          "text": [
            "\n",
            " Support Vector Machine\n",
            "\n",
            " score_lr                               [0.41111111 0.45       0.454039   0.44846797 0.47910864]\n",
            "\n",
            " Average score_lr                       0.448545341999381\n"
          ]
        }
      ]
    },
    {
      "cell_type": "code",
      "source": [
        "score_lr = cross_val_score(rfc, digit_data['data'], digit_data['target'], cv=5)\n",
        "print(\"\\n Random Forest Classifier\")\n",
        "print(\"\\n score_lr\".ljust(40, ' '), score_lr)\n",
        "print(\"\\n Average score_lr\".ljust(40, ' '), np.average(score_lr))"
      ],
      "metadata": {
        "colab": {
          "base_uri": "https://localhost:8080/"
        },
        "id": "E_Gmh5VEXBt7",
        "outputId": "4a19011a-cc10-4625-df89-4d3e68d79265"
      },
      "execution_count": 11,
      "outputs": [
        {
          "output_type": "stream",
          "name": "stdout",
          "text": [
            "\n",
            " Random Forest Classifier\n",
            "\n",
            " score_lr                               [0.93055556 0.88888889 0.96100279 0.97214485 0.89415042]\n",
            "\n",
            " Average score_lr                       0.9293484989167441\n"
          ]
        }
      ]
    },
    {
      "cell_type": "markdown",
      "source": [
        "Based on the above observation, author wants to stick with Random Forest Classifier for this dataset for production."
      ],
      "metadata": {
        "id": "FBeZxXA5X8dv"
      }
    },
    {
      "cell_type": "markdown",
      "source": [
        "# Parameter Tuning Using K-Fold\n",
        "#### Now, author want to consider the RandomForestClassifier for this analysis, and keeping changing **\"n_estimators\"** parameter for this case while keeping the **\"CV\"** constant as 10 (commonly used)"
      ],
      "metadata": {
        "id": "_Smf9DJbYUZ9"
      }
    },
    {
      "cell_type": "code",
      "source": [
        "rfc = RandomForestClassifier(n_estimators=20)\n",
        "score_lr = cross_val_score(rfc, digit_data['data'], digit_data['target'], cv=10)\n",
        "print(\"\\n Random Forest Classifier with 20 tress\")\n",
        "print(\"\\n score_lr\".ljust(40, ' '), score_lr)\n",
        "print(\"\\n Average score_lr\".ljust(40, ' '), np.average(score_lr))"
      ],
      "metadata": {
        "colab": {
          "base_uri": "https://localhost:8080/"
        },
        "id": "VpsgzWebYTBz",
        "outputId": "f5cacc99-cfba-4cff-8d4a-2107066d4eba"
      },
      "execution_count": 12,
      "outputs": [
        {
          "output_type": "stream",
          "name": "stdout",
          "text": [
            "\n",
            " Random Forest Classifier with 20 tress\n",
            "\n",
            " score_lr                               [0.9        0.95       0.91666667 0.9        0.93888889 0.96666667\n",
            " 0.96666667 0.97206704 0.91620112 0.94413408]\n",
            "\n",
            " Average score_lr                       0.937129112352576\n"
          ]
        }
      ]
    },
    {
      "cell_type": "code",
      "source": [
        "rfc = RandomForestClassifier(n_estimators=30)\n",
        "score_lr = cross_val_score(rfc, digit_data['data'], digit_data['target'], cv=10)\n",
        "print(\"\\n Random Forest Classifier with 30 tress\")\n",
        "print(\"\\n score_lr\".ljust(40, ' '), score_lr)\n",
        "print(\"\\n Average score_lr\".ljust(40, ' '), np.average(score_lr))"
      ],
      "metadata": {
        "colab": {
          "base_uri": "https://localhost:8080/"
        },
        "id": "86cVeGyYZuhH",
        "outputId": "85333502-85a9-40c5-8ff1-adbb407e3043"
      },
      "execution_count": 13,
      "outputs": [
        {
          "output_type": "stream",
          "name": "stdout",
          "text": [
            "\n",
            " Random Forest Classifier with 30 tress\n",
            "\n",
            " score_lr                               [0.9        0.97222222 0.91111111 0.91666667 0.96666667 0.96666667\n",
            " 0.98888889 0.97206704 0.9273743  0.94413408]\n",
            "\n",
            " Average score_lr                       0.9465797641216636\n"
          ]
        }
      ]
    },
    {
      "cell_type": "code",
      "source": [
        "rfc = RandomForestClassifier(n_estimators=40)\n",
        "score_lr = cross_val_score(rfc, digit_data['data'], digit_data['target'], cv=10)\n",
        "print(\"\\n Random Forest Classifier with 40 tress\")\n",
        "print(\"\\n score_lr\".ljust(40, ' '), score_lr)\n",
        "print(\"\\n Average score_lr\".ljust(40, ' '), np.average(score_lr))"
      ],
      "metadata": {
        "colab": {
          "base_uri": "https://localhost:8080/"
        },
        "id": "vaIkdgEsZyVZ",
        "outputId": "ee057afd-e76b-46a6-b625-7d70b5748953"
      },
      "execution_count": 14,
      "outputs": [
        {
          "output_type": "stream",
          "name": "stdout",
          "text": [
            "\n",
            " Random Forest Classifier with 40 tress\n",
            "\n",
            " score_lr                               [0.9        0.97222222 0.94444444 0.92777778 0.97222222 0.96666667\n",
            " 0.97222222 0.95530726 0.9273743  0.95530726]\n",
            "\n",
            " Average score_lr                       0.9493544382371197\n"
          ]
        }
      ]
    },
    {
      "cell_type": "markdown",
      "source": [
        "# K-Fold in Visual form\n",
        "Visual representation is always the best evidence for any data which is located across the axes."
      ],
      "metadata": {
        "id": "2O52w1Giah6A"
      }
    },
    {
      "cell_type": "markdown",
      "source": [
        "#### class sklearn.neighbors.KNeighborsClassifier(n_neighbors=5, *, weights='uniform', algorithm='auto', leaf_size=30, p=2, metric='minkowski', metric_params=None, n_jobs=None)[source]\n",
        "\n",
        "### n_neighborsint, (default=5) Number of neighbors\n"
      ],
      "metadata": {
        "id": "P-5PdrbRbon1"
      }
    },
    {
      "cell_type": "code",
      "source": [
        "knn = KNeighborsClassifier()\n",
        "score_knn = cross_val_score(knn, digit_data['data'], digit_data['target'], cv=10)\n",
        "print(\"\\n KNeighborsClassifier\")\n",
        "print(\"\\n score_lr\".ljust(40, ' '), score_knn)\n",
        "print(\"\\n Average score_lr\".ljust(40, ' '), np.average(score_lr))"
      ],
      "metadata": {
        "colab": {
          "base_uri": "https://localhost:8080/"
        },
        "id": "7yME3O3bbR7t",
        "outputId": "94f56a6b-3b84-4e7a-cd71-5fd037d58a41"
      },
      "execution_count": 15,
      "outputs": [
        {
          "output_type": "stream",
          "name": "stdout",
          "text": [
            "\n",
            " KNeighborsClassifier\n",
            "\n",
            " score_lr                               [0.92777778 0.98333333 0.97777778 0.95555556 0.97222222 0.97222222\n",
            " 0.99444444 0.98324022 0.98324022 0.96648045]\n",
            "\n",
            " Average score_lr                       0.9493544382371197\n"
          ]
        }
      ]
    },
    {
      "cell_type": "code",
      "source": [
        "knn_range = list(range(1, 12))\n",
        "knn_score = []\n",
        "\n",
        "for k in knn_range:\n",
        "  knn = KNeighborsClassifier(n_neighbors=k)\n",
        "  k_score = cross_val_score(knn, digit_data['data'], digit_data['target'], cv=10, scoring='accuracy')\n",
        "  knn_score.append(k_score.mean())\n",
        "\n",
        "print(\"\\nKNeighborsClassifier with different neighors\")\n",
        "print(\"Knn range\\tKnn score\")\n",
        "\n",
        "# print(\"\\n Knn score\")\n",
        "# print(\"%.3f\" % knn_score)\n",
        "round_off = ['%.3f' % score for score in  knn_score]\n",
        "# print(\"{:.2f}\".format(round(knn_score, 2)))\n",
        "\n",
        "# print(len(round_off))\n",
        "for k in range(1, len(round_off)):\n",
        "  # print(\"\".ljust(4, ''), round_off[k], end='')\n",
        "  print(k,\"\\t\\t\",round_off[k])\n",
        "\n",
        "# for k in knn_range:\n",
        "#   # print(\"\".ljust(6, ' '), k, end='')\n",
        "#   print(k,\"\\t\",round_off[k])\n",
        "# print(round_off)\n",
        "\n",
        "\n"
      ],
      "metadata": {
        "colab": {
          "base_uri": "https://localhost:8080/"
        },
        "id": "1p7N4FxYcc0F",
        "outputId": "33a706ff-3196-49dc-91ab-2926568d33d6"
      },
      "execution_count": 16,
      "outputs": [
        {
          "output_type": "stream",
          "name": "stdout",
          "text": [
            "\n",
            "KNeighborsClassifier with different neighors\n",
            "Knn range\tKnn score\n",
            "1 \t\t 0.974\n",
            "2 \t\t 0.977\n",
            "3 \t\t 0.972\n",
            "4 \t\t 0.972\n",
            "5 \t\t 0.968\n",
            "6 \t\t 0.968\n",
            "7 \t\t 0.965\n",
            "8 \t\t 0.965\n",
            "9 \t\t 0.962\n",
            "10 \t\t 0.964\n"
          ]
        }
      ]
    },
    {
      "cell_type": "markdown",
      "source": [
        "# Visualization by using Matplotlib"
      ],
      "metadata": {
        "id": "hNAAgAL4ebSk"
      }
    },
    {
      "cell_type": "code",
      "source": [
        "%matplotlib inline\n",
        "plt.plot(knn_range, knn_score)\n",
        "plt.title(\"Accuracy of KNeighborsClassifier on different K range\")\n",
        "plt.xlabel(\"Range of K for KNeighborsClassifier\")\n",
        "plt.ylabel(\"Cross Validation Accuracy Score as per K\")\n",
        "# plt.grid(color='r', linestyle='-', linewidth=1, animated=False)\n",
        "plt.grid(c='g', ls='-', lw=1, fillstyle='full')"
      ],
      "metadata": {
        "colab": {
          "base_uri": "https://localhost:8080/",
          "height": 472
        },
        "id": "C7SlOe-tgSBx",
        "outputId": "55220a8b-1682-4ed6-d059-5a1a8120f65f"
      },
      "execution_count": 17,
      "outputs": [
        {
          "output_type": "display_data",
          "data": {
            "text/plain": [
              "<Figure size 640x480 with 1 Axes>"
            ],
            "image/png": "[encoded data removed]"
          },
          "metadata": {}
        }
      ]
    }
  ]
}