{
  "nbformat": 4,
  "nbformat_minor": 0,
  "metadata": {
    "colab": {
      "provenance": []
    },
    "kernelspec": {
      "name": "python3",
      "display_name": "Python 3"
    },
    "language_info": {
      "name": "python"
    }
  },
  "cells": [
    {
      "cell_type": "markdown",
      "source": [
        "Flutter implementation of image classification mobile app using **TensorFlow Lite** (cross-platform). Flutter allows you to build apps for both Android and iOS with a single codebase. We’ll use the **tflite_flutter** and **camera** packages to achieve real-time inference."
      ],
      "metadata": {
        "id": "WoJOuv6cl0vS"
      }
    },
    {
      "cell_type": "markdown",
      "source": [
        "https://chat.deepseek.com/a/chat/s/6ebdd646-64db-4451-b530-07fea1dc067e"
      ],
      "metadata": {
        "id": "9EgFFgdUlgzt"
      }
    },
    {
      "cell_type": "code",
      "execution_count": null,
      "metadata": {
        "id": "KdPDnxAulTBw"
      },
      "outputs": [],
      "source": []
    }
  ]
}