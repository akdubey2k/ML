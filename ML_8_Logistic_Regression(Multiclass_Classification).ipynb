{
  "nbformat": 4,
  "nbformat_minor": 0,
  "metadata": {
    "colab": {
      "provenance": []
    },
    "kernelspec": {
      "name": "python3",
      "display_name": "Python 3"
    },
    "language_info": {
      "name": "python"
    }
  },
  "cells": [
    {
      "cell_type": "markdown",
      "source": [
        "# 1. Definition\n",
        "A **multi-class classification** is a *classification technique that allows us to categorize data* with **more than two class labels.**\n",
        "\n",
        "**Logistic regression** is a statistical method used for **binary classification,** which predicts the probability that a given input belongs to **one of two possible categories.** When dealing with **multiclass classification,** where there are **more than two classes,** logistic regression can be extended using techniques such as:"
      ],
      "metadata": {
        "id": "ERnFe48F20VP"
      }
    },
    {
      "cell_type": "markdown",
      "source": [
        "### A. One-vs-Rest (OvR) or One-vs-All (OvA):\n",
        "* This approach involves training a **separate binary classifier for each class.** <br>\n",
        "* For **each classifier, one class is treated as the positive class,** and all **other classes are treated as the negative class.**\n",
        "* During prediction, the **class with the highest probability** is chosen as the final prediction.\n",
        "\n",
        "### B. Multinomial Logistic Regression:\n",
        "* Also known as **Softmax Regression,** this approach generalizes logistic regression to handle multiple classes directly.\n",
        "* Instead of using a **single sigmoid function,** it uses the **softmax function** to **predict the probabilities of each class.**\n",
        "* The **softmax function** ensures that the **sum of the predicted probabilities for all classes is equal to 1.**\n"
      ],
      "metadata": {
        "id": "lIgEaM175fys"
      }
    },
    {
      "cell_type": "markdown",
      "source": [
        "# 2. Import libraries"
      ],
      "metadata": {
        "id": "RyzNhHWi65N0"
      }
    },
    {
      "cell_type": "code",
      "execution_count": 1,
      "metadata": {
        "id": "sUr3E3o-2p2i"
      },
      "outputs": [],
      "source": [
        "from sklearn.datasets import load_digits\n",
        "import matplotlib.pyplot as plt"
      ]
    },
    {
      "cell_type": "markdown",
      "source": [
        "# 3. Load dataset\n",
        "## the digit data base from *sklearn* library\n",
        "## Each datapoint is a 8x8 image of a digit.\n",
        "\n",
        "### from pixel_0_0 to pixel_0_7 like that\n",
        "#### pixel_1_0 to pixel_1_7\n",
        "#### . . .\n",
        "#### pixel_7_0 to pixel_7_7\n"
      ],
      "metadata": {
        "id": "oiyt7kpu8VaB"
      }
    },
    {
      "cell_type": "code",
      "source": [
        "digits = load_digits()\n",
        "dir(digits)"
      ],
      "metadata": {
        "colab": {
          "base_uri": "https://localhost:8080/"
        },
        "id": "yUWhrykT3P17",
        "outputId": "b827fae2-f74b-4aaa-85a8-8750bf23d4b8"
      },
      "execution_count": 2,
      "outputs": [
        {
          "output_type": "execute_result",
          "data": {
            "text/plain": [
              "['DESCR', 'data', 'feature_names', 'frame', 'images', 'target', 'target_names']"
            ]
          },
          "metadata": {},
          "execution_count": 2
        }
      ]
    },
    {
      "cell_type": "code",
      "source": [
        "len(digits.feature_names)"
      ],
      "metadata": {
        "colab": {
          "base_uri": "https://localhost:8080/"
        },
        "id": "hvCej5fwjF8R",
        "outputId": "d9649b4c-a1d2-4ad8-efbc-4bce724a3c20"
      },
      "execution_count": 3,
      "outputs": [
        {
          "output_type": "execute_result",
          "data": {
            "text/plain": [
              "64"
            ]
          },
          "metadata": {},
          "execution_count": 3
        }
      ]
    },
    {
      "cell_type": "code",
      "source": [
        "len(digits.data)"
      ],
      "metadata": {
        "colab": {
          "base_uri": "https://localhost:8080/"
        },
        "id": "2AdfIOnx3V6b",
        "outputId": "ca41fcef-bb7e-45d7-aba9-1cd08dec2863"
      },
      "execution_count": 4,
      "outputs": [
        {
          "output_type": "execute_result",
          "data": {
            "text/plain": [
              "1797"
            ]
          },
          "metadata": {},
          "execution_count": 4
        }
      ]
    },
    {
      "cell_type": "code",
      "source": [
        "len(digits.target)"
      ],
      "metadata": {
        "colab": {
          "base_uri": "https://localhost:8080/"
        },
        "id": "Ytr0PXrc3nAp",
        "outputId": "56122a87-0ce0-4de0-94a2-f1bbdb34604f"
      },
      "execution_count": 5,
      "outputs": [
        {
          "output_type": "execute_result",
          "data": {
            "text/plain": [
              "1797"
            ]
          },
          "metadata": {},
          "execution_count": 5
        }
      ]
    },
    {
      "cell_type": "code",
      "source": [
        "len(digits.target_names)"
      ],
      "metadata": {
        "colab": {
          "base_uri": "https://localhost:8080/"
        },
        "id": "mSe-pdwr4E9X",
        "outputId": "438a0bcb-4f9b-4616-f12b-9bd3c3c432f7"
      },
      "execution_count": 6,
      "outputs": [
        {
          "output_type": "execute_result",
          "data": {
            "text/plain": [
              "10"
            ]
          },
          "metadata": {},
          "execution_count": 6
        }
      ]
    },
    {
      "cell_type": "code",
      "source": [
        "digits.target_names"
      ],
      "metadata": {
        "colab": {
          "base_uri": "https://localhost:8080/"
        },
        "id": "m4aYqWIL4KXb",
        "outputId": "cb3f5720-59c5-4ea5-b380-e290ac57daa2"
      },
      "execution_count": 7,
      "outputs": [
        {
          "output_type": "execute_result",
          "data": {
            "text/plain": [
              "array([0, 1, 2, 3, 4, 5, 6, 7, 8, 9])"
            ]
          },
          "metadata": {},
          "execution_count": 7
        }
      ]
    },
    {
      "cell_type": "code",
      "source": [
        "%matplotlib inline\n",
        "for i in range(3):\n",
        "  plt.matshow(digits.images[i])"
      ],
      "metadata": {
        "colab": {
          "base_uri": "https://localhost:8080/",
          "height": 1000
        },
        "id": "5mYhDwWc47t2",
        "outputId": "e9a0cace-e633-4359-91b6-237fa275ad11"
      },
      "execution_count": 8,
      "outputs": [
        {
          "output_type": "display_data",
          "data": {
            "text/plain": [
              "<Figure size 480x480 with 1 Axes>"
            ],
            "image/png": "[encoded data removed]"
          },
          "metadata": {}
        },
        {
          "output_type": "display_data",
          "data": {
            "text/plain": [
              "<Figure size 480x480 with 1 Axes>"
            ],
            "image/png": "[encoded data removed]"
          },
          "metadata": {}
        },
        {
          "output_type": "display_data",
          "data": {
            "text/plain": [
              "<Figure size 480x480 with 1 Axes>"
            ],
            "image/png": "[encoded data removed]"
          },
          "metadata": {}
        }
      ]
    },
    {
      "cell_type": "code",
      "source": [
        "plt.gray()\n",
        "for i in range(3):\n",
        "  plt.matshow(digits.images[i])"
      ],
      "metadata": {
        "colab": {
          "base_uri": "https://localhost:8080/",
          "height": 1000
        },
        "id": "wmxAsBwi5Swv",
        "outputId": "3f44665d-2b8e-43d4-c4d9-f5ffc837c3df"
      },
      "execution_count": 9,
      "outputs": [
        {
          "output_type": "display_data",
          "data": {
            "text/plain": [
              "<Figure size 640x480 with 0 Axes>"
            ]
          },
          "metadata": {}
        },
        {
          "output_type": "display_data",
          "data": {
            "text/plain": [
              "<Figure size 480x480 with 1 Axes>"
            ],
            "image/png": "[encoded data removed]"
          },
          "metadata": {}
        },
        {
          "output_type": "display_data",
          "data": {
            "text/plain": [
              "<Figure size 480x480 with 1 Axes>"
            ],
            "image/png": "[encoded data removed]"
          },
          "metadata": {}
        },
        {
          "output_type": "display_data",
          "data": {
            "text/plain": [
              "<Figure size 480x480 with 1 Axes>"
            ],
            "image/png": "[encoded data removed]"
          },
          "metadata": {}
        }
      ]
    },
    {
      "cell_type": "code",
      "source": [
        "#for i in range(3):\n",
        "digits.target[0:3]"
      ],
      "metadata": {
        "colab": {
          "base_uri": "https://localhost:8080/"
        },
        "id": "xkvrytAR5_QE",
        "outputId": "bacf2931-8bc2-4a0a-c573-1522dbd9b16a"
      },
      "execution_count": 10,
      "outputs": [
        {
          "output_type": "execute_result",
          "data": {
            "text/plain": [
              "array([0, 1, 2])"
            ]
          },
          "metadata": {},
          "execution_count": 10
        }
      ]
    },
    {
      "cell_type": "markdown",
      "source": [
        "## Create and train the dataset using Logistic Regression model"
      ],
      "metadata": {
        "id": "6GyTbbzI93ML"
      }
    },
    {
      "cell_type": "code",
      "source": [
        "from sklearn.linear_model import LogisticRegression\n",
        "from sklearn.model_selection import train_test_split"
      ],
      "metadata": {
        "id": "MIndIhjv57n7"
      },
      "execution_count": 11,
      "outputs": []
    },
    {
      "cell_type": "code",
      "source": [
        "X_train, X_test, y_train, y_test = train_test_split(digits.data, digits.target, test_size=0.25)"
      ],
      "metadata": {
        "id": "cR1gUnqV6VZ9"
      },
      "execution_count": 12,
      "outputs": []
    },
    {
      "cell_type": "code",
      "source": [
        "len(X_train)"
      ],
      "metadata": {
        "colab": {
          "base_uri": "https://localhost:8080/"
        },
        "id": "iiRQ3lmm6-Ra",
        "outputId": "5b3301a0-6766-46e1-9ad5-10ae15b1007e"
      },
      "execution_count": 13,
      "outputs": [
        {
          "output_type": "execute_result",
          "data": {
            "text/plain": [
              "1347"
            ]
          },
          "metadata": {},
          "execution_count": 13
        }
      ]
    },
    {
      "cell_type": "code",
      "source": [
        "len(X_test)"
      ],
      "metadata": {
        "colab": {
          "base_uri": "https://localhost:8080/"
        },
        "id": "_kYksahB7KbV",
        "outputId": "b9a92ce7-7d2b-40f4-d826-8bc3117a354f"
      },
      "execution_count": 14,
      "outputs": [
        {
          "output_type": "execute_result",
          "data": {
            "text/plain": [
              "450"
            ]
          },
          "metadata": {},
          "execution_count": 14
        }
      ]
    },
    {
      "cell_type": "code",
      "source": [
        "X_train[0:3]"
      ],
      "metadata": {
        "colab": {
          "base_uri": "https://localhost:8080/"
        },
        "id": "YWz0kurF7Ot7",
        "outputId": "c95b5f40-219d-40b5-9d13-c50e15b0894c"
      },
      "execution_count": 15,
      "outputs": [
        {
          "output_type": "execute_result",
          "data": {
            "text/plain": [
              "array([[ 0.,  0.,  0.,  6., 14.,  3.,  0.,  0.,  0.,  0.,  2., 16., 11.,\n",
              "         0.,  0.,  0.,  0.,  0., 11., 15.,  2.,  0.,  0.,  0.,  0.,  1.,\n",
              "        15., 13.,  2.,  0.,  0.,  0.,  0.,  3., 16., 16., 16.,  7.,  0.,\n",
              "         0.,  0.,  4., 16., 14.,  8., 13.,  7.,  0.,  0.,  0., 12., 16.,\n",
              "         5., 12., 10.,  0.,  0.,  0.,  0.,  8., 14., 13.,  5.,  0.],\n",
              "       [ 0.,  0.,  0.,  3., 12., 16., 15.,  1.,  0.,  0.,  3., 16.,  9.,\n",
              "        10., 16.,  0.,  0.,  0., 14., 13.,  7., 15., 10.,  0.,  0.,  2.,\n",
              "        16., 16., 16., 16.,  2.,  0.,  0.,  2., 12.,  9., 13.,  8.,  0.,\n",
              "         0.,  0.,  0.,  0.,  0., 15.,  5.,  0.,  0.,  0.,  0.,  0.,  3.,\n",
              "        16.,  1.,  0.,  0.,  0.,  0.,  0.,  3., 14.,  1.,  0.,  0.],\n",
              "       [ 0.,  0.,  0.,  8., 14.,  9.,  0.,  0.,  0.,  0.,  9., 15., 16.,\n",
              "        15.,  0.,  0.,  0.,  4., 15.,  5.,  8., 14.,  0.,  0.,  0.,  8.,\n",
              "        14.,  1., 14.,  7.,  0.,  0.,  0.,  1., 15., 13., 12.,  0.,  0.,\n",
              "         0.,  0.,  0., 13., 16., 13.,  0.,  0.,  0.,  0.,  0., 12., 10.,\n",
              "        15.,  7.,  0.,  0.,  0.,  0.,  2., 10., 16.,  5.,  0.,  0.]])"
            ]
          },
          "metadata": {},
          "execution_count": 15
        }
      ]
    },
    {
      "cell_type": "code",
      "source": [
        "y_train[0:3]"
      ],
      "metadata": {
        "colab": {
          "base_uri": "https://localhost:8080/"
        },
        "id": "KaBX0sAq7bP_",
        "outputId": "dbf68d50-d9bb-4e2d-ddff-59ff7ec23434"
      },
      "execution_count": 16,
      "outputs": [
        {
          "output_type": "execute_result",
          "data": {
            "text/plain": [
              "array([6, 9, 8])"
            ]
          },
          "metadata": {},
          "execution_count": 16
        }
      ]
    },
    {
      "cell_type": "code",
      "source": [
        "X_test[0:3]"
      ],
      "metadata": {
        "colab": {
          "base_uri": "https://localhost:8080/"
        },
        "id": "o3jLKSd87V7V",
        "outputId": "72e5d4d4-cfb3-439e-bec4-d25423c3214c"
      },
      "execution_count": 17,
      "outputs": [
        {
          "output_type": "execute_result",
          "data": {
            "text/plain": [
              "array([[ 0.,  0.,  0.,  0.,  7.,  6.,  0.,  0.,  0.,  0.,  0.,  6., 15.,\n",
              "         6.,  0.,  0.,  0.,  0.,  1., 15.,  5., 14.,  3.,  0.,  0.,  0.,\n",
              "        12.,  8.,  4., 16.,  0.,  0.,  0.,  5., 16.,  9., 10., 16.,  4.,\n",
              "         0.,  0.,  1., 11., 12., 14., 14.,  4.,  0.,  0.,  0.,  0.,  0.,\n",
              "         8.,  8.,  0.,  0.,  0.,  0.,  0.,  0., 11.,  7.,  0.,  0.],\n",
              "       [ 0.,  0.,  4., 15., 16., 11.,  0.,  0.,  0.,  0.,  7.,  9.,  9.,\n",
              "        16.,  0.,  0.,  0.,  0.,  0.,  0.,  4., 13.,  0.,  0.,  0.,  0.,\n",
              "         1.,  9., 15., 16., 10.,  0.,  0.,  0., 13., 15., 16.,  8.,  2.,\n",
              "         0.,  0.,  0.,  3.,  7., 13.,  0.,  0.,  0.,  0.,  0.,  1., 13.,\n",
              "         4.,  0.,  0.,  0.,  0.,  0.,  6., 11.,  0.,  0.,  0.,  0.],\n",
              "       [ 0.,  4., 16., 16.,  3.,  0.,  0.,  0.,  0., 11., 14., 11., 11.,\n",
              "         0.,  0.,  0.,  0., 11.,  7.,  2., 16.,  1.,  0.,  0.,  0.,  0.,\n",
              "         0.,  3., 16.,  0.,  0.,  0.,  0.,  0.,  0., 10., 12.,  0.,  0.,\n",
              "         0.,  0.,  0.,  3., 16.,  8.,  5.,  3.,  0.,  0.,  0., 12., 16.,\n",
              "        16., 16., 16.,  0.,  0.,  3., 16., 15.,  8.,  7.,  4.,  0.]])"
            ]
          },
          "metadata": {},
          "execution_count": 17
        }
      ]
    },
    {
      "cell_type": "code",
      "source": [
        "y_test[0:3]"
      ],
      "metadata": {
        "colab": {
          "base_uri": "https://localhost:8080/"
        },
        "id": "nnp_dc_Z7gGR",
        "outputId": "59ad26bf-81b7-495b-8231-c47117fea590"
      },
      "execution_count": 18,
      "outputs": [
        {
          "output_type": "execute_result",
          "data": {
            "text/plain": [
              "array([4, 7, 2])"
            ]
          },
          "metadata": {},
          "execution_count": 18
        }
      ]
    },
    {
      "cell_type": "code",
      "source": [
        "digits.data[0:3]"
      ],
      "metadata": {
        "colab": {
          "base_uri": "https://localhost:8080/"
        },
        "id": "iAHNYPEL76U6",
        "outputId": "e3b7e436-efae-4080-977b-4060c701c2b0"
      },
      "execution_count": 19,
      "outputs": [
        {
          "output_type": "execute_result",
          "data": {
            "text/plain": [
              "array([[ 0.,  0.,  5., 13.,  9.,  1.,  0.,  0.,  0.,  0., 13., 15., 10.,\n",
              "        15.,  5.,  0.,  0.,  3., 15.,  2.,  0., 11.,  8.,  0.,  0.,  4.,\n",
              "        12.,  0.,  0.,  8.,  8.,  0.,  0.,  5.,  8.,  0.,  0.,  9.,  8.,\n",
              "         0.,  0.,  4., 11.,  0.,  1., 12.,  7.,  0.,  0.,  2., 14.,  5.,\n",
              "        10., 12.,  0.,  0.,  0.,  0.,  6., 13., 10.,  0.,  0.,  0.],\n",
              "       [ 0.,  0.,  0., 12., 13.,  5.,  0.,  0.,  0.,  0.,  0., 11., 16.,\n",
              "         9.,  0.,  0.,  0.,  0.,  3., 15., 16.,  6.,  0.,  0.,  0.,  7.,\n",
              "        15., 16., 16.,  2.,  0.,  0.,  0.,  0.,  1., 16., 16.,  3.,  0.,\n",
              "         0.,  0.,  0.,  1., 16., 16.,  6.,  0.,  0.,  0.,  0.,  1., 16.,\n",
              "        16.,  6.,  0.,  0.,  0.,  0.,  0., 11., 16., 10.,  0.,  0.],\n",
              "       [ 0.,  0.,  0.,  4., 15., 12.,  0.,  0.,  0.,  0.,  3., 16., 15.,\n",
              "        14.,  0.,  0.,  0.,  0.,  8., 13.,  8., 16.,  0.,  0.,  0.,  0.,\n",
              "         1.,  6., 15., 11.,  0.,  0.,  0.,  1.,  8., 13., 15.,  1.,  0.,\n",
              "         0.,  0.,  9., 16., 16.,  5.,  0.,  0.,  0.,  0.,  3., 13., 16.,\n",
              "        16., 11.,  5.,  0.,  0.,  0.,  0.,  3., 11., 16.,  9.,  0.]])"
            ]
          },
          "metadata": {},
          "execution_count": 19
        }
      ]
    },
    {
      "cell_type": "code",
      "source": [
        "digits.target[0:3]"
      ],
      "metadata": {
        "colab": {
          "base_uri": "https://localhost:8080/"
        },
        "id": "CvoTXqR979ev",
        "outputId": "71e518b6-4f81-431d-a1d2-742810715969"
      },
      "execution_count": 20,
      "outputs": [
        {
          "output_type": "execute_result",
          "data": {
            "text/plain": [
              "array([0, 1, 2])"
            ]
          },
          "metadata": {},
          "execution_count": 20
        }
      ]
    },
    {
      "cell_type": "code",
      "source": [
        "digits.target_names[0:3]"
      ],
      "metadata": {
        "colab": {
          "base_uri": "https://localhost:8080/"
        },
        "id": "FCP4NvvV8EmW",
        "outputId": "370cd037-cbfb-43bb-bf9d-5e86f94c1c12"
      },
      "execution_count": 21,
      "outputs": [
        {
          "output_type": "execute_result",
          "data": {
            "text/plain": [
              "array([0, 1, 2])"
            ]
          },
          "metadata": {},
          "execution_count": 21
        }
      ]
    },
    {
      "cell_type": "code",
      "source": [
        "model = LogisticRegression()\n",
        "model.fit(X_train, y_train)"
      ],
      "metadata": {
        "colab": {
          "base_uri": "https://localhost:8080/",
          "height": 219
        },
        "id": "DhwqdfDL8O9d",
        "outputId": "a0560819-3ed3-478a-c3fe-a75bbb2f67de"
      },
      "execution_count": 22,
      "outputs": [
        {
          "output_type": "stream",
          "name": "stderr",
          "text": [
            "/usr/local/lib/python3.10/dist-packages/sklearn/linear_model/_logistic.py:458: ConvergenceWarning: lbfgs failed to converge (status=1):\n",
            "STOP: TOTAL NO. of ITERATIONS REACHED LIMIT.\n",
            "\n",
            "Increase the number of iterations (max_iter) or scale the data as shown in:\n",
            "    https://scikit-learn.org/stable/modules/preprocessing.html\n",
            "Please also refer to the documentation for alternative solver options:\n",
            "    https://scikit-learn.org/stable/modules/linear_model.html#logistic-regression\n",
            "  n_iter_i = _check_optimize_result(\n"
          ]
        },
        {
          "output_type": "execute_result",
          "data": {
            "text/plain": [
              "LogisticRegression()"
            ],
            "text/html": [
              "<style>#sk-container-id-1 {color: black;background-color: white;}#sk-container-id-1 pre{padding: 0;}#sk-container-id-1 div.sk-toggleable {background-color: white;}#sk-container-id-1 label.sk-toggleable__label {cursor: pointer;display: block;width: 100%;margin-bottom: 0;padding: 0.3em;box-sizing: border-box;text-align: center;}#sk-container-id-1 label.sk-toggleable__label-arrow:before {content: \"▸\";float: left;margin-right: 0.25em;color: #696969;}#sk-container-id-1 label.sk-toggleable__label-arrow:hover:before {color: black;}#sk-container-id-1 div.sk-estimator:hover label.sk-toggleable__label-arrow:before {color: black;}#sk-container-id-1 div.sk-toggleable__content {max-height: 0;max-width: 0;overflow: hidden;text-align: left;background-color: #f0f8ff;}#sk-container-id-1 div.sk-toggleable__content pre {margin: 0.2em;color: black;border-radius: 0.25em;background-color: #f0f8ff;}#sk-container-id-1 input.sk-toggleable__control:checked~div.sk-toggleable__content {max-height: 200px;max-width: 100%;overflow: auto;}#sk-container-id-1 input.sk-toggleable__control:checked~label.sk-toggleable__label-arrow:before {content: \"▾\";}#sk-container-id-1 div.sk-estimator input.sk-toggleable__control:checked~label.sk-toggleable__label {background-color: #d4ebff;}#sk-container-id-1 div.sk-label input.sk-toggleable__control:checked~label.sk-toggleable__label {background-color: #d4ebff;}#sk-container-id-1 input.sk-hidden--visually {border: 0;clip: rect(1px 1px 1px 1px);clip: rect(1px, 1px, 1px, 1px);height: 1px;margin: -1px;overflow: hidden;padding: 0;position: absolute;width: 1px;}#sk-container-id-1 div.sk-estimator {font-family: monospace;background-color: #f0f8ff;border: 1px dotted black;border-radius: 0.25em;box-sizing: border-box;margin-bottom: 0.5em;}#sk-container-id-1 div.sk-estimator:hover {background-color: #d4ebff;}#sk-container-id-1 div.sk-parallel-item::after {content: \"\";width: 100%;border-bottom: 1px solid gray;flex-grow: 1;}#sk-container-id-1 div.sk-label:hover label.sk-toggleable__label {background-color: #d4ebff;}#sk-container-id-1 div.sk-serial::before {content: \"\";position: absolute;border-left: 1px solid gray;box-sizing: border-box;top: 0;bottom: 0;left: 50%;z-index: 0;}#sk-container-id-1 div.sk-serial {display: flex;flex-direction: column;align-items: center;background-color: white;padding-right: 0.2em;padding-left: 0.2em;position: relative;}#sk-container-id-1 div.sk-item {position: relative;z-index: 1;}#sk-container-id-1 div.sk-parallel {display: flex;align-items: stretch;justify-content: center;background-color: white;position: relative;}#sk-container-id-1 div.sk-item::before, #sk-container-id-1 div.sk-parallel-item::before {content: \"\";position: absolute;border-left: 1px solid gray;box-sizing: border-box;top: 0;bottom: 0;left: 50%;z-index: -1;}#sk-container-id-1 div.sk-parallel-item {display: flex;flex-direction: column;z-index: 1;position: relative;background-color: white;}#sk-container-id-1 div.sk-parallel-item:first-child::after {align-self: flex-end;width: 50%;}#sk-container-id-1 div.sk-parallel-item:last-child::after {align-self: flex-start;width: 50%;}#sk-container-id-1 div.sk-parallel-item:only-child::after {width: 0;}#sk-container-id-1 div.sk-dashed-wrapped {border: 1px dashed gray;margin: 0 0.4em 0.5em 0.4em;box-sizing: border-box;padding-bottom: 0.4em;background-color: white;}#sk-container-id-1 div.sk-label label {font-family: monospace;font-weight: bold;display: inline-block;line-height: 1.2em;}#sk-container-id-1 div.sk-label-container {text-align: center;}#sk-container-id-1 div.sk-container {/* jupyter's `normalize.less` sets `[hidden] { display: none; }` but bootstrap.min.css set `[hidden] { display: none !important; }` so we also need the `!important` here to be able to override the default hidden behavior on the sphinx rendered scikit-learn.org. See: https://github.com/scikit-learn/scikit-learn/issues/21755 */display: inline-block !important;position: relative;}#sk-container-id-1 div.sk-text-repr-fallback {display: none;}</style><div id=\"sk-container-id-1\" class=\"sk-top-container\"><div class=\"sk-text-repr-fallback\"><pre>LogisticRegression()</pre><b>In a Jupyter environment, please rerun this cell to show the HTML representation or trust the notebook. <br />On GitHub, the HTML representation is unable to render, please try loading this page with nbviewer.org.</b></div><div class=\"sk-container\" hidden><div class=\"sk-item\"><div class=\"sk-estimator sk-toggleable\"><input class=\"sk-toggleable__control sk-hidden--visually\" id=\"sk-estimator-id-1\" type=\"checkbox\" checked><label for=\"sk-estimator-id-1\" class=\"sk-toggleable__label sk-toggleable__label-arrow\">LogisticRegression</label><div class=\"sk-toggleable__content\"><pre>LogisticRegression()</pre></div></div></div></div></div>"
            ]
          },
          "metadata": {},
          "execution_count": 22
        }
      ]
    },
    {
      "cell_type": "code",
      "source": [
        "model.predict(X_test)"
      ],
      "metadata": {
        "colab": {
          "base_uri": "https://localhost:8080/"
        },
        "id": "XcKq6R869AMQ",
        "outputId": "c3558d14-a437-4c7f-89fd-c7b9c1b349f0"
      },
      "execution_count": 23,
      "outputs": [
        {
          "output_type": "execute_result",
          "data": {
            "text/plain": [
              "array([4, 7, 2, 3, 9, 4, 9, 5, 3, 3, 2, 0, 6, 3, 5, 2, 1, 6, 6, 4, 8, 0,\n",
              "       2, 5, 9, 7, 9, 4, 1, 2, 1, 2, 9, 7, 7, 5, 6, 9, 9, 8, 2, 5, 8, 9,\n",
              "       5, 9, 8, 7, 5, 5, 9, 2, 8, 3, 9, 2, 7, 7, 0, 2, 8, 3, 3, 4, 1, 2,\n",
              "       2, 0, 6, 5, 4, 7, 0, 6, 9, 9, 8, 7, 0, 8, 8, 5, 1, 6, 9, 9, 2, 7,\n",
              "       6, 6, 0, 6, 3, 8, 3, 5, 4, 5, 0, 5, 2, 5, 1, 8, 5, 2, 0, 0, 7, 7,\n",
              "       6, 6, 3, 2, 0, 0, 7, 6, 7, 4, 6, 0, 8, 3, 6, 9, 5, 9, 8, 9, 2, 4,\n",
              "       0, 2, 3, 4, 8, 8, 4, 2, 0, 5, 1, 6, 9, 4, 4, 3, 2, 2, 3, 5, 3, 2,\n",
              "       9, 1, 6, 5, 0, 3, 7, 4, 7, 7, 5, 0, 3, 9, 2, 1, 2, 7, 4, 8, 0, 7,\n",
              "       6, 1, 7, 8, 0, 1, 4, 0, 4, 8, 2, 6, 2, 1, 4, 7, 7, 5, 9, 8, 8, 8,\n",
              "       3, 1, 9, 0, 9, 3, 2, 0, 8, 4, 6, 8, 7, 0, 2, 3, 8, 4, 1, 4, 3, 0,\n",
              "       5, 9, 0, 3, 0, 9, 6, 8, 4, 0, 9, 9, 8, 0, 3, 0, 0, 3, 7, 0, 4, 0,\n",
              "       0, 7, 9, 2, 5, 2, 4, 9, 7, 2, 8, 5, 0, 3, 6, 9, 7, 7, 8, 3, 1, 4,\n",
              "       4, 0, 8, 9, 9, 8, 7, 0, 1, 3, 3, 8, 3, 1, 6, 6, 6, 3, 5, 6, 6, 9,\n",
              "       2, 9, 1, 2, 3, 2, 7, 0, 7, 1, 1, 4, 4, 1, 9, 2, 1, 2, 4, 5, 5, 1,\n",
              "       8, 9, 8, 2, 6, 3, 5, 8, 6, 6, 3, 1, 1, 9, 3, 4, 8, 3, 4, 4, 8, 7,\n",
              "       0, 8, 7, 1, 9, 4, 9, 6, 7, 4, 1, 4, 0, 0, 5, 9, 1, 6, 5, 3, 5, 2,\n",
              "       2, 6, 0, 3, 5, 5, 6, 6, 3, 6, 2, 4, 2, 0, 6, 4, 4, 4, 1, 8, 6, 4,\n",
              "       3, 0, 4, 2, 1, 3, 3, 6, 8, 3, 7, 8, 9, 7, 7, 8, 5, 1, 2, 6, 8, 2,\n",
              "       3, 8, 7, 5, 1, 9, 1, 9, 9, 7, 4, 5, 1, 2, 6, 3, 2, 1, 3, 1, 9, 5,\n",
              "       2, 2, 3, 1, 9, 8, 9, 2, 6, 0, 5, 4, 9, 7, 5, 2, 6, 1, 7, 9, 6, 0,\n",
              "       8, 8, 6, 4, 2, 5, 1, 3, 3, 6])"
            ]
          },
          "metadata": {},
          "execution_count": 23
        }
      ]
    },
    {
      "cell_type": "code",
      "source": [
        "model.score(X_test, y_test)"
      ],
      "metadata": {
        "colab": {
          "base_uri": "https://localhost:8080/"
        },
        "id": "QMosuOuv9o4q",
        "outputId": "b8f1d184-cf1d-43bb-a8d2-5309fafd130f"
      },
      "execution_count": 24,
      "outputs": [
        {
          "output_type": "execute_result",
          "data": {
            "text/plain": [
              "0.9644444444444444"
            ]
          },
          "metadata": {},
          "execution_count": 24
        }
      ]
    },
    {
      "cell_type": "code",
      "source": [
        "model.predict([digits.data[2]])"
      ],
      "metadata": {
        "colab": {
          "base_uri": "https://localhost:8080/"
        },
        "id": "NnKFc_a47XYL",
        "outputId": "fe281e55-e69c-4a42-8209-71e058b076c0"
      },
      "execution_count": 25,
      "outputs": [
        {
          "output_type": "execute_result",
          "data": {
            "text/plain": [
              "array([2])"
            ]
          },
          "metadata": {},
          "execution_count": 25
        }
      ]
    },
    {
      "cell_type": "code",
      "source": [
        "model.predict(digits.data[0:3])"
      ],
      "metadata": {
        "colab": {
          "base_uri": "https://localhost:8080/"
        },
        "id": "NwGjNvuc-dgG",
        "outputId": "66e295af-9e5b-45ea-bda9-383639f861c8"
      },
      "execution_count": 26,
      "outputs": [
        {
          "output_type": "execute_result",
          "data": {
            "text/plain": [
              "array([0, 1, 2])"
            ]
          },
          "metadata": {},
          "execution_count": 26
        }
      ]
    },
    {
      "cell_type": "code",
      "source": [
        "y_pred = model.predict(X_test)"
      ],
      "metadata": {
        "id": "d19lYL40-zgK"
      },
      "execution_count": 27,
      "outputs": []
    },
    {
      "cell_type": "markdown",
      "source": [
        "# Confusion matrix"
      ],
      "metadata": {
        "id": "7524rgdx_DvC"
      }
    },
    {
      "cell_type": "code",
      "source": [
        "from sklearn.metrics import confusion_matrix"
      ],
      "metadata": {
        "id": "ykXs61yB_H7j"
      },
      "execution_count": 28,
      "outputs": []
    },
    {
      "cell_type": "code",
      "source": [
        "cm = confusion_matrix(y_test, y_pred)\n",
        "cm"
      ],
      "metadata": {
        "colab": {
          "base_uri": "https://localhost:8080/"
        },
        "id": "syTJbsc5_WSN",
        "outputId": "09d5f71b-784f-460d-f483-4f1d932f212e"
      },
      "execution_count": 29,
      "outputs": [
        {
          "output_type": "execute_result",
          "data": {
            "text/plain": [
              "array([[45,  0,  0,  0,  0,  0,  0,  0,  0,  0],\n",
              "       [ 0, 36,  0,  0,  0,  0,  0,  0,  1,  1],\n",
              "       [ 0,  0, 51,  0,  0,  0,  0,  0,  0,  0],\n",
              "       [ 0,  0,  0, 46,  0,  0,  0,  0,  1,  2],\n",
              "       [ 0,  1,  0,  0, 43,  0,  0,  0,  0,  1],\n",
              "       [ 0,  0,  0,  1,  0, 40,  0,  0,  0,  3],\n",
              "       [ 0,  0,  0,  0,  0,  0, 46,  0,  0,  0],\n",
              "       [ 0,  0,  0,  0,  1,  0,  0, 41,  0,  0],\n",
              "       [ 0,  2,  0,  1,  0,  0,  0,  0, 43,  0],\n",
              "       [ 0,  0,  0,  0,  0,  0,  0,  0,  1, 43]])"
            ]
          },
          "metadata": {},
          "execution_count": 29
        }
      ]
    },
    {
      "cell_type": "code",
      "source": [
        "import seaborn as sb"
      ],
      "metadata": {
        "id": "kASnZ1Zj_jrl"
      },
      "execution_count": 30,
      "outputs": []
    },
    {
      "cell_type": "code",
      "source": [
        "plt.figure(figsize=(10, 8))\n",
        "sb.heatmap(cm, annot=True)\n",
        "plt.xlabel('Predicted', fontsize=14)\n",
        "plt.ylabel('True', fontsize=14)"
      ],
      "metadata": {
        "colab": {
          "base_uri": "https://localhost:8080/",
          "height": 719
        },
        "id": "YzmLuvtO_oeI",
        "outputId": "b0b2acef-b62c-4cc0-9f5c-8170d8c1a4f8"
      },
      "execution_count": 31,
      "outputs": [
        {
          "output_type": "execute_result",
          "data": {
            "text/plain": [
              "Text(95.72222222222221, 0.5, 'True')"
            ]
          },
          "metadata": {},
          "execution_count": 31
        },
        {
          "output_type": "display_data",
          "data": {
            "text/plain": [
              "<Figure size 1000x800 with 2 Axes>"
            ],
            "image/png": "[encoded data removed]"
          },
          "metadata": {}
        }
      ]
    }
  ]
}